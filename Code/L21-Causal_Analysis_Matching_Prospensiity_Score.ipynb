{
 "cells": [
  {
   "cell_type": "markdown",
   "metadata": {},
   "source": [
    "## L21 Causal Analysis using Matching on Prospensity Score: Founder/family ownership and quality of management"
   ]
  },
  {
   "cell_type": "code",
   "execution_count": 1,
   "metadata": {},
   "outputs": [],
   "source": [
    "import os\n",
    "import sys\n",
    "import warnings\n",
    "\n",
    "import numpy as np\n",
    "import pandas as pd\n",
    "import statsmodels.formula.api as smf\n",
    "from IPython.core.display import HTML\n",
    "from sklearn.neighbors import NearestNeighbors\n",
    "from stargazer.stargazer import Stargazer\n",
    "\n",
    "warnings.filterwarnings(\"ignore\")\n"
   ]
  },
  {
   "cell_type": "code",
   "execution_count": 2,
   "metadata": {},
   "outputs": [],
   "source": [
    "# Current script folder\n",
    "current_path = os.getcwd()\n",
    "dirname = current_path.split(\"da_case_studies\")[0]\n",
    "\n",
    "# location folders\n",
    "data_in = dirname + \"da_data_repo/wms-management-survey/clean/\"\n",
    "data_out = dirname + \"da_case_studies/ch21-ownership-management-quality/\"\n",
    "output = dirname + \"da_case_studies/ch21-ownership-management-quality/output/\"\n",
    "\n",
    "func = dirname + \"da_case_studies/ch00-tech-prep/\"\n",
    "sys.path.append(func)"
   ]
  },
  {
   "cell_type": "code",
   "execution_count": 3,
   "metadata": {},
   "outputs": [],
   "source": [
    "# Import the prewritten helper functions \n",
    "from py_helper_functions import *"
   ]
  },
  {
   "cell_type": "markdown",
   "metadata": {},
   "source": [
    "### Read in data"
   ]
  },
  {
   "cell_type": "code",
   "execution_count": 4,
   "metadata": {},
   "outputs": [],
   "source": [
    "data = pd.read_csv(data_out+\"wms_da_textbook-work.csv\")"
   ]
  },
  {
   "cell_type": "code",
   "execution_count": 5,
   "metadata": {},
   "outputs": [
    {
     "data": {
      "text/plain": [
       "foundfam_owned\n",
       "0.0    3.079595\n",
       "1.0    2.683222\n",
       "Name: management, dtype: float64"
      ]
     },
     "execution_count": 5,
     "metadata": {},
     "output_type": "execute_result"
    }
   ],
   "source": [
    "data.groupby(\"foundfam_owned\").mean()[\"management\"]"
   ]
  },
  {
   "cell_type": "markdown",
   "metadata": {},
   "source": [
    "### Set variables to use"
   ]
  },
  {
   "cell_type": "code",
   "execution_count": 6,
   "metadata": {},
   "outputs": [],
   "source": [
    "y_var = \"management\"\n",
    "x_var = \"foundfam_owned\"\n",
    "\n",
    "control_vars = [\"degree_nm\", \"degree_nm_sq\", \"compet_moder\", \"compet_strong\", \n",
    "                  \"lnemp\", \"age_young\", \"age_old\", \"age_unknown\"]\n",
    "\n",
    "control_vars_to_interact = [\"industry\", \"countrycode\"]"
   ]
  },
  {
   "cell_type": "markdown",
   "metadata": {},
   "source": [
    "## REGRESSIONS"
   ]
  },
  {
   "cell_type": "code",
   "execution_count": 7,
   "metadata": {},
   "outputs": [],
   "source": [
    "# OLS with no control vars.\n",
    "formula1 = y_var + \" ~ \" + x_var\n",
    "ols1 = smf.ols(formula=formula1, data=data).fit()"
   ]
  },
  {
   "cell_type": "code",
   "execution_count": 8,
   "metadata": {},
   "outputs": [],
   "source": [
    "# OLS with all control vars\n",
    "formula2 = (\n",
    "    y_var + \" ~ \" + x_var + \" + \" + \" + \".join(control_vars + control_vars_to_interact)\n",
    ")\n",
    "ols2 = smf.ols(formula=formula2, data=data).fit()"
   ]
  },
  {
   "cell_type": "code",
   "execution_count": 9,
   "metadata": {},
   "outputs": [],
   "source": [
    "# OLS with all controls + interactions\n",
    "formula3 = (\n",
    "    y_var\n",
    "    + \" ~ \"\n",
    "    + x_var\n",
    "    + \"+\"\n",
    "    + \":\".join(control_vars_to_interact)\n",
    "    + \"+(\"\n",
    "    + \"+\".join(control_vars)\n",
    "    + \")*(\"\n",
    "    + \"+\".join(control_vars_to_interact)\n",
    "    + \")\"\n",
    ")\n",
    "ols3 = smf.ols(formula=formula3,data=data).fit()"
   ]
  },
  {
   "cell_type": "code",
   "execution_count": 10,
   "metadata": {},
   "outputs": [
    {
     "data": {
      "text/html": [
       "<table style=\"text-align:center\"><tr><td colspan=\"4\" style=\"border-bottom: 1px solid black\"></td></tr><tr><td style=\"text-align:left\"></td><td colspan=\"3\"><em>Dependent variable:management</em></td></tr><tr><td style=\"text-align:left\"></td><tr><td></td><td colspan=\"1\">No confounders</td><td colspan=\"1\">With confounders</td><td colspan=\"1\">With confounders interacted</td></tr><tr><td colspan=\"4\" style=\"border-bottom: 1px solid black\"></td></tr><tr><td style=\"text-align:left\">foundfam_owned</td><td>-0.40<sup>***</sup></td><td>-0.20<sup>***</sup></td><td>-0.19<sup>***</sup></td></tr><tr><td style=\"text-align:left\"></td><td>(0.01)</td><td>(0.01)</td><td>(0.01)</td></tr><tr><td style=\"text-align:left\">Constant</td><td>3.08<sup>***</sup></td><td>1.73<sup>***</sup></td><td>0.81<sup>***</sup></td></tr><tr><td style=\"text-align:left\"></td><td>(0.01)</td><td>(0.05)</td><td>(0.29)</td></tr><td colspan=\"4\" style=\"border-bottom: 1px solid black\"></td></tr><tr><td style=\"text-align: left\">Observations</td><td>11,672</td><td>11,672</td><td>11,672</td></tr><tr><td style=\"text-align: left\">R<sup>2</sup></td><td>0.09</td><td>0.30</td><td>0.37</td></tr><tr><td style=\"text-align: left\">Adjusted R<sup>2</sup></td><td>0.09</td><td>0.29</td><td>0.33</td></tr><tr><td style=\"text-align: left\">Residual Std. Error</td><td>0.63 (df=11670)</td><td>0.55 (df=11620)</td><td>0.54 (df=10890)</td></tr><tr><td style=\"text-align: left\">F Statistic</td><td>1149.74<sup>***</sup> (df=1; 11670)</td><td>95.48<sup>***</sup> (df=51; 11620)</td><td>8.27<sup>***</sup> (df=781; 10890)</td></tr><tr><td colspan=\"4\" style=\"border-bottom: 1px solid black\"></td></tr><tr><td style=\"text-align: left\">Note:</td>\n",
       " <td colspan=\"3\" style=\"text-align: right\">\n",
       "  <sup>*</sup>p&lt;0.1;\n",
       "  <sup>**</sup>p&lt;0.05;\n",
       "  <sup>***</sup>p&lt;0.01\n",
       " </td></tr></table>"
      ],
      "text/plain": [
       "<IPython.core.display.HTML object>"
      ]
     },
     "execution_count": 10,
     "metadata": {},
     "output_type": "execute_result"
    }
   ],
   "source": [
    "stargazer = Stargazer([ols1, ols2, ols3])\n",
    "stargazer.rename_covariates({\"Intercept\": \"Constant\"})\n",
    "stargazer.covariate_order([x_var,\"Intercept\"])\n",
    "stargazer.significant_digits(2)\n",
    "stargazer.custom_columns(\n",
    "    [\"No confounders\", \"With confounders\", \"With confounders interacted\"],\n",
    "    [1, 1, 1],\n",
    ")\n",
    "stargazer.show_model_numbers(False)\n",
    "HTML(stargazer.render_html())"
   ]
  },
  {
   "cell_type": "code",
   "execution_count": 11,
   "metadata": {},
   "outputs": [
    {
     "data": {
      "text/plain": [
       "count    11672.000000\n",
       "mean         2.903924\n",
       "std          0.657525\n",
       "min          1.000000\n",
       "25%          2.444444\n",
       "50%          2.888889\n",
       "75%          3.333333\n",
       "max          4.888889\n",
       "Name: management, dtype: float64"
      ]
     },
     "execution_count": 11,
     "metadata": {},
     "output_type": "execute_result"
    }
   ],
   "source": [
    "data[\"management\"].describe()"
   ]
  },
  {
   "cell_type": "code",
   "execution_count": 12,
   "metadata": {},
   "outputs": [],
   "source": [
    "data[\"empbin5\"] = pd.cut(\n",
    "    data[\"emp_firm\"],\n",
    "    bins=data[\"emp_firm\"].quantile(np.arange(0, 1.01, 0.2)),\n",
    "    include_lowest=True,\n",
    "    right=False,\n",
    ")\n",
    "data[\"agecat\"] = (\n",
    "    (data[\"age_young\"] == True)\n",
    "    + 2 * (data[\"age_mid\"] == True)\n",
    "    + 3 * (data[\"age_old\"] == True)\n",
    "    + 4 * (data[\"age_unknown\"] == True)\n",
    ")"
   ]
  },
  {
   "cell_type": "code",
   "execution_count": 13,
   "metadata": {},
   "outputs": [],
   "source": [
    "def functions_for_groupby(x):\n",
    "    d = {}\n",
    "    d[\"n\"] = x[\"foundfam_owned\"].count()\n",
    "    d[\"n0\"] = sum(1 - x[\"foundfam_owned\"])\n",
    "    d[\"n1\"] = sum(x[\"foundfam_owned\"])\n",
    "    d[\"y0\"] = sum(x[\"management\"] * (x[\"foundfam_owned\"] == 0))\n",
    "    d[\"y1\"] = sum(x[\"management\"] * (x[\"foundfam_owned\"] == 1))\n",
    "    return pd.Series(d, index=[\"n\", \"n0\", \"n1\", \"y0\", \"y1\"])"
   ]
  },
  {
   "cell_type": "code",
   "execution_count": 14,
   "metadata": {},
   "outputs": [],
   "source": [
    "data_agg = (\n",
    "    data.groupby(\n",
    "        [\n",
    "            \"degree_nm_bins\",\n",
    "            \"agecat\",\n",
    "            \"competition\",\n",
    "            \"empbin5\",\n",
    "            \"industry\",\n",
    "            \"countrycode\",\n",
    "        ]\n",
    "    )\n",
    "    .apply(functions_for_groupby)\n",
    "    .reset_index()\n",
    ")\n",
    "\n",
    "data_agg = data_agg.loc[data_agg[\"n\"].notnull()]\n",
    "data_agg[\"y0\"] = data_agg[\"y0\"] / data_agg[\"n0\"]\n",
    "data_agg[\"y1\"] = data_agg[\"y1\"] / data_agg[\"n1\"]"
   ]
  },
  {
   "cell_type": "code",
   "execution_count": 15,
   "metadata": {},
   "outputs": [
    {
     "data": {
      "text/plain": [
       "n0==0             3528\n",
       "n1==0             4689\n",
       "n0!=0 & n1!=0      738\n",
       "dtype: int64"
      ]
     },
     "execution_count": 15,
     "metadata": {},
     "output_type": "execute_result"
    }
   ],
   "source": [
    "# firms with/without exact match\n",
    "pd.Series(\n",
    "    {\n",
    "        \"n0==0\": data_agg.loc[lambda x: x[\"n0\"] == 0].shape[0],\n",
    "        \"n1==0\": data_agg.loc[lambda x: x[\"n1\"] == 0].shape[0],\n",
    "        \"n0!=0 & n1!=0 \": data_agg.loc[lambda x: (x[\"n0\"] != 0) & (x[\"n1\"] != 0)].shape[\n",
    "            0\n",
    "        ],\n",
    "    }\n",
    ")"
   ]
  },
  {
   "cell_type": "code",
   "execution_count": 16,
   "metadata": {},
   "outputs": [],
   "source": [
    "# random order just for the examples"
   ]
  },
  {
   "cell_type": "code",
   "execution_count": 17,
   "metadata": {},
   "outputs": [],
   "source": [
    "np.random.seed(123)\n",
    "data_sample = data_agg.sample(n=340)[\n",
    "    [\n",
    "        \"industry\",\n",
    "        \"countrycode\",\n",
    "        \"degree_nm_bins\",\n",
    "        \"competition\",\n",
    "        \"agecat\",\n",
    "        \"empbin5\",\n",
    "        \"n1\",\n",
    "        \"n0\",\n",
    "        \"n\",\n",
    "    ]\n",
    "]"
   ]
  },
  {
   "cell_type": "code",
   "execution_count": 18,
   "metadata": {},
   "outputs": [
    {
     "data": {
      "text/html": [
       "<div>\n",
       "<style scoped>\n",
       "    .dataframe tbody tr th:only-of-type {\n",
       "        vertical-align: middle;\n",
       "    }\n",
       "\n",
       "    .dataframe tbody tr th {\n",
       "        vertical-align: top;\n",
       "    }\n",
       "\n",
       "    .dataframe thead th {\n",
       "        text-align: right;\n",
       "    }\n",
       "</style>\n",
       "<table border=\"1\" class=\"dataframe\">\n",
       "  <thead>\n",
       "    <tr style=\"text-align: right;\">\n",
       "      <th></th>\n",
       "      <th>industry</th>\n",
       "      <th>countrycode</th>\n",
       "      <th>degree_nm_bins</th>\n",
       "      <th>competition</th>\n",
       "      <th>agecat</th>\n",
       "      <th>empbin5</th>\n",
       "      <th>n1</th>\n",
       "      <th>n0</th>\n",
       "      <th>n</th>\n",
       "    </tr>\n",
       "  </thead>\n",
       "  <tbody>\n",
       "    <tr>\n",
       "      <th>98720</th>\n",
       "      <td>petrol</td>\n",
       "      <td>gb</td>\n",
       "      <td>[0.05, 0.2)</td>\n",
       "      <td>1-4 competitors</td>\n",
       "      <td>3</td>\n",
       "      <td>[1.0, 120.0)</td>\n",
       "      <td>1.0</td>\n",
       "      <td>0.0</td>\n",
       "      <td>1.0</td>\n",
       "    </tr>\n",
       "    <tr>\n",
       "      <th>91642</th>\n",
       "      <td>tobacco</td>\n",
       "      <td>gr</td>\n",
       "      <td>[0.05, 0.2)</td>\n",
       "      <td>10+ competitors</td>\n",
       "      <td>2</td>\n",
       "      <td>[1.0, 120.0)</td>\n",
       "      <td>1.0</td>\n",
       "      <td>0.0</td>\n",
       "      <td>1.0</td>\n",
       "    </tr>\n",
       "    <tr>\n",
       "      <th>36983</th>\n",
       "      <td>apparel</td>\n",
       "      <td>us</td>\n",
       "      <td>[0.0, 0.001)</td>\n",
       "      <td>5-9 competitors</td>\n",
       "      <td>4</td>\n",
       "      <td>[200.0, 350.0)</td>\n",
       "      <td>1.0</td>\n",
       "      <td>0.0</td>\n",
       "      <td>1.0</td>\n",
       "    </tr>\n",
       "    <tr>\n",
       "      <th>92655</th>\n",
       "      <td>apparel</td>\n",
       "      <td>mx</td>\n",
       "      <td>[0.05, 0.2)</td>\n",
       "      <td>10+ competitors</td>\n",
       "      <td>2</td>\n",
       "      <td>[350.0, 800.0)</td>\n",
       "      <td>1.0</td>\n",
       "      <td>0.0</td>\n",
       "      <td>1.0</td>\n",
       "    </tr>\n",
       "    <tr>\n",
       "      <th>8302</th>\n",
       "      <td>furniture</td>\n",
       "      <td>tr</td>\n",
       "      <td>[0.0, 0.001)</td>\n",
       "      <td>5-9 competitors</td>\n",
       "      <td>1</td>\n",
       "      <td>[200.0, 350.0)</td>\n",
       "      <td>1.0</td>\n",
       "      <td>0.0</td>\n",
       "      <td>1.0</td>\n",
       "    </tr>\n",
       "    <tr>\n",
       "      <th>50961</th>\n",
       "      <td>fabricated_metal</td>\n",
       "      <td>ge</td>\n",
       "      <td>[0.001, 0.05)</td>\n",
       "      <td>1-4 competitors</td>\n",
       "      <td>2</td>\n",
       "      <td>[120.0, 200.0)</td>\n",
       "      <td>1.0</td>\n",
       "      <td>0.0</td>\n",
       "      <td>1.0</td>\n",
       "    </tr>\n",
       "    <tr>\n",
       "      <th>82540</th>\n",
       "      <td>transport</td>\n",
       "      <td>cl</td>\n",
       "      <td>[0.05, 0.2)</td>\n",
       "      <td>10+ competitors</td>\n",
       "      <td>1</td>\n",
       "      <td>[120.0, 200.0)</td>\n",
       "      <td>1.0</td>\n",
       "      <td>0.0</td>\n",
       "      <td>1.0</td>\n",
       "    </tr>\n",
       "    <tr>\n",
       "      <th>139354</th>\n",
       "      <td>glass</td>\n",
       "      <td>gr</td>\n",
       "      <td>[0.2, 1.01)</td>\n",
       "      <td>10+ competitors</td>\n",
       "      <td>3</td>\n",
       "      <td>[1.0, 120.0)</td>\n",
       "      <td>1.0</td>\n",
       "      <td>0.0</td>\n",
       "      <td>1.0</td>\n",
       "    </tr>\n",
       "  </tbody>\n",
       "</table>\n",
       "</div>"
      ],
      "text/plain": [
       "                industry countrycode degree_nm_bins      competition  agecat  \\\n",
       "98720             petrol          gb    [0.05, 0.2)  1-4 competitors       3   \n",
       "91642            tobacco          gr    [0.05, 0.2)  10+ competitors       2   \n",
       "36983            apparel          us   [0.0, 0.001)  5-9 competitors       4   \n",
       "92655            apparel          mx    [0.05, 0.2)  10+ competitors       2   \n",
       "8302           furniture          tr   [0.0, 0.001)  5-9 competitors       1   \n",
       "50961   fabricated_metal          ge  [0.001, 0.05)  1-4 competitors       2   \n",
       "82540          transport          cl    [0.05, 0.2)  10+ competitors       1   \n",
       "139354             glass          gr    [0.2, 1.01)  10+ competitors       3   \n",
       "\n",
       "               empbin5   n1   n0    n  \n",
       "98720     [1.0, 120.0)  1.0  0.0  1.0  \n",
       "91642     [1.0, 120.0)  1.0  0.0  1.0  \n",
       "36983   [200.0, 350.0)  1.0  0.0  1.0  \n",
       "92655   [350.0, 800.0)  1.0  0.0  1.0  \n",
       "8302    [200.0, 350.0)  1.0  0.0  1.0  \n",
       "50961   [120.0, 200.0)  1.0  0.0  1.0  \n",
       "82540   [120.0, 200.0)  1.0  0.0  1.0  \n",
       "139354    [1.0, 120.0)  1.0  0.0  1.0  "
      ]
     },
     "execution_count": 18,
     "metadata": {},
     "output_type": "execute_result"
    }
   ],
   "source": [
    "# examples with founder/family only\n",
    "data_sample.loc[lambda x: (x[\"n1\"] == 1) & (x[\"n0\"] == 0)].head(8)"
   ]
  },
  {
   "cell_type": "code",
   "execution_count": 19,
   "metadata": {},
   "outputs": [
    {
     "data": {
      "text/html": [
       "<div>\n",
       "<style scoped>\n",
       "    .dataframe tbody tr th:only-of-type {\n",
       "        vertical-align: middle;\n",
       "    }\n",
       "\n",
       "    .dataframe tbody tr th {\n",
       "        vertical-align: top;\n",
       "    }\n",
       "\n",
       "    .dataframe thead th {\n",
       "        text-align: right;\n",
       "    }\n",
       "</style>\n",
       "<table border=\"1\" class=\"dataframe\">\n",
       "  <thead>\n",
       "    <tr style=\"text-align: right;\">\n",
       "      <th></th>\n",
       "      <th>industry</th>\n",
       "      <th>countrycode</th>\n",
       "      <th>degree_nm_bins</th>\n",
       "      <th>competition</th>\n",
       "      <th>agecat</th>\n",
       "      <th>empbin5</th>\n",
       "      <th>n1</th>\n",
       "      <th>n0</th>\n",
       "      <th>n</th>\n",
       "    </tr>\n",
       "  </thead>\n",
       "  <tbody>\n",
       "    <tr>\n",
       "      <th>52202</th>\n",
       "      <td>printing</td>\n",
       "      <td>br</td>\n",
       "      <td>[0.001, 0.05)</td>\n",
       "      <td>1-4 competitors</td>\n",
       "      <td>2</td>\n",
       "      <td>[350.0, 800.0)</td>\n",
       "      <td>0.0</td>\n",
       "      <td>1.0</td>\n",
       "      <td>1.0</td>\n",
       "    </tr>\n",
       "    <tr>\n",
       "      <th>101798</th>\n",
       "      <td>chemical</td>\n",
       "      <td>jp</td>\n",
       "      <td>[0.05, 0.2)</td>\n",
       "      <td>10+ competitors</td>\n",
       "      <td>3</td>\n",
       "      <td>[200.0, 350.0)</td>\n",
       "      <td>0.0</td>\n",
       "      <td>1.0</td>\n",
       "      <td>1.0</td>\n",
       "    </tr>\n",
       "    <tr>\n",
       "      <th>22160</th>\n",
       "      <td>fabricated_metal</td>\n",
       "      <td>gb</td>\n",
       "      <td>[0.0, 0.001)</td>\n",
       "      <td>1-4 competitors</td>\n",
       "      <td>3</td>\n",
       "      <td>[120.0, 200.0)</td>\n",
       "      <td>0.0</td>\n",
       "      <td>1.0</td>\n",
       "      <td>1.0</td>\n",
       "    </tr>\n",
       "    <tr>\n",
       "      <th>33023</th>\n",
       "      <td>printing</td>\n",
       "      <td>us</td>\n",
       "      <td>[0.0, 0.001)</td>\n",
       "      <td>1-4 competitors</td>\n",
       "      <td>4</td>\n",
       "      <td>[350.0, 800.0)</td>\n",
       "      <td>0.0</td>\n",
       "      <td>1.0</td>\n",
       "      <td>1.0</td>\n",
       "    </tr>\n",
       "    <tr>\n",
       "      <th>92988</th>\n",
       "      <td>primary_metal</td>\n",
       "      <td>ir</td>\n",
       "      <td>[0.05, 0.2)</td>\n",
       "      <td>10+ competitors</td>\n",
       "      <td>2</td>\n",
       "      <td>[350.0, 800.0)</td>\n",
       "      <td>0.0</td>\n",
       "      <td>1.0</td>\n",
       "      <td>1.0</td>\n",
       "    </tr>\n",
       "    <tr>\n",
       "      <th>91722</th>\n",
       "      <td>chemical</td>\n",
       "      <td>po</td>\n",
       "      <td>[0.05, 0.2)</td>\n",
       "      <td>10+ competitors</td>\n",
       "      <td>2</td>\n",
       "      <td>[120.0, 200.0)</td>\n",
       "      <td>0.0</td>\n",
       "      <td>1.0</td>\n",
       "      <td>1.0</td>\n",
       "    </tr>\n",
       "    <tr>\n",
       "      <th>56072</th>\n",
       "      <td>rubber</td>\n",
       "      <td>gb</td>\n",
       "      <td>[0.001, 0.05)</td>\n",
       "      <td>5-9 competitors</td>\n",
       "      <td>2</td>\n",
       "      <td>[120.0, 200.0)</td>\n",
       "      <td>0.0</td>\n",
       "      <td>1.0</td>\n",
       "      <td>1.0</td>\n",
       "    </tr>\n",
       "    <tr>\n",
       "      <th>118195</th>\n",
       "      <td>food</td>\n",
       "      <td>pt</td>\n",
       "      <td>[0.2, 1.01)</td>\n",
       "      <td>1-4 competitors</td>\n",
       "      <td>1</td>\n",
       "      <td>[120.0, 200.0)</td>\n",
       "      <td>0.0</td>\n",
       "      <td>1.0</td>\n",
       "      <td>1.0</td>\n",
       "    </tr>\n",
       "  </tbody>\n",
       "</table>\n",
       "</div>"
      ],
      "text/plain": [
       "                industry countrycode degree_nm_bins      competition  agecat  \\\n",
       "52202           printing          br  [0.001, 0.05)  1-4 competitors       2   \n",
       "101798          chemical          jp    [0.05, 0.2)  10+ competitors       3   \n",
       "22160   fabricated_metal          gb   [0.0, 0.001)  1-4 competitors       3   \n",
       "33023           printing          us   [0.0, 0.001)  1-4 competitors       4   \n",
       "92988      primary_metal          ir    [0.05, 0.2)  10+ competitors       2   \n",
       "91722           chemical          po    [0.05, 0.2)  10+ competitors       2   \n",
       "56072             rubber          gb  [0.001, 0.05)  5-9 competitors       2   \n",
       "118195              food          pt    [0.2, 1.01)  1-4 competitors       1   \n",
       "\n",
       "               empbin5   n1   n0    n  \n",
       "52202   [350.0, 800.0)  0.0  1.0  1.0  \n",
       "101798  [200.0, 350.0)  0.0  1.0  1.0  \n",
       "22160   [120.0, 200.0)  0.0  1.0  1.0  \n",
       "33023   [350.0, 800.0)  0.0  1.0  1.0  \n",
       "92988   [350.0, 800.0)  0.0  1.0  1.0  \n",
       "91722   [120.0, 200.0)  0.0  1.0  1.0  \n",
       "56072   [120.0, 200.0)  0.0  1.0  1.0  \n",
       "118195  [120.0, 200.0)  0.0  1.0  1.0  "
      ]
     },
     "execution_count": 19,
     "metadata": {},
     "output_type": "execute_result"
    }
   ],
   "source": [
    "# examples with other only:\n",
    "data_sample.loc[lambda x: (x[\"n1\"] == 0) & (x[\"n0\"] == 1)].head(8)"
   ]
  },
  {
   "cell_type": "code",
   "execution_count": 20,
   "metadata": {},
   "outputs": [
    {
     "data": {
      "text/html": [
       "<div>\n",
       "<style scoped>\n",
       "    .dataframe tbody tr th:only-of-type {\n",
       "        vertical-align: middle;\n",
       "    }\n",
       "\n",
       "    .dataframe tbody tr th {\n",
       "        vertical-align: top;\n",
       "    }\n",
       "\n",
       "    .dataframe thead th {\n",
       "        text-align: right;\n",
       "    }\n",
       "</style>\n",
       "<table border=\"1\" class=\"dataframe\">\n",
       "  <thead>\n",
       "    <tr style=\"text-align: right;\">\n",
       "      <th></th>\n",
       "      <th>industry</th>\n",
       "      <th>countrycode</th>\n",
       "      <th>degree_nm_bins</th>\n",
       "      <th>competition</th>\n",
       "      <th>agecat</th>\n",
       "      <th>empbin5</th>\n",
       "      <th>n1</th>\n",
       "      <th>n0</th>\n",
       "      <th>n</th>\n",
       "    </tr>\n",
       "  </thead>\n",
       "  <tbody>\n",
       "  </tbody>\n",
       "</table>\n",
       "</div>"
      ],
      "text/plain": [
       "Empty DataFrame\n",
       "Columns: [industry, countrycode, degree_nm_bins, competition, agecat, empbin5, n1, n0, n]\n",
       "Index: []"
      ]
     },
     "execution_count": 20,
     "metadata": {},
     "output_type": "execute_result"
    }
   ],
   "source": [
    "# examples of similar firms unmatched\n",
    "data_sample.loc[\n",
    "    lambda x: (x[\"countrycode\"] == \"us\") & (x[\"industry\"] == \"food\") & (x[\"n\"] == 1)\n",
    "]"
   ]
  },
  {
   "cell_type": "code",
   "execution_count": 21,
   "metadata": {},
   "outputs": [
    {
     "data": {
      "text/html": [
       "<div>\n",
       "<style scoped>\n",
       "    .dataframe tbody tr th:only-of-type {\n",
       "        vertical-align: middle;\n",
       "    }\n",
       "\n",
       "    .dataframe tbody tr th {\n",
       "        vertical-align: top;\n",
       "    }\n",
       "\n",
       "    .dataframe thead th {\n",
       "        text-align: right;\n",
       "    }\n",
       "</style>\n",
       "<table border=\"1\" class=\"dataframe\">\n",
       "  <thead>\n",
       "    <tr style=\"text-align: right;\">\n",
       "      <th></th>\n",
       "      <th>0</th>\n",
       "    </tr>\n",
       "  </thead>\n",
       "  <tbody>\n",
       "    <tr>\n",
       "      <th>ATE</th>\n",
       "      <td>-0.179515</td>\n",
       "    </tr>\n",
       "    <tr>\n",
       "      <th>ATET</th>\n",
       "      <td>-0.167050</td>\n",
       "    </tr>\n",
       "  </tbody>\n",
       "</table>\n",
       "</div>"
      ],
      "text/plain": [
       "             0\n",
       "ATE  -0.179515\n",
       "ATET -0.167050"
      ]
     },
     "execution_count": 21,
     "metadata": {},
     "output_type": "execute_result"
    }
   ],
   "source": [
    "# ATE/ATET by exact matching:\n",
    "data_agg[\"y1-y0\"] = data_agg[\"y1\"] - data_agg[\"y0\"]\n",
    "pd.DataFrame.from_dict(\n",
    "    {\n",
    "        \"ATE\": np.average(\n",
    "            data_agg.loc[lambda x: (x[\"n0\"] > 0) & (x[\"n1\"] > 0), \"y1-y0\"],\n",
    "            weights=data_agg.loc[lambda x: (x[\"n0\"] > 0) & (x[\"n1\"] > 0), \"n\"],\n",
    "        ),\n",
    "        \"ATET\": np.average(\n",
    "            data_agg.loc[lambda x: (x[\"n0\"] > 0) & (x[\"n1\"] > 0), \"y1-y0\"],\n",
    "            weights=data_agg.loc[lambda x: (x[\"n0\"] > 0) & (x[\"n1\"] > 0), \"n1\"],\n",
    "        ),\n",
    "    },\n",
    "    orient=\"index\",\n",
    ")"
   ]
  },
  {
   "cell_type": "markdown",
   "metadata": {},
   "source": [
    "## Matching on the propensity score "
   ]
  },
  {
   "cell_type": "code",
   "execution_count": 22,
   "metadata": {},
   "outputs": [],
   "source": [
    "data_pscore = data[[y_var] + [x_var] + control_vars + control_vars_to_interact].dropna()"
   ]
  },
  {
   "cell_type": "code",
   "execution_count": 23,
   "metadata": {},
   "outputs": [],
   "source": [
    "formula_pscore1 = x_var + \"~\" + \"+\".join(control_vars + control_vars_to_interact)"
   ]
  },
  {
   "cell_type": "code",
   "execution_count": 24,
   "metadata": {},
   "outputs": [
    {
     "name": "stdout",
     "output_type": "stream",
     "text": [
      "Optimization terminated successfully.\n",
      "         Current function value: 0.587516\n",
      "         Iterations 6\n"
     ]
    }
   ],
   "source": [
    "log_reg_model = smf.logit(formula=formula_pscore1, data=data_pscore)\n",
    "log_reg = log_reg_model.fit()"
   ]
  },
  {
   "cell_type": "code",
   "execution_count": 25,
   "metadata": {},
   "outputs": [],
   "source": [
    "data_pscore[\"pscore\"] = log_reg.predict()"
   ]
  },
  {
   "cell_type": "code",
   "execution_count": 26,
   "metadata": {},
   "outputs": [],
   "source": [
    "def get_pscore_matched(data, variable=\"foundfam_owned\"):\n",
    "    \"\"\"\n",
    "    This function performs Single Nearest Neighbor search on the estimated\n",
    "    propensity score to find matches to the treated sample.\n",
    "\n",
    "    \"\"\"\n",
    "\n",
    "    # get treatment and control group's estimated pscore\n",
    "    x_1_pscore = data.loc[lambda x: x[variable] == 1, \"pscore\"].values\n",
    "    x_0_pscore = data.loc[lambda x: x[variable] == 0, \"pscore\"].values\n",
    "\n",
    "    # this is the NN model, n_neighbors set to 1 to find the closest neightbor\n",
    "    knn = NearestNeighbors(n_neighbors=1, metric=\"euclidean\", n_jobs=1)\n",
    "\n",
    "    # fit the model on control (x=0)\n",
    "    knn.fit(x_0_pscore.reshape(-1, 1))\n",
    "\n",
    "    # find nearest controls (x=0) to the treated group (x=1)\n",
    "    indices = knn.kneighbors(x_1_pscore.reshape(-1, 1), return_distance=False)\n",
    "    index, counts = np.unique(indices, return_counts=True)\n",
    "    weights = pd.concat([pd.Series(index), pd.Series(counts)], axis=1)\n",
    "\n",
    "    x_1 = data[lambda x: x[variable] == 1]\n",
    "\n",
    "    x_0_matched = (\n",
    "        weights.merge(\n",
    "            data.loc[lambda x: x[variable] == 0].reset_index(drop=True).reset_index(),\n",
    "            left_on=0,\n",
    "            right_on=\"index\",\n",
    "            how=\"left\",\n",
    "        )\n",
    "        .drop(columns=[0, \"index\"])\n",
    "        .rename({1: \"weights\"}, axis=1)\n",
    "    )\n",
    "\n",
    "    data_matched = pd.concat([x_1, x_0_matched], axis=0)\n",
    "\n",
    "    data_matched[\"weights\"] = data_matched[\"weights\"].fillna(1)\n",
    "\n",
    "    return data_matched"
   ]
  },
  {
   "cell_type": "code",
   "execution_count": 27,
   "metadata": {},
   "outputs": [
    {
     "data": {
      "text/html": [
       "<table class=\"simpletable\">\n",
       "<caption>WLS Regression Results</caption>\n",
       "<tr>\n",
       "  <th>Dep. Variable:</th>       <td>management</td>    <th>  R-squared:         </th> <td>   0.028</td> \n",
       "</tr>\n",
       "<tr>\n",
       "  <th>Model:</th>                   <td>WLS</td>       <th>  Adj. R-squared:    </th> <td>   0.028</td> \n",
       "</tr>\n",
       "<tr>\n",
       "  <th>Method:</th>             <td>Least Squares</td>  <th>  F-statistic:       </th> <td>   223.3</td> \n",
       "</tr>\n",
       "<tr>\n",
       "  <th>Date:</th>             <td>Mon, 03 Oct 2022</td> <th>  Prob (F-statistic):</th> <td>8.73e-50</td> \n",
       "</tr>\n",
       "<tr>\n",
       "  <th>Time:</th>                 <td>13:45:07</td>     <th>  Log-Likelihood:    </th> <td> -7893.0</td> \n",
       "</tr>\n",
       "<tr>\n",
       "  <th>No. Observations:</th>      <td>  7714</td>      <th>  AIC:               </th> <td>1.579e+04</td>\n",
       "</tr>\n",
       "<tr>\n",
       "  <th>Df Residuals:</th>          <td>  7712</td>      <th>  BIC:               </th> <td>1.580e+04</td>\n",
       "</tr>\n",
       "<tr>\n",
       "  <th>Df Model:</th>              <td>     1</td>      <th>                     </th>     <td> </td>    \n",
       "</tr>\n",
       "<tr>\n",
       "  <th>Covariance Type:</th>      <td>nonrobust</td>    <th>                     </th>     <td> </td>    \n",
       "</tr>\n",
       "</table>\n",
       "<table class=\"simpletable\">\n",
       "<tr>\n",
       "         <td></td>           <th>coef</th>     <th>std err</th>      <th>t</th>      <th>P>|t|</th>  <th>[0.025</th>    <th>0.975]</th>  \n",
       "</tr>\n",
       "<tr>\n",
       "  <th>Intercept</th>      <td>    2.8971</td> <td>    0.010</td> <td>  286.290</td> <td> 0.000</td> <td>    2.877</td> <td>    2.917</td>\n",
       "</tr>\n",
       "<tr>\n",
       "  <th>foundfam_owned</th> <td>   -0.2138</td> <td>    0.014</td> <td>  -14.942</td> <td> 0.000</td> <td>   -0.242</td> <td>   -0.186</td>\n",
       "</tr>\n",
       "</table>\n",
       "<table class=\"simpletable\">\n",
       "<tr>\n",
       "  <th>Omnibus:</th>       <td>474.842</td> <th>  Durbin-Watson:     </th> <td>   1.657</td>\n",
       "</tr>\n",
       "<tr>\n",
       "  <th>Prob(Omnibus):</th> <td> 0.000</td>  <th>  Jarque-Bera (JB):  </th> <td>1723.122</td>\n",
       "</tr>\n",
       "<tr>\n",
       "  <th>Skew:</th>          <td>-0.220</td>  <th>  Prob(JB):          </th> <td>    0.00</td>\n",
       "</tr>\n",
       "<tr>\n",
       "  <th>Kurtosis:</th>      <td> 5.273</td>  <th>  Cond. No.          </th> <td>    2.62</td>\n",
       "</tr>\n",
       "</table><br/><br/>Notes:<br/>[1] Standard Errors assume that the covariance matrix of the errors is correctly specified."
      ],
      "text/plain": [
       "<class 'statsmodels.iolib.summary.Summary'>\n",
       "\"\"\"\n",
       "                            WLS Regression Results                            \n",
       "==============================================================================\n",
       "Dep. Variable:             management   R-squared:                       0.028\n",
       "Model:                            WLS   Adj. R-squared:                  0.028\n",
       "Method:                 Least Squares   F-statistic:                     223.3\n",
       "Date:                Mon, 03 Oct 2022   Prob (F-statistic):           8.73e-50\n",
       "Time:                        13:45:07   Log-Likelihood:                -7893.0\n",
       "No. Observations:                7714   AIC:                         1.579e+04\n",
       "Df Residuals:                    7712   BIC:                         1.580e+04\n",
       "Df Model:                           1                                         \n",
       "Covariance Type:            nonrobust                                         \n",
       "==================================================================================\n",
       "                     coef    std err          t      P>|t|      [0.025      0.975]\n",
       "----------------------------------------------------------------------------------\n",
       "Intercept          2.8971      0.010    286.290      0.000       2.877       2.917\n",
       "foundfam_owned    -0.2138      0.014    -14.942      0.000      -0.242      -0.186\n",
       "==============================================================================\n",
       "Omnibus:                      474.842   Durbin-Watson:                   1.657\n",
       "Prob(Omnibus):                  0.000   Jarque-Bera (JB):             1723.122\n",
       "Skew:                          -0.220   Prob(JB):                         0.00\n",
       "Kurtosis:                       5.273   Cond. No.                         2.62\n",
       "==============================================================================\n",
       "\n",
       "Notes:\n",
       "[1] Standard Errors assume that the covariance matrix of the errors is correctly specified.\n",
       "\"\"\""
      ]
     },
     "execution_count": 27,
     "metadata": {},
     "output_type": "execute_result"
    }
   ],
   "source": [
    "data_matched = get_pscore_matched(data_pscore, \"foundfam_owned\")\n",
    "\n",
    "# NOTE: We use weights here,to account for control observations that were matched \n",
    "#       to multiple treated osbervations.\n",
    "#       This is different from weights used to estimate ATE!\n",
    "\n",
    "reg_match = smf.wls(\n",
    "    formula=\"management~foundfam_owned\",\n",
    "    data=data_matched,\n",
    "    weights=data_matched[\"weights\"],\n",
    ").fit()\n",
    "reg_match.summary()"
   ]
  },
  {
   "cell_type": "code",
   "execution_count": 28,
   "metadata": {},
   "outputs": [],
   "source": [
    "formula_pscore2 = (\n",
    "    x_var\n",
    "    + \" ~ \"\n",
    "    + \":\".join(control_vars_to_interact)\n",
    "    + \"+(\"\n",
    "    + \"+\".join(control_vars)\n",
    "    + \")*(\"\n",
    "    + \"+\".join(control_vars_to_interact)\n",
    "    + \")\"\n",
    ")"
   ]
  },
  {
   "cell_type": "code",
   "execution_count": 29,
   "metadata": {},
   "outputs": [
    {
     "name": "stdout",
     "output_type": "stream",
     "text": [
      "Optimization terminated successfully.\n",
      "         Current function value: 0.528371\n",
      "         Iterations: 20\n",
      "         Function evaluations: 24\n",
      "         Gradient evaluations: 24\n",
      "         Hessian evaluations: 20\n"
     ]
    }
   ],
   "source": [
    "logit_model_2 = smf.logit(formula=formula_pscore2, data=data_pscore)\n",
    "log_reg2 = logit_model_2.fit(method=\"ncg\")"
   ]
  },
  {
   "cell_type": "code",
   "execution_count": 30,
   "metadata": {},
   "outputs": [],
   "source": [
    "data_pscore[\"pscore\"] = log_reg2.predict()\n",
    "\n",
    "data_matched_2 = get_pscore_matched(data_pscore, \"foundfam_owned\")"
   ]
  },
  {
   "cell_type": "code",
   "execution_count": 31,
   "metadata": {},
   "outputs": [
    {
     "data": {
      "text/html": [
       "<table class=\"simpletable\">\n",
       "<caption>WLS Regression Results</caption>\n",
       "<tr>\n",
       "  <th>Dep. Variable:</th>       <td>management</td>    <th>  R-squared:         </th> <td>   0.025</td> \n",
       "</tr>\n",
       "<tr>\n",
       "  <th>Model:</th>                   <td>WLS</td>       <th>  Adj. R-squared:    </th> <td>   0.025</td> \n",
       "</tr>\n",
       "<tr>\n",
       "  <th>Method:</th>             <td>Least Squares</td>  <th>  F-statistic:       </th> <td>   192.1</td> \n",
       "</tr>\n",
       "<tr>\n",
       "  <th>Date:</th>             <td>Mon, 03 Oct 2022</td> <th>  Prob (F-statistic):</th> <td>3.82e-43</td> \n",
       "</tr>\n",
       "<tr>\n",
       "  <th>Time:</th>                 <td>13:45:19</td>     <th>  Log-Likelihood:    </th> <td> -7650.7</td> \n",
       "</tr>\n",
       "<tr>\n",
       "  <th>No. Observations:</th>      <td>  7395</td>      <th>  AIC:               </th> <td>1.531e+04</td>\n",
       "</tr>\n",
       "<tr>\n",
       "  <th>Df Residuals:</th>          <td>  7393</td>      <th>  BIC:               </th> <td>1.532e+04</td>\n",
       "</tr>\n",
       "<tr>\n",
       "  <th>Df Model:</th>              <td>     1</td>      <th>                     </th>     <td> </td>    \n",
       "</tr>\n",
       "<tr>\n",
       "  <th>Covariance Type:</th>      <td>nonrobust</td>    <th>                     </th>     <td> </td>    \n",
       "</tr>\n",
       "</table>\n",
       "<table class=\"simpletable\">\n",
       "<tr>\n",
       "         <td></td>           <th>coef</th>     <th>std err</th>      <th>t</th>      <th>P>|t|</th>  <th>[0.025</th>    <th>0.975]</th>  \n",
       "</tr>\n",
       "<tr>\n",
       "  <th>Intercept</th>      <td>    2.8838</td> <td>    0.010</td> <td>  281.856</td> <td> 0.000</td> <td>    2.864</td> <td>    2.904</td>\n",
       "</tr>\n",
       "<tr>\n",
       "  <th>foundfam_owned</th> <td>   -0.2005</td> <td>    0.014</td> <td>  -13.860</td> <td> 0.000</td> <td>   -0.229</td> <td>   -0.172</td>\n",
       "</tr>\n",
       "</table>\n",
       "<table class=\"simpletable\">\n",
       "<tr>\n",
       "  <th>Omnibus:</th>       <td>1201.586</td> <th>  Durbin-Watson:     </th> <td>   1.681</td> \n",
       "</tr>\n",
       "<tr>\n",
       "  <th>Prob(Omnibus):</th>  <td> 0.000</td>  <th>  Jarque-Bera (JB):  </th> <td>11460.515</td>\n",
       "</tr>\n",
       "<tr>\n",
       "  <th>Skew:</th>           <td>-0.487</td>  <th>  Prob(JB):          </th> <td>    0.00</td> \n",
       "</tr>\n",
       "<tr>\n",
       "  <th>Kurtosis:</th>       <td> 9.020</td>  <th>  Cond. No.          </th> <td>    2.62</td> \n",
       "</tr>\n",
       "</table><br/><br/>Notes:<br/>[1] Standard Errors assume that the covariance matrix of the errors is correctly specified."
      ],
      "text/plain": [
       "<class 'statsmodels.iolib.summary.Summary'>\n",
       "\"\"\"\n",
       "                            WLS Regression Results                            \n",
       "==============================================================================\n",
       "Dep. Variable:             management   R-squared:                       0.025\n",
       "Model:                            WLS   Adj. R-squared:                  0.025\n",
       "Method:                 Least Squares   F-statistic:                     192.1\n",
       "Date:                Mon, 03 Oct 2022   Prob (F-statistic):           3.82e-43\n",
       "Time:                        13:45:19   Log-Likelihood:                -7650.7\n",
       "No. Observations:                7395   AIC:                         1.531e+04\n",
       "Df Residuals:                    7393   BIC:                         1.532e+04\n",
       "Df Model:                           1                                         \n",
       "Covariance Type:            nonrobust                                         \n",
       "==================================================================================\n",
       "                     coef    std err          t      P>|t|      [0.025      0.975]\n",
       "----------------------------------------------------------------------------------\n",
       "Intercept          2.8838      0.010    281.856      0.000       2.864       2.904\n",
       "foundfam_owned    -0.2005      0.014    -13.860      0.000      -0.229      -0.172\n",
       "==============================================================================\n",
       "Omnibus:                     1201.586   Durbin-Watson:                   1.681\n",
       "Prob(Omnibus):                  0.000   Jarque-Bera (JB):            11460.515\n",
       "Skew:                          -0.487   Prob(JB):                         0.00\n",
       "Kurtosis:                       9.020   Cond. No.                         2.62\n",
       "==============================================================================\n",
       "\n",
       "Notes:\n",
       "[1] Standard Errors assume that the covariance matrix of the errors is correctly specified.\n",
       "\"\"\""
      ]
     },
     "execution_count": 31,
     "metadata": {},
     "output_type": "execute_result"
    }
   ],
   "source": [
    "# NOTE: We use weights here,to account for control observations that were matched \n",
    "#       to multiple treated osbervations.\n",
    "#       This is different from weights used to estimate ATE!\n",
    "\n",
    "model2 = smf.wls(\n",
    "    formula=\"management~foundfam_owned\",\n",
    "    data=data_matched_2,\n",
    "    weights=data_matched_2[\"weights\"],\n",
    ")\n",
    "reg_match_2 = model2.fit()\n",
    "reg_match_2.summary()"
   ]
  },
  {
   "cell_type": "code",
   "execution_count": 32,
   "metadata": {},
   "outputs": [
    {
     "name": "stdout",
     "output_type": "stream",
     "text": [
      "\n",
      "    Note: ATE not calculated here.\n",
      "    Note: the \"number of matched observations\" calculated by \n",
      "          this code varies marginally from the one on p607 in the textbook.\n",
      "\n",
      "    \n",
      "    \n",
      "    Warning: the standard error estimates are off here because they don't factor \n",
      "    in the uncertainty due to the fac that the propensity score is an estimate \n",
      "    itself from the same sample.\n",
      "    \n",
      "    To get the correct SE estimates you would have to bootstrap the whole \n",
      "    procedure of estimating the logit and carrying out matching. We don't \n",
      "    do that in this code.\n",
      "\n"
     ]
    },
    {
     "data": {
      "text/html": [
       "<table style=\"text-align:center\"><tr><td colspan=\"3\" style=\"border-bottom: 1px solid black\"></td></tr><tr><td style=\"text-align:left\"></td><td colspan=\"2\"><em>Dependent variable:management</em></td></tr><tr><td style=\"text-align:left\"></td><tr><td></td><td colspan=\"1\">All confounders</td><td colspan=\"1\">All confounders with industry and country</td></tr><tr><td colspan=\"3\" style=\"border-bottom: 1px solid black\"></td></tr><tr><td style=\"text-align:left\">ATET estimate</td><td>-0.21<sup>***</sup></td><td>-0.20<sup>***</sup></td></tr><tr><td style=\"text-align:left\"></td><td>(0.01)</td><td>(0.01)</td></tr><td colspan=\"3\" style=\"border-bottom: 1px solid black\"></td></tr><tr><td style=\"text-align: left\">Observations</td><td>7,714</td><td>7,395</td></tr><tr><td style=\"text-align: left\">R<sup>2</sup></td><td>0.03</td><td>0.03</td></tr><tr><td style=\"text-align: left\">Adjusted R<sup>2</sup></td><td>0.03</td><td>0.03</td></tr><tr><td style=\"text-align: left\">Residual Std. Error</td><td>0.73 (df=7712)</td><td>0.74 (df=7393)</td></tr><tr><td style=\"text-align: left\">F Statistic</td><td>223.25<sup>***</sup> (df=1; 7712)</td><td>192.10<sup>***</sup> (df=1; 7393)</td></tr><tr><td colspan=\"3\" style=\"border-bottom: 1px solid black\"></td></tr><tr><td style=\"text-align: left\">Note:</td>\n",
       " <td colspan=\"2\" style=\"text-align: right\">\n",
       "  <sup>*</sup>p&lt;0.1;\n",
       "  <sup>**</sup>p&lt;0.05;\n",
       "  <sup>***</sup>p&lt;0.01\n",
       " </td></tr></table>"
      ],
      "text/plain": [
       "<stargazer.stargazer.Stargazer at 0x29dfbdd90>"
      ]
     },
     "execution_count": 32,
     "metadata": {},
     "output_type": "execute_result"
    }
   ],
   "source": [
    "stargazer = Stargazer([reg_match, reg_match_2])\n",
    "stargazer.rename_covariates(\n",
    "    {\"Intercept\": \"Constant\", \"foundfam_owned\": \"ATET estimate\"}\n",
    ")\n",
    "stargazer.covariate_order([x_var])\n",
    "stargazer.custom_columns(\n",
    "    [\"All confounders\", \"All confounders with industry and country\"], [1, 1]\n",
    ")\n",
    "stargazer.significant_digits(2)\n",
    "stargazer.show_model_numbers(False)\n",
    "print(\n",
    "    \"\"\"\n",
    "    Note: ATE not calculated here.\n",
    "    Note: the \"number of matched observations\" calculated by \n",
    "          this code varies marginally from the one on p607 in the textbook.\n",
    "\n",
    "    \n",
    "    \n",
    "    Warning: the standard error estimates are off here because they don't factor \n",
    "    in the uncertainty due to the fac that the propensity score is an estimate \n",
    "    itself from the same sample.\n",
    "    \n",
    "    To get the correct SE estimates you would have to bootstrap the whole \n",
    "    procedure of estimating the logit and carrying out matching. We don't \n",
    "    do that in this code.\n",
    "\"\"\"\n",
    ")\n",
    "stargazer"
   ]
  },
  {
   "cell_type": "code",
   "execution_count": null,
   "metadata": {},
   "outputs": [],
   "source": []
  }
 ],
 "metadata": {
  "kernelspec": {
   "display_name": "Python 3",
   "language": "python",
   "name": "python3"
  },
  "language_info": {
   "codemirror_mode": {
    "name": "ipython",
    "version": 3
   },
   "file_extension": ".py",
   "mimetype": "text/x-python",
   "name": "python",
   "nbconvert_exporter": "python",
   "pygments_lexer": "ipython3",
   "version": "3.7.4"
  },
  "vscode": {
   "interpreter": {
    "hash": "c01754e8627d0ea60fdf9a984fbf743943cf4db47884120dd04bfc512143b077"
   }
  }
 },
 "nbformat": 4,
 "nbformat_minor": 4
}
