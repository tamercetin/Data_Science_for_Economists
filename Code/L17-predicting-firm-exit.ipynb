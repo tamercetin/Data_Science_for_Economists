{
 "cells": [
  {
   "cell_type": "markdown",
   "metadata": {},
   "source": [
    "## L17 Predicting firm exit"
   ]
  },
  {
   "cell_type": "code",
   "execution_count": 1,
   "metadata": {},
   "outputs": [],
   "source": [
    "import os\n",
    "import sys\n",
    "import warnings\n",
    "\n",
    "import matplotlib.pyplot as plt\n",
    "import numpy as np\n",
    "import pandas as pd\n",
    "import patsy\n",
    "import sklearn.metrics as metrics\n",
    "import statsmodels.formula.api as smf\n",
    "from plotnine import *\n",
    "from sklearn.ensemble import RandomForestClassifier\n",
    "from sklearn.linear_model import (\n",
    "    LinearRegression,\n",
    "    LogisticRegression,\n",
    "    LogisticRegressionCV,\n",
    ")\n",
    "from sklearn.metrics import (\n",
    "    auc,\n",
    "    brier_score_loss,\n",
    "    confusion_matrix,\n",
    "    mean_squared_error,\n",
    "    roc_auc_score,\n",
    "    roc_curve,\n",
    ")\n",
    "from sklearn.model_selection import GridSearchCV, KFold, train_test_split\n",
    "from sklearn.preprocessing import StandardScaler\n",
    "from statsmodels.tools.eval_measures import rmse\n",
    "\n",
    "warnings.filterwarnings(\"ignore\")"
   ]
  },
  {
   "cell_type": "code",
   "execution_count": 2,
   "metadata": {},
   "outputs": [],
   "source": [
    "# Current script folder\n",
    "path = os.getcwd()\n",
    "base_dir = path.split(\"da_case_studies\")[0]\n",
    "\n",
    "# Set the location of your data directory\n",
    "data_dir = base_dir + \"da_data_repo\"\n",
    "\n",
    "# location folders\n",
    "data_in = os.path.join(data_dir, \"bisnode-firms/clean/\")\n",
    "data_out = os.path.join(data_dir, \"bisnode-firms/\")\n",
    "output = os.path.join(data_out, \"output/\")\n",
    "func = os.path.join(base_dir, \"da_case_studies/ch00-tech-prep/\")\n",
    "sys.path.append(func)\n",
    "\n",
    "# Import the prewritten helper functions\n",
    "from py_helper_functions import *\n"
   ]
  },
  {
   "cell_type": "markdown",
   "metadata": {},
   "source": [
    "## Import data"
   ]
  },
  {
   "cell_type": "code",
   "execution_count": 3,
   "metadata": {},
   "outputs": [],
   "source": [
    "data = pd.read_csv(data_out + \"bisnode_firms_clean.csv\")"
   ]
  },
  {
   "cell_type": "code",
   "execution_count": 4,
   "metadata": {
    "scrolled": false
   },
   "outputs": [
    {
     "data": {
      "text/html": [
       "<div>\n",
       "<style scoped>\n",
       "    .dataframe tbody tr th:only-of-type {\n",
       "        vertical-align: middle;\n",
       "    }\n",
       "\n",
       "    .dataframe tbody tr th {\n",
       "        vertical-align: top;\n",
       "    }\n",
       "\n",
       "    .dataframe thead th {\n",
       "        text-align: right;\n",
       "    }\n",
       "</style>\n",
       "<table border=\"1\" class=\"dataframe\">\n",
       "  <thead>\n",
       "    <tr style=\"text-align: right;\">\n",
       "      <th></th>\n",
       "      <th>year</th>\n",
       "      <th>comp_id</th>\n",
       "      <th>amort</th>\n",
       "      <th>curr_assets</th>\n",
       "      <th>curr_liab</th>\n",
       "      <th>extra_exp</th>\n",
       "      <th>extra_inc</th>\n",
       "      <th>extra_profit_loss</th>\n",
       "      <th>fixed_assets</th>\n",
       "      <th>inc_bef_tax</th>\n",
       "      <th>...</th>\n",
       "      <th>flag_high_ceo_age</th>\n",
       "      <th>flag_miss_ceo_age</th>\n",
       "      <th>ceo_young</th>\n",
       "      <th>labor_avg_mod</th>\n",
       "      <th>flag_miss_labor_avg</th>\n",
       "      <th>sales_mil_log_sq</th>\n",
       "      <th>flag_low_d1_sales_mil_log</th>\n",
       "      <th>flag_high_d1_sales_mil_log</th>\n",
       "      <th>d1_sales_mil_log_mod</th>\n",
       "      <th>d1_sales_mil_log_mod_sq</th>\n",
       "    </tr>\n",
       "  </thead>\n",
       "  <tbody>\n",
       "    <tr>\n",
       "      <th>count</th>\n",
       "      <td>19036.0</td>\n",
       "      <td>1.903600e+04</td>\n",
       "      <td>1.903600e+04</td>\n",
       "      <td>1.903600e+04</td>\n",
       "      <td>1.903600e+04</td>\n",
       "      <td>19036.000000</td>\n",
       "      <td>1.903600e+04</td>\n",
       "      <td>1.903600e+04</td>\n",
       "      <td>1.903600e+04</td>\n",
       "      <td>1.903600e+04</td>\n",
       "      <td>...</td>\n",
       "      <td>19036.000000</td>\n",
       "      <td>19036.000000</td>\n",
       "      <td>19036.000000</td>\n",
       "      <td>19036.000000</td>\n",
       "      <td>19036.000000</td>\n",
       "      <td>1.903600e+04</td>\n",
       "      <td>19036.000000</td>\n",
       "      <td>19036.000000</td>\n",
       "      <td>19036.000000</td>\n",
       "      <td>19036.000000</td>\n",
       "    </tr>\n",
       "    <tr>\n",
       "      <th>mean</th>\n",
       "      <td>2012.0</td>\n",
       "      <td>1.529275e+11</td>\n",
       "      <td>9.274374e+03</td>\n",
       "      <td>9.914862e+04</td>\n",
       "      <td>8.567028e+04</td>\n",
       "      <td>418.017165</td>\n",
       "      <td>1.641894e+03</td>\n",
       "      <td>1.220200e+03</td>\n",
       "      <td>1.451590e+05</td>\n",
       "      <td>5.869079e+03</td>\n",
       "      <td>...</td>\n",
       "      <td>0.004150</td>\n",
       "      <td>0.145619</td>\n",
       "      <td>0.267388</td>\n",
       "      <td>0.627548</td>\n",
       "      <td>0.135900</td>\n",
       "      <td>1.225573e+01</td>\n",
       "      <td>0.038926</td>\n",
       "      <td>0.021538</td>\n",
       "      <td>-0.048296</td>\n",
       "      <td>0.287703</td>\n",
       "    </tr>\n",
       "    <tr>\n",
       "      <th>std</th>\n",
       "      <td>0.0</td>\n",
       "      <td>1.377319e+11</td>\n",
       "      <td>4.975021e+04</td>\n",
       "      <td>4.377075e+05</td>\n",
       "      <td>4.202974e+05</td>\n",
       "      <td>7141.930068</td>\n",
       "      <td>3.283540e+04</td>\n",
       "      <td>3.212567e+04</td>\n",
       "      <td>1.105861e+06</td>\n",
       "      <td>1.305634e+05</td>\n",
       "      <td>...</td>\n",
       "      <td>0.064289</td>\n",
       "      <td>0.352733</td>\n",
       "      <td>0.442608</td>\n",
       "      <td>1.473032</td>\n",
       "      <td>0.342692</td>\n",
       "      <td>1.042676e+01</td>\n",
       "      <td>0.193424</td>\n",
       "      <td>0.145174</td>\n",
       "      <td>0.534214</td>\n",
       "      <td>0.602235</td>\n",
       "    </tr>\n",
       "    <tr>\n",
       "      <th>min</th>\n",
       "      <td>2012.0</td>\n",
       "      <td>1.001541e+06</td>\n",
       "      <td>-1.489630e+04</td>\n",
       "      <td>0.000000e+00</td>\n",
       "      <td>-8.759259e+03</td>\n",
       "      <td>-1418.518555</td>\n",
       "      <td>-1.740741e+02</td>\n",
       "      <td>-2.484481e+05</td>\n",
       "      <td>0.000000e+00</td>\n",
       "      <td>-1.091879e+07</td>\n",
       "      <td>...</td>\n",
       "      <td>0.000000</td>\n",
       "      <td>0.000000</td>\n",
       "      <td>0.000000</td>\n",
       "      <td>0.083333</td>\n",
       "      <td>0.000000</td>\n",
       "      <td>2.074996e-07</td>\n",
       "      <td>0.000000</td>\n",
       "      <td>0.000000</td>\n",
       "      <td>-1.500000</td>\n",
       "      <td>0.000000</td>\n",
       "    </tr>\n",
       "    <tr>\n",
       "      <th>25%</th>\n",
       "      <td>2012.0</td>\n",
       "      <td>2.868348e+10</td>\n",
       "      <td>1.185185e+02</td>\n",
       "      <td>3.314815e+03</td>\n",
       "      <td>3.822222e+03</td>\n",
       "      <td>0.000000</td>\n",
       "      <td>0.000000e+00</td>\n",
       "      <td>0.000000e+00</td>\n",
       "      <td>1.074074e+02</td>\n",
       "      <td>-6.519444e+03</td>\n",
       "      <td>...</td>\n",
       "      <td>0.000000</td>\n",
       "      <td>0.000000</td>\n",
       "      <td>0.000000</td>\n",
       "      <td>0.125000</td>\n",
       "      <td>0.000000</td>\n",
       "      <td>4.049695e+00</td>\n",
       "      <td>0.000000</td>\n",
       "      <td>0.000000</td>\n",
       "      <td>-0.194249</td>\n",
       "      <td>0.000654</td>\n",
       "    </tr>\n",
       "    <tr>\n",
       "      <th>50%</th>\n",
       "      <td>2012.0</td>\n",
       "      <td>1.142688e+11</td>\n",
       "      <td>8.814815e+02</td>\n",
       "      <td>1.146852e+04</td>\n",
       "      <td>1.485185e+04</td>\n",
       "      <td>0.000000</td>\n",
       "      <td>0.000000e+00</td>\n",
       "      <td>0.000000e+00</td>\n",
       "      <td>4.600000e+03</td>\n",
       "      <td>2.407407e+02</td>\n",
       "      <td>...</td>\n",
       "      <td>0.000000</td>\n",
       "      <td>0.000000</td>\n",
       "      <td>0.000000</td>\n",
       "      <td>0.291667</td>\n",
       "      <td>0.000000</td>\n",
       "      <td>9.767982e+00</td>\n",
       "      <td>0.000000</td>\n",
       "      <td>0.000000</td>\n",
       "      <td>0.000000</td>\n",
       "      <td>0.025531</td>\n",
       "    </tr>\n",
       "    <tr>\n",
       "      <th>75%</th>\n",
       "      <td>2012.0</td>\n",
       "      <td>2.556061e+11</td>\n",
       "      <td>4.070370e+03</td>\n",
       "      <td>4.023333e+04</td>\n",
       "      <td>4.803796e+04</td>\n",
       "      <td>0.000000</td>\n",
       "      <td>0.000000e+00</td>\n",
       "      <td>0.000000e+00</td>\n",
       "      <td>3.940926e+04</td>\n",
       "      <td>4.066667e+03</td>\n",
       "      <td>...</td>\n",
       "      <td>0.000000</td>\n",
       "      <td>0.000000</td>\n",
       "      <td>1.000000</td>\n",
       "      <td>0.621691</td>\n",
       "      <td>0.000000</td>\n",
       "      <td>1.754330e+01</td>\n",
       "      <td>0.000000</td>\n",
       "      <td>0.000000</td>\n",
       "      <td>0.130772</td>\n",
       "      <td>0.188141</td>\n",
       "    </tr>\n",
       "    <tr>\n",
       "      <th>max</th>\n",
       "      <td>2012.0</td>\n",
       "      <td>4.641050e+11</td>\n",
       "      <td>3.570863e+06</td>\n",
       "      <td>1.874527e+07</td>\n",
       "      <td>3.660118e+07</td>\n",
       "      <td>666300.000000</td>\n",
       "      <td>3.266667e+06</td>\n",
       "      <td>3.253704e+06</td>\n",
       "      <td>1.036673e+08</td>\n",
       "      <td>4.378226e+06</td>\n",
       "      <td>...</td>\n",
       "      <td>1.000000</td>\n",
       "      <td>1.000000</td>\n",
       "      <td>1.000000</td>\n",
       "      <td>42.118057</td>\n",
       "      <td>1.000000</td>\n",
       "      <td>4.771708e+01</td>\n",
       "      <td>1.000000</td>\n",
       "      <td>1.000000</td>\n",
       "      <td>1.500000</td>\n",
       "      <td>2.250000</td>\n",
       "    </tr>\n",
       "  </tbody>\n",
       "</table>\n",
       "<p>8 rows × 108 columns</p>\n",
       "</div>"
      ],
      "text/plain": [
       "          year       comp_id         amort   curr_assets     curr_liab  \\\n",
       "count  19036.0  1.903600e+04  1.903600e+04  1.903600e+04  1.903600e+04   \n",
       "mean    2012.0  1.529275e+11  9.274374e+03  9.914862e+04  8.567028e+04   \n",
       "std        0.0  1.377319e+11  4.975021e+04  4.377075e+05  4.202974e+05   \n",
       "min     2012.0  1.001541e+06 -1.489630e+04  0.000000e+00 -8.759259e+03   \n",
       "25%     2012.0  2.868348e+10  1.185185e+02  3.314815e+03  3.822222e+03   \n",
       "50%     2012.0  1.142688e+11  8.814815e+02  1.146852e+04  1.485185e+04   \n",
       "75%     2012.0  2.556061e+11  4.070370e+03  4.023333e+04  4.803796e+04   \n",
       "max     2012.0  4.641050e+11  3.570863e+06  1.874527e+07  3.660118e+07   \n",
       "\n",
       "           extra_exp     extra_inc  extra_profit_loss  fixed_assets  \\\n",
       "count   19036.000000  1.903600e+04       1.903600e+04  1.903600e+04   \n",
       "mean      418.017165  1.641894e+03       1.220200e+03  1.451590e+05   \n",
       "std      7141.930068  3.283540e+04       3.212567e+04  1.105861e+06   \n",
       "min     -1418.518555 -1.740741e+02      -2.484481e+05  0.000000e+00   \n",
       "25%         0.000000  0.000000e+00       0.000000e+00  1.074074e+02   \n",
       "50%         0.000000  0.000000e+00       0.000000e+00  4.600000e+03   \n",
       "75%         0.000000  0.000000e+00       0.000000e+00  3.940926e+04   \n",
       "max    666300.000000  3.266667e+06       3.253704e+06  1.036673e+08   \n",
       "\n",
       "        inc_bef_tax  ...  flag_high_ceo_age  flag_miss_ceo_age     ceo_young  \\\n",
       "count  1.903600e+04  ...       19036.000000       19036.000000  19036.000000   \n",
       "mean   5.869079e+03  ...           0.004150           0.145619      0.267388   \n",
       "std    1.305634e+05  ...           0.064289           0.352733      0.442608   \n",
       "min   -1.091879e+07  ...           0.000000           0.000000      0.000000   \n",
       "25%   -6.519444e+03  ...           0.000000           0.000000      0.000000   \n",
       "50%    2.407407e+02  ...           0.000000           0.000000      0.000000   \n",
       "75%    4.066667e+03  ...           0.000000           0.000000      1.000000   \n",
       "max    4.378226e+06  ...           1.000000           1.000000      1.000000   \n",
       "\n",
       "       labor_avg_mod  flag_miss_labor_avg  sales_mil_log_sq  \\\n",
       "count   19036.000000         19036.000000      1.903600e+04   \n",
       "mean        0.627548             0.135900      1.225573e+01   \n",
       "std         1.473032             0.342692      1.042676e+01   \n",
       "min         0.083333             0.000000      2.074996e-07   \n",
       "25%         0.125000             0.000000      4.049695e+00   \n",
       "50%         0.291667             0.000000      9.767982e+00   \n",
       "75%         0.621691             0.000000      1.754330e+01   \n",
       "max        42.118057             1.000000      4.771708e+01   \n",
       "\n",
       "       flag_low_d1_sales_mil_log  flag_high_d1_sales_mil_log  \\\n",
       "count               19036.000000                19036.000000   \n",
       "mean                    0.038926                    0.021538   \n",
       "std                     0.193424                    0.145174   \n",
       "min                     0.000000                    0.000000   \n",
       "25%                     0.000000                    0.000000   \n",
       "50%                     0.000000                    0.000000   \n",
       "75%                     0.000000                    0.000000   \n",
       "max                     1.000000                    1.000000   \n",
       "\n",
       "       d1_sales_mil_log_mod  d1_sales_mil_log_mod_sq  \n",
       "count          19036.000000             19036.000000  \n",
       "mean              -0.048296                 0.287703  \n",
       "std                0.534214                 0.602235  \n",
       "min               -1.500000                 0.000000  \n",
       "25%               -0.194249                 0.000654  \n",
       "50%                0.000000                 0.025531  \n",
       "75%                0.130772                 0.188141  \n",
       "max                1.500000                 2.250000  \n",
       "\n",
       "[8 rows x 108 columns]"
      ]
     },
     "execution_count": 4,
     "metadata": {},
     "output_type": "execute_result"
    }
   ],
   "source": [
    "data.describe()"
   ]
  },
  {
   "cell_type": "markdown",
   "metadata": {},
   "source": [
    "## Define helper functions"
   ]
  },
  {
   "cell_type": "code",
   "execution_count": 5,
   "metadata": {},
   "outputs": [],
   "source": [
    "def regression_results(y_true, y_pred):\n",
    "\n",
    "    # Regression metrics\n",
    "    explained_variance = metrics.explained_variance_score(y_true, y_pred)\n",
    "    mean_absolute_error = metrics.mean_absolute_error(y_true, y_pred)\n",
    "    mse = metrics.mean_squared_error(y_true, y_pred)\n",
    "    median_absolute_error = metrics.median_absolute_error(y_true, y_pred)\n",
    "    r2 = metrics.r2_score(y_true, y_pred)\n",
    "\n",
    "    print(\"explained_variance: \", round(explained_variance, 4))\n",
    "    print(\"r2: \", round(r2, 4))\n",
    "    print(\"MAE: \", round(mean_absolute_error, 4))\n",
    "    print(\"MSE: \", round(mse, 4))\n",
    "    print(\"RMSE: \", round(np.sqrt(mse), 4))\n",
    "\n",
    "\n",
    "def coef_matrix(X, model):\n",
    "\n",
    "    coef_matrix = pd.concat(\n",
    "        [pd.DataFrame(X.columns), pd.DataFrame(np.transpose(model.coef_))], axis=1\n",
    "    )\n",
    "    coef_matrix.columns = [\"variable\", \"coefficient\"]\n",
    "    coef_matrix = coef_matrix.append(\n",
    "        {\"variable\": \"Intercept\", \"coefficient\": model.intercept_},\n",
    "        ignore_index=True,\n",
    "    )\n",
    "    return coef_matrix\n",
    "\n",
    "\n",
    "def cv_summary(lambdas, C_values, model):\n",
    "    d = {\n",
    "        \"lambdas\": lambdas,\n",
    "        \"C_values\": C_values,\n",
    "        \"mean_cv_score\": model.scores_[1].mean(axis=0),\n",
    "    }\n",
    "    return pd.DataFrame(data=d)\n",
    "\n",
    "\n",
    "def create_roc_plot(y_true, y_pred):\n",
    "    fpr, tpr, thresholds = roc_curve(y_true, y_pred)\n",
    "    all_coords = pd.DataFrame({\"fpr\": fpr, \"tpr\": tpr, \"thresholds\": thresholds})\n",
    "\n",
    "    plot = (\n",
    "        ggplot(all_coords, aes(x=\"fpr\", y=\"tpr\"))\n",
    "        + geom_line(color=color[0], size=0.7)\n",
    "        + geom_area(position=\"identity\", fill=\"mediumaquamarine\", alpha=0.3)\n",
    "        + xlab(\"False Positive Rate (1-Specifity)\")\n",
    "        + ylab(\"True Positive Rate (Sensitivity)\")\n",
    "        + geom_abline(intercept=0, slope=1, linetype=\"dotted\", color=\"black\")\n",
    "        + scale_y_continuous(limits=(0, 1), breaks=seq(0, 1, 0.1), expand=(0, 0.01))\n",
    "        + scale_x_continuous(limits=(0, 1), breaks=seq(0, 1, 0.1), expand=(0.01, 0))\n",
    "        + theme_bw()\n",
    "    )\n",
    "    return plot\n",
    "\n",
    "\n",
    "def sigmoid_array(x):\n",
    "    return 1 / (1 + np.exp(-x))\n",
    "\n",
    "\n",
    "def generate_fold_prediction(model, X, fold, param_index):\n",
    "    fold_coef = model.coefs_paths_[1][fold, param_index, :]\n",
    "    return sigmoid_array(\n",
    "        np.dot(X, np.transpose(fold_coef)[:-1]) + np.transpose(fold_coef)[-1]\n",
    "    )\n",
    "\n",
    "\n",
    "def create_loss_plot(all_coords, optimal_threshold, curr_exp_loss):\n",
    "    all_coords_copy = all_coords.copy()\n",
    "    all_coords_copy[\"loss\"] = (\n",
    "        all_coords_copy.false_pos * FP + all_coords_copy.false_neg * FN\n",
    "    ) / all_coords_copy.n\n",
    "\n",
    "    t = optimal_threshold\n",
    "    l = curr_exp_loss\n",
    "\n",
    "    plot = (\n",
    "        ggplot(all_coords_copy, aes(x=\"thresholds\", y=\"loss\"))\n",
    "        + geom_line(color=color[0], size=0.7)\n",
    "        + scale_x_continuous(breaks=seq(0, 1.1, by=0.1))\n",
    "        + coord_cartesian(xlim=(0, 1))\n",
    "        + geom_vline(xintercept=t, color=color[0])\n",
    "        + annotate(\n",
    "            geom=\"text\",\n",
    "            x=t - 0.01,\n",
    "            y=max(all_coords_copy.loss) - 0.4,\n",
    "            label=\"best threshold: \" + str(round(t, 2)),\n",
    "            colour=color[1],\n",
    "            angle=90,\n",
    "            size=7,\n",
    "        )\n",
    "        + annotate(geom=\"text\", x=t + 0.06, y=l, label=str(round(l, 2)), size=7)\n",
    "        + theme_bw()\n",
    "    )\n",
    "    return plot\n",
    "\n",
    "\n",
    "def create_roc_plot_with_optimal(all_coords, optimal_threshold):\n",
    "    all_coords_copy = all_coords.copy()\n",
    "    all_coords_copy[\"sp\"] = 1 - all_coords_copy.true_neg / all_coords_copy.neg\n",
    "    all_coords_copy[\"se\"] = all_coords_copy.true_pos / all_coords_copy.pos\n",
    "\n",
    "    best_coords = all_coords_copy[all_coords_copy.thresholds == optimal_threshold]\n",
    "    sp = best_coords.sp.values[0]\n",
    "    se = best_coords.se.values[0]\n",
    "\n",
    "    plot = (\n",
    "        ggplot(all_coords_copy, aes(x=\"sp\", y=\"se\"))\n",
    "        + geom_line(color=color[0], size=0.7)\n",
    "        + scale_y_continuous(breaks=seq(0, 1.1, by=0.1))\n",
    "        + scale_x_continuous(breaks=seq(0, 1.1, by=0.1))\n",
    "        + geom_point(data=pd.DataFrame({\"sp\": [sp], \"se\": [se]}))\n",
    "        + annotate(\n",
    "            geom=\"text\",\n",
    "            x=sp,\n",
    "            y=se + 0.03,\n",
    "            label=str(round(sp, 2)) + \", \" + str(round(se, 2)),\n",
    "            size=7,\n",
    "        )\n",
    "        + geom_area(position=\"identity\", fill=\"mediumaquamarine\", alpha=0.3)\n",
    "        + xlab(\"False Positive Rate (1-Specifity)\")\n",
    "        + ylab(\"True Positive Rate (Sensitivity)\")\n",
    "        + geom_abline(intercept=0, slope=1, linetype=\"dotted\", color=\"black\")\n",
    "        + theme_bw()\n",
    "    )\n",
    "    return plot\n"
   ]
  },
  {
   "cell_type": "markdown",
   "metadata": {},
   "source": [
    "## Model building\n",
    "\n",
    "### Define variable sets "
   ]
  },
  {
   "cell_type": "markdown",
   "metadata": {},
   "source": [
    " Main firm variables"
   ]
  },
  {
   "cell_type": "code",
   "execution_count": 6,
   "metadata": {},
   "outputs": [],
   "source": [
    "rawvars = [\n",
    "    \"curr_assets\",\n",
    "    \"curr_liab\",\n",
    "    \"extra_exp\",\n",
    "    \"extra_inc\",\n",
    "    \"extra_profit_loss\",\n",
    "    \"fixed_assets\",\n",
    "    \"inc_bef_tax\",\n",
    "    \"intang_assets\",\n",
    "    \"inventories\",\n",
    "    \"liq_assets\",\n",
    "    \"material_exp\",\n",
    "    \"personnel_exp\",\n",
    "    \"profit_loss_year\",\n",
    "    \"sales\",\n",
    "    \"share_eq\",\n",
    "    \"subscribed_cap\",\n",
    "]"
   ]
  },
  {
   "cell_type": "markdown",
   "metadata": {},
   "source": [
    "Further financial variables"
   ]
  },
  {
   "cell_type": "code",
   "execution_count": 7,
   "metadata": {},
   "outputs": [],
   "source": [
    "qualityvars = [\"balsheet_flag\", \"balsheet_length\", \"balsheet_notfullyear\"]\n",
    "engvar = [\n",
    "    \"total_assets_bs\",\n",
    "    \"fixed_assets_bs\",\n",
    "    \"liq_assets_bs\",\n",
    "    \"curr_assets_bs\",\n",
    "    \"share_eq_bs\",\n",
    "    \"subscribed_cap_bs\",\n",
    "    \"intang_assets_bs\",\n",
    "    \"extra_exp_pl\",\n",
    "    \"extra_inc_pl\",\n",
    "    \"extra_profit_loss_pl\",\n",
    "    \"inc_bef_tax_pl\",\n",
    "    \"inventories_pl\",\n",
    "    \"material_exp_pl\",\n",
    "    \"profit_loss_year_pl\",\n",
    "    \"personnel_exp_pl\",\n",
    "]\n",
    "engvar2 = [\n",
    "    \"extra_profit_loss_pl_quad\",\n",
    "    \"inc_bef_tax_pl_quad\",\n",
    "    \"profit_loss_year_pl_quad\",\n",
    "    \"share_eq_bs_quad\",\n",
    "]"
   ]
  },
  {
   "cell_type": "markdown",
   "metadata": {},
   "source": [
    " Flag variables"
   ]
  },
  {
   "cell_type": "code",
   "execution_count": 8,
   "metadata": {},
   "outputs": [],
   "source": [
    "engvar3 = []\n",
    "for col in data.columns:\n",
    "    if (\n",
    "        col.endswith(\"flag_low\")\n",
    "        or col.endswith(\"flag_high\")\n",
    "        or col.endswith(\"flag_error\")\n",
    "        or col.endswith(\"flag_zero\")\n",
    "    ):\n",
    "        engvar3.append(col)"
   ]
  },
  {
   "cell_type": "markdown",
   "metadata": {},
   "source": [
    "Growth variables"
   ]
  },
  {
   "cell_type": "code",
   "execution_count": 9,
   "metadata": {},
   "outputs": [],
   "source": [
    "d1 = [\n",
    "    \"d1_sales_mil_log_mod\",\n",
    "    \"d1_sales_mil_log_mod_sq\",\n",
    "    \"flag_low_d1_sales_mil_log\",\n",
    "    \"flag_high_d1_sales_mil_log\",\n",
    "]"
   ]
  },
  {
   "cell_type": "markdown",
   "metadata": {},
   "source": [
    "Human capital related variables"
   ]
  },
  {
   "cell_type": "code",
   "execution_count": 10,
   "metadata": {},
   "outputs": [],
   "source": [
    "hr = [\n",
    "    \"female\",\n",
    "    \"ceo_age\",\n",
    "    \"flag_high_ceo_age\",\n",
    "    \"flag_low_ceo_age\",\n",
    "    \"flag_miss_ceo_age\",\n",
    "    \"ceo_count\",\n",
    "    \"labor_avg_mod\",\n",
    "    \"flag_miss_labor_avg\",\n",
    "    \"foreign_management\",\n",
    "]"
   ]
  },
  {
   "cell_type": "markdown",
   "metadata": {},
   "source": [
    " Firms history related variables"
   ]
  },
  {
   "cell_type": "code",
   "execution_count": 11,
   "metadata": {},
   "outputs": [],
   "source": [
    "firm = [\"age\", \"age2\", \"new\", \"C(ind2_cat)\", \"C(m_region_loc)\", \"C(urban_m)\"]"
   ]
  },
  {
   "cell_type": "markdown",
   "metadata": {},
   "source": [
    "interactions for logit, LASSO"
   ]
  },
  {
   "cell_type": "code",
   "execution_count": 12,
   "metadata": {},
   "outputs": [],
   "source": [
    "interactions1 = [\n",
    "    \"C(ind2_cat)*age\",\n",
    "    \"C(ind2_cat)*age2\",\n",
    "    \"C(ind2_cat)*d1_sales_mil_log_mod\",\n",
    "    \"C(ind2_cat)*sales_mil_log\",\n",
    "    \"C(ind2_cat)*ceo_age\",\n",
    "    \"C(ind2_cat)*foreign_management\",\n",
    "    \"C(ind2_cat)*female\",\n",
    "    \"C(ind2_cat)*C(urban_m)\",\n",
    "    \"C(ind2_cat)*labor_avg_mod\",\n",
    "]\n",
    "interactions2 = [\n",
    "    \"sales_mil_log*age\",\n",
    "    \"sales_mil_log*female\",\n",
    "    \"sales_mil_log*profit_loss_year_pl\",\n",
    "    \"sales_mil_log*foreign_management\",\n",
    "]"
   ]
  },
  {
   "cell_type": "markdown",
   "metadata": {},
   "source": [
    "## Model setups"
   ]
  },
  {
   "cell_type": "markdown",
   "metadata": {},
   "source": [
    "1. Simple logit models"
   ]
  },
  {
   "cell_type": "code",
   "execution_count": 13,
   "metadata": {},
   "outputs": [],
   "source": [
    "M1 = [\n",
    "    \"sales_mil_log\",\n",
    "    \"sales_mil_log_sq\",\n",
    "    \"d1_sales_mil_log_mod\",\n",
    "    \"profit_loss_year_pl\",\n",
    "    \"C(ind2_cat)\",\n",
    "]\n",
    "M2 = [\n",
    "    \"sales_mil_log\",\n",
    "    \"sales_mil_log_sq\",\n",
    "    \"d1_sales_mil_log_mod\",\n",
    "    \"profit_loss_year_pl\",\n",
    "    \"fixed_assets_bs\",\n",
    "    \"share_eq_bs\",\n",
    "    \"curr_liab_bs \",\n",
    "    \"curr_liab_bs_flag_high \",\n",
    "    \"curr_liab_bs_flag_error\",\n",
    "    \"age\",\n",
    "    \"foreign_management\",\n",
    "    \"C(ind2_cat)\",\n",
    "]\n",
    "M3 = [\"sales_mil_log\", \"sales_mil_log_sq\"] + firm + engvar + d1\n",
    "M4 = (\n",
    "    [\"sales_mil_log\", \"sales_mil_log_sq\"]\n",
    "    + firm\n",
    "    + engvar\n",
    "    + engvar2\n",
    "    + engvar3\n",
    "    + d1\n",
    "    + hr\n",
    "    + qualityvars\n",
    ")\n",
    "M5 = (\n",
    "    [\"sales_mil_log\", \"sales_mil_log_sq\"]\n",
    "    + firm\n",
    "    + engvar\n",
    "    + engvar2\n",
    "    + engvar3\n",
    "    + d1\n",
    "    + hr\n",
    "    + qualityvars\n",
    "    + interactions1\n",
    "    + interactions2\n",
    ")"
   ]
  },
  {
   "cell_type": "markdown",
   "metadata": {},
   "source": [
    "2. logit+LASSO"
   ]
  },
  {
   "cell_type": "code",
   "execution_count": 14,
   "metadata": {
    "scrolled": true
   },
   "outputs": [],
   "source": [
    "logit_lasso_vars = (\n",
    "    [\"sales_mil_log\", \"sales_mil_log_sq\"]\n",
    "    + engvar\n",
    "    + engvar2\n",
    "    + engvar3\n",
    "    + d1\n",
    "    + hr\n",
    "    + firm\n",
    "    + qualityvars\n",
    "    + interactions1\n",
    "    + interactions2\n",
    ")"
   ]
  },
  {
   "cell_type": "markdown",
   "metadata": {},
   "source": [
    "3. CART and RF (no interactions, no modified features)"
   ]
  },
  {
   "cell_type": "code",
   "execution_count": 15,
   "metadata": {},
   "outputs": [],
   "source": [
    "rfvars = [\"sales_mil\", \"d1_sales_mil_log\"] + rawvars + hr + firm + qualityvars"
   ]
  },
  {
   "cell_type": "markdown",
   "metadata": {},
   "source": [
    "## Quick reminder about probability models"
   ]
  },
  {
   "cell_type": "markdown",
   "metadata": {},
   "source": [
    " Linear probability model"
   ]
  },
  {
   "cell_type": "code",
   "execution_count": 16,
   "metadata": {},
   "outputs": [
    {
     "data": {
      "text/html": [
       "<table class=\"simpletable\">\n",
       "<caption>OLS Regression Results</caption>\n",
       "<tr>\n",
       "  <th>Dep. Variable:</th>         <td>default</td>     <th>  R-squared:         </th> <td>   0.159</td> \n",
       "</tr>\n",
       "<tr>\n",
       "  <th>Model:</th>                   <td>OLS</td>       <th>  Adj. R-squared:    </th> <td>   0.158</td> \n",
       "</tr>\n",
       "<tr>\n",
       "  <th>Method:</th>             <td>Least Squares</td>  <th>  F-statistic:       </th> <td>   185.4</td> \n",
       "</tr>\n",
       "<tr>\n",
       "  <th>Date:</th>             <td>Mon, 17 Oct 2022</td> <th>  Prob (F-statistic):</th>  <td>  0.00</td>  \n",
       "</tr>\n",
       "<tr>\n",
       "  <th>Time:</th>                 <td>11:10:35</td>     <th>  Log-Likelihood:    </th> <td> -7998.3</td> \n",
       "</tr>\n",
       "<tr>\n",
       "  <th>No. Observations:</th>      <td> 19036</td>      <th>  AIC:               </th> <td>1.603e+04</td>\n",
       "</tr>\n",
       "<tr>\n",
       "  <th>Df Residuals:</th>          <td> 19017</td>      <th>  BIC:               </th> <td>1.618e+04</td>\n",
       "</tr>\n",
       "<tr>\n",
       "  <th>Df Model:</th>              <td>    18</td>      <th>                     </th>     <td> </td>    \n",
       "</tr>\n",
       "<tr>\n",
       "  <th>Covariance Type:</th>         <td>HC1</td>       <th>                     </th>     <td> </td>    \n",
       "</tr>\n",
       "</table>\n",
       "<table class=\"simpletable\">\n",
       "<tr>\n",
       "             <td></td>                <th>coef</th>     <th>std err</th>      <th>z</th>      <th>P>|z|</th>  <th>[0.025</th>    <th>0.975]</th>  \n",
       "</tr>\n",
       "<tr>\n",
       "  <th>Intercept</th>               <td>    0.1495</td> <td>    0.014</td> <td>   10.540</td> <td> 0.000</td> <td>    0.122</td> <td>    0.177</td>\n",
       "</tr>\n",
       "<tr>\n",
       "  <th>C(ind2_cat)[T.27.0]</th>     <td>    0.0175</td> <td>    0.015</td> <td>    1.141</td> <td> 0.254</td> <td>   -0.013</td> <td>    0.048</td>\n",
       "</tr>\n",
       "<tr>\n",
       "  <th>C(ind2_cat)[T.28.0]</th>     <td>    0.0086</td> <td>    0.012</td> <td>    0.751</td> <td> 0.452</td> <td>   -0.014</td> <td>    0.031</td>\n",
       "</tr>\n",
       "<tr>\n",
       "  <th>C(ind2_cat)[T.29.0]</th>     <td>    0.0438</td> <td>    0.022</td> <td>    1.977</td> <td> 0.048</td> <td>    0.000</td> <td>    0.087</td>\n",
       "</tr>\n",
       "<tr>\n",
       "  <th>C(ind2_cat)[T.30.0]</th>     <td>   -0.0045</td> <td>    0.031</td> <td>   -0.146</td> <td> 0.884</td> <td>   -0.065</td> <td>    0.056</td>\n",
       "</tr>\n",
       "<tr>\n",
       "  <th>C(ind2_cat)[T.33.0]</th>     <td>   -0.0153</td> <td>    0.012</td> <td>   -1.293</td> <td> 0.196</td> <td>   -0.038</td> <td>    0.008</td>\n",
       "</tr>\n",
       "<tr>\n",
       "  <th>C(ind2_cat)[T.55.0]</th>     <td>    0.0169</td> <td>    0.013</td> <td>    1.328</td> <td> 0.184</td> <td>   -0.008</td> <td>    0.042</td>\n",
       "</tr>\n",
       "<tr>\n",
       "  <th>C(ind2_cat)[T.56.0]</th>     <td>    0.0579</td> <td>    0.011</td> <td>    5.386</td> <td> 0.000</td> <td>    0.037</td> <td>    0.079</td>\n",
       "</tr>\n",
       "<tr>\n",
       "  <th>sales_mil_log</th>           <td>    0.0064</td> <td>    0.003</td> <td>    1.932</td> <td> 0.053</td> <td>-9.28e-05</td> <td>    0.013</td>\n",
       "</tr>\n",
       "<tr>\n",
       "  <th>sales_mil_log_sq</th>        <td>    0.0069</td> <td>    0.001</td> <td>   10.671</td> <td> 0.000</td> <td>    0.006</td> <td>    0.008</td>\n",
       "</tr>\n",
       "<tr>\n",
       "  <th>d1_sales_mil_log_mod</th>    <td>   -0.0704</td> <td>    0.006</td> <td>  -11.435</td> <td> 0.000</td> <td>   -0.082</td> <td>   -0.058</td>\n",
       "</tr>\n",
       "<tr>\n",
       "  <th>profit_loss_year_pl</th>     <td>   -0.0991</td> <td>    0.011</td> <td>   -9.094</td> <td> 0.000</td> <td>   -0.120</td> <td>   -0.078</td>\n",
       "</tr>\n",
       "<tr>\n",
       "  <th>fixed_assets_bs</th>         <td>   -0.1197</td> <td>    0.009</td> <td>  -13.165</td> <td> 0.000</td> <td>   -0.138</td> <td>   -0.102</td>\n",
       "</tr>\n",
       "<tr>\n",
       "  <th>share_eq_bs</th>             <td>   -0.0586</td> <td>    0.007</td> <td>   -7.895</td> <td> 0.000</td> <td>   -0.073</td> <td>   -0.044</td>\n",
       "</tr>\n",
       "<tr>\n",
       "  <th>curr_liab_bs</th>            <td>   -0.0027</td> <td>    0.012</td> <td>   -0.220</td> <td> 0.826</td> <td>   -0.026</td> <td>    0.021</td>\n",
       "</tr>\n",
       "<tr>\n",
       "  <th>curr_liab_bs_flag_high</th>  <td>    0.0509</td> <td>    0.011</td> <td>    4.478</td> <td> 0.000</td> <td>    0.029</td> <td>    0.073</td>\n",
       "</tr>\n",
       "<tr>\n",
       "  <th>curr_liab_bs_flag_error</th> <td>    0.0281</td> <td>    0.134</td> <td>    0.210</td> <td> 0.834</td> <td>   -0.234</td> <td>    0.291</td>\n",
       "</tr>\n",
       "<tr>\n",
       "  <th>age</th>                     <td>   -0.0043</td> <td>    0.000</td> <td>  -10.272</td> <td> 0.000</td> <td>   -0.005</td> <td>   -0.003</td>\n",
       "</tr>\n",
       "<tr>\n",
       "  <th>foreign_management</th>      <td>    0.0205</td> <td>    0.009</td> <td>    2.288</td> <td> 0.022</td> <td>    0.003</td> <td>    0.038</td>\n",
       "</tr>\n",
       "</table>\n",
       "<table class=\"simpletable\">\n",
       "<tr>\n",
       "  <th>Omnibus:</th>       <td>2861.598</td> <th>  Durbin-Watson:     </th> <td>   2.008</td>\n",
       "</tr>\n",
       "<tr>\n",
       "  <th>Prob(Omnibus):</th>  <td> 0.000</td>  <th>  Jarque-Bera (JB):  </th> <td>4351.661</td>\n",
       "</tr>\n",
       "<tr>\n",
       "  <th>Skew:</th>           <td> 1.161</td>  <th>  Prob(JB):          </th> <td>    0.00</td>\n",
       "</tr>\n",
       "<tr>\n",
       "  <th>Kurtosis:</th>       <td> 3.315</td>  <th>  Cond. No.          </th> <td>    826.</td>\n",
       "</tr>\n",
       "</table><br/><br/>Notes:<br/>[1] Standard Errors are heteroscedasticity robust (HC1)"
      ],
      "text/plain": [
       "<class 'statsmodels.iolib.summary.Summary'>\n",
       "\"\"\"\n",
       "                            OLS Regression Results                            \n",
       "==============================================================================\n",
       "Dep. Variable:                default   R-squared:                       0.159\n",
       "Model:                            OLS   Adj. R-squared:                  0.158\n",
       "Method:                 Least Squares   F-statistic:                     185.4\n",
       "Date:                Mon, 17 Oct 2022   Prob (F-statistic):               0.00\n",
       "Time:                        11:10:35   Log-Likelihood:                -7998.3\n",
       "No. Observations:               19036   AIC:                         1.603e+04\n",
       "Df Residuals:                   19017   BIC:                         1.618e+04\n",
       "Df Model:                          18                                         \n",
       "Covariance Type:                  HC1                                         \n",
       "===========================================================================================\n",
       "                              coef    std err          z      P>|z|      [0.025      0.975]\n",
       "-------------------------------------------------------------------------------------------\n",
       "Intercept                   0.1495      0.014     10.540      0.000       0.122       0.177\n",
       "C(ind2_cat)[T.27.0]         0.0175      0.015      1.141      0.254      -0.013       0.048\n",
       "C(ind2_cat)[T.28.0]         0.0086      0.012      0.751      0.452      -0.014       0.031\n",
       "C(ind2_cat)[T.29.0]         0.0438      0.022      1.977      0.048       0.000       0.087\n",
       "C(ind2_cat)[T.30.0]        -0.0045      0.031     -0.146      0.884      -0.065       0.056\n",
       "C(ind2_cat)[T.33.0]        -0.0153      0.012     -1.293      0.196      -0.038       0.008\n",
       "C(ind2_cat)[T.55.0]         0.0169      0.013      1.328      0.184      -0.008       0.042\n",
       "C(ind2_cat)[T.56.0]         0.0579      0.011      5.386      0.000       0.037       0.079\n",
       "sales_mil_log               0.0064      0.003      1.932      0.053   -9.28e-05       0.013\n",
       "sales_mil_log_sq            0.0069      0.001     10.671      0.000       0.006       0.008\n",
       "d1_sales_mil_log_mod       -0.0704      0.006    -11.435      0.000      -0.082      -0.058\n",
       "profit_loss_year_pl        -0.0991      0.011     -9.094      0.000      -0.120      -0.078\n",
       "fixed_assets_bs            -0.1197      0.009    -13.165      0.000      -0.138      -0.102\n",
       "share_eq_bs                -0.0586      0.007     -7.895      0.000      -0.073      -0.044\n",
       "curr_liab_bs               -0.0027      0.012     -0.220      0.826      -0.026       0.021\n",
       "curr_liab_bs_flag_high      0.0509      0.011      4.478      0.000       0.029       0.073\n",
       "curr_liab_bs_flag_error     0.0281      0.134      0.210      0.834      -0.234       0.291\n",
       "age                        -0.0043      0.000    -10.272      0.000      -0.005      -0.003\n",
       "foreign_management          0.0205      0.009      2.288      0.022       0.003       0.038\n",
       "==============================================================================\n",
       "Omnibus:                     2861.598   Durbin-Watson:                   2.008\n",
       "Prob(Omnibus):                  0.000   Jarque-Bera (JB):             4351.661\n",
       "Skew:                           1.161   Prob(JB):                         0.00\n",
       "Kurtosis:                       3.315   Cond. No.                         826.\n",
       "==============================================================================\n",
       "\n",
       "Notes:\n",
       "[1] Standard Errors are heteroscedasticity robust (HC1)\n",
       "\"\"\""
      ]
     },
     "execution_count": 16,
     "metadata": {},
     "output_type": "execute_result"
    }
   ],
   "source": [
    "ols_modelx2 = smf.ols(\"default~\" + \"+\".join(M2), data).fit(cov_type=\"HC1\")\n",
    "ols_modelx2.summary()"
   ]
  },
  {
   "cell_type": "code",
   "execution_count": 17,
   "metadata": {},
   "outputs": [
    {
     "name": "stdout",
     "output_type": "stream",
     "text": [
      "Optimization terminated successfully.\n",
      "         Current function value: 0.423258\n",
      "         Iterations 7\n"
     ]
    }
   ],
   "source": [
    "logit_modelx2 = smf.logit(\"default~\" + \"+\".join(M2), data).fit()"
   ]
  },
  {
   "cell_type": "code",
   "execution_count": 18,
   "metadata": {},
   "outputs": [
    {
     "data": {
      "text/html": [
       "<table class=\"simpletable\">\n",
       "<caption>Logit Regression Results</caption>\n",
       "<tr>\n",
       "  <th>Dep. Variable:</th>        <td>default</td>     <th>  No. Observations:  </th>  <td> 19036</td> \n",
       "</tr>\n",
       "<tr>\n",
       "  <th>Model:</th>                 <td>Logit</td>      <th>  Df Residuals:      </th>  <td> 19017</td> \n",
       "</tr>\n",
       "<tr>\n",
       "  <th>Method:</th>                 <td>MLE</td>       <th>  Df Model:          </th>  <td>    18</td> \n",
       "</tr>\n",
       "<tr>\n",
       "  <th>Date:</th>            <td>Mon, 17 Oct 2022</td> <th>  Pseudo R-squ.:     </th>  <td>0.1591</td> \n",
       "</tr>\n",
       "<tr>\n",
       "  <th>Time:</th>                <td>11:10:36</td>     <th>  Log-Likelihood:    </th> <td> -8057.1</td>\n",
       "</tr>\n",
       "<tr>\n",
       "  <th>converged:</th>             <td>True</td>       <th>  LL-Null:           </th> <td> -9581.9</td>\n",
       "</tr>\n",
       "<tr>\n",
       "  <th>Covariance Type:</th>     <td>nonrobust</td>    <th>  LLR p-value:       </th>  <td> 0.000</td> \n",
       "</tr>\n",
       "</table>\n",
       "<table class=\"simpletable\">\n",
       "<tr>\n",
       "             <td></td>                <th>coef</th>     <th>std err</th>      <th>z</th>      <th>P>|z|</th>  <th>[0.025</th>    <th>0.975]</th>  \n",
       "</tr>\n",
       "<tr>\n",
       "  <th>Intercept</th>               <td>   -2.3506</td> <td>    0.148</td> <td>  -15.877</td> <td> 0.000</td> <td>   -2.641</td> <td>   -2.060</td>\n",
       "</tr>\n",
       "<tr>\n",
       "  <th>C(ind2_cat)[T.27.0]</th>     <td>    0.1455</td> <td>    0.176</td> <td>    0.829</td> <td> 0.407</td> <td>   -0.199</td> <td>    0.490</td>\n",
       "</tr>\n",
       "<tr>\n",
       "  <th>C(ind2_cat)[T.28.0]</th>     <td>    0.0327</td> <td>    0.137</td> <td>    0.238</td> <td> 0.812</td> <td>   -0.236</td> <td>    0.302</td>\n",
       "</tr>\n",
       "<tr>\n",
       "  <th>C(ind2_cat)[T.29.0]</th>     <td>    0.4063</td> <td>    0.224</td> <td>    1.816</td> <td> 0.069</td> <td>   -0.032</td> <td>    0.845</td>\n",
       "</tr>\n",
       "<tr>\n",
       "  <th>C(ind2_cat)[T.30.0]</th>     <td>   -0.0330</td> <td>    0.293</td> <td>   -0.113</td> <td> 0.910</td> <td>   -0.608</td> <td>    0.542</td>\n",
       "</tr>\n",
       "<tr>\n",
       "  <th>C(ind2_cat)[T.33.0]</th>     <td>   -0.1578</td> <td>    0.136</td> <td>   -1.161</td> <td> 0.246</td> <td>   -0.424</td> <td>    0.109</td>\n",
       "</tr>\n",
       "<tr>\n",
       "  <th>C(ind2_cat)[T.55.0]</th>     <td>    0.1287</td> <td>    0.131</td> <td>    0.985</td> <td> 0.324</td> <td>   -0.127</td> <td>    0.385</td>\n",
       "</tr>\n",
       "<tr>\n",
       "  <th>C(ind2_cat)[T.56.0]</th>     <td>    0.4636</td> <td>    0.114</td> <td>    4.064</td> <td> 0.000</td> <td>    0.240</td> <td>    0.687</td>\n",
       "</tr>\n",
       "<tr>\n",
       "  <th>sales_mil_log</th>           <td>   -0.1803</td> <td>    0.045</td> <td>   -4.020</td> <td> 0.000</td> <td>   -0.268</td> <td>   -0.092</td>\n",
       "</tr>\n",
       "<tr>\n",
       "  <th>sales_mil_log_sq</th>        <td>    0.0153</td> <td>    0.006</td> <td>    2.459</td> <td> 0.014</td> <td>    0.003</td> <td>    0.027</td>\n",
       "</tr>\n",
       "<tr>\n",
       "  <th>d1_sales_mil_log_mod</th>    <td>   -0.4821</td> <td>    0.038</td> <td>  -12.706</td> <td> 0.000</td> <td>   -0.556</td> <td>   -0.408</td>\n",
       "</tr>\n",
       "<tr>\n",
       "  <th>profit_loss_year_pl</th>     <td>   -0.4501</td> <td>    0.059</td> <td>   -7.686</td> <td> 0.000</td> <td>   -0.565</td> <td>   -0.335</td>\n",
       "</tr>\n",
       "<tr>\n",
       "  <th>fixed_assets_bs</th>         <td>   -0.8110</td> <td>    0.064</td> <td>  -12.631</td> <td> 0.000</td> <td>   -0.937</td> <td>   -0.685</td>\n",
       "</tr>\n",
       "<tr>\n",
       "  <th>share_eq_bs</th>             <td>   -0.3881</td> <td>    0.046</td> <td>   -8.371</td> <td> 0.000</td> <td>   -0.479</td> <td>   -0.297</td>\n",
       "</tr>\n",
       "<tr>\n",
       "  <th>curr_liab_bs</th>            <td>    0.1712</td> <td>    0.092</td> <td>    1.865</td> <td> 0.062</td> <td>   -0.009</td> <td>    0.351</td>\n",
       "</tr>\n",
       "<tr>\n",
       "  <th>curr_liab_bs_flag_high</th>  <td>    0.1354</td> <td>    0.075</td> <td>    1.811</td> <td> 0.070</td> <td>   -0.011</td> <td>    0.282</td>\n",
       "</tr>\n",
       "<tr>\n",
       "  <th>curr_liab_bs_flag_error</th> <td>    0.3181</td> <td>    0.859</td> <td>    0.370</td> <td> 0.711</td> <td>   -1.366</td> <td>    2.003</td>\n",
       "</tr>\n",
       "<tr>\n",
       "  <th>age</th>                     <td>   -0.0353</td> <td>    0.003</td> <td>  -10.474</td> <td> 0.000</td> <td>   -0.042</td> <td>   -0.029</td>\n",
       "</tr>\n",
       "<tr>\n",
       "  <th>foreign_management</th>      <td>    0.2159</td> <td>    0.068</td> <td>    3.180</td> <td> 0.001</td> <td>    0.083</td> <td>    0.349</td>\n",
       "</tr>\n",
       "</table>"
      ],
      "text/plain": [
       "<class 'statsmodels.iolib.summary.Summary'>\n",
       "\"\"\"\n",
       "                           Logit Regression Results                           \n",
       "==============================================================================\n",
       "Dep. Variable:                default   No. Observations:                19036\n",
       "Model:                          Logit   Df Residuals:                    19017\n",
       "Method:                           MLE   Df Model:                           18\n",
       "Date:                Mon, 17 Oct 2022   Pseudo R-squ.:                  0.1591\n",
       "Time:                        11:10:36   Log-Likelihood:                -8057.1\n",
       "converged:                       True   LL-Null:                       -9581.9\n",
       "Covariance Type:            nonrobust   LLR p-value:                     0.000\n",
       "===========================================================================================\n",
       "                              coef    std err          z      P>|z|      [0.025      0.975]\n",
       "-------------------------------------------------------------------------------------------\n",
       "Intercept                  -2.3506      0.148    -15.877      0.000      -2.641      -2.060\n",
       "C(ind2_cat)[T.27.0]         0.1455      0.176      0.829      0.407      -0.199       0.490\n",
       "C(ind2_cat)[T.28.0]         0.0327      0.137      0.238      0.812      -0.236       0.302\n",
       "C(ind2_cat)[T.29.0]         0.4063      0.224      1.816      0.069      -0.032       0.845\n",
       "C(ind2_cat)[T.30.0]        -0.0330      0.293     -0.113      0.910      -0.608       0.542\n",
       "C(ind2_cat)[T.33.0]        -0.1578      0.136     -1.161      0.246      -0.424       0.109\n",
       "C(ind2_cat)[T.55.0]         0.1287      0.131      0.985      0.324      -0.127       0.385\n",
       "C(ind2_cat)[T.56.0]         0.4636      0.114      4.064      0.000       0.240       0.687\n",
       "sales_mil_log              -0.1803      0.045     -4.020      0.000      -0.268      -0.092\n",
       "sales_mil_log_sq            0.0153      0.006      2.459      0.014       0.003       0.027\n",
       "d1_sales_mil_log_mod       -0.4821      0.038    -12.706      0.000      -0.556      -0.408\n",
       "profit_loss_year_pl        -0.4501      0.059     -7.686      0.000      -0.565      -0.335\n",
       "fixed_assets_bs            -0.8110      0.064    -12.631      0.000      -0.937      -0.685\n",
       "share_eq_bs                -0.3881      0.046     -8.371      0.000      -0.479      -0.297\n",
       "curr_liab_bs                0.1712      0.092      1.865      0.062      -0.009       0.351\n",
       "curr_liab_bs_flag_high      0.1354      0.075      1.811      0.070      -0.011       0.282\n",
       "curr_liab_bs_flag_error     0.3181      0.859      0.370      0.711      -1.366       2.003\n",
       "age                        -0.0353      0.003    -10.474      0.000      -0.042      -0.029\n",
       "foreign_management          0.2159      0.068      3.180      0.001       0.083       0.349\n",
       "===========================================================================================\n",
       "\"\"\""
      ]
     },
     "execution_count": 18,
     "metadata": {},
     "output_type": "execute_result"
    }
   ],
   "source": [
    "logit_modelx2.summary()"
   ]
  },
  {
   "cell_type": "markdown",
   "metadata": {},
   "source": [
    "With Logit we need to calculate average marginal effects (dy/dx) to be able to interpret the coefficients (under some assumptions...)"
   ]
  },
  {
   "cell_type": "code",
   "execution_count": 19,
   "metadata": {},
   "outputs": [
    {
     "data": {
      "text/html": [
       "<table class=\"simpletable\">\n",
       "<caption>Logit Marginal Effects</caption>\n",
       "<tr>\n",
       "  <th>Dep. Variable:</th> <td>default</td>\n",
       "</tr>\n",
       "<tr>\n",
       "  <th>Method:</th>         <td>dydx</td>  \n",
       "</tr>\n",
       "<tr>\n",
       "  <th>At:</th>            <td>overall</td>\n",
       "</tr>\n",
       "</table>\n",
       "<table class=\"simpletable\">\n",
       "<tr>\n",
       "             <th></th>                <th>dy/dx</th>    <th>std err</th>      <th>z</th>      <th>P>|z|</th>  <th>[0.025</th>    <th>0.975]</th>  \n",
       "</tr>\n",
       "<tr>\n",
       "  <th>C(ind2_cat)[T.27.0]</th>     <td>    0.0195</td> <td>    0.024</td> <td>    0.829</td> <td> 0.407</td> <td>   -0.027</td> <td>    0.066</td>\n",
       "</tr>\n",
       "<tr>\n",
       "  <th>C(ind2_cat)[T.28.0]</th>     <td>    0.0044</td> <td>    0.018</td> <td>    0.238</td> <td> 0.812</td> <td>   -0.032</td> <td>    0.040</td>\n",
       "</tr>\n",
       "<tr>\n",
       "  <th>C(ind2_cat)[T.29.0]</th>     <td>    0.0545</td> <td>    0.030</td> <td>    1.816</td> <td> 0.069</td> <td>   -0.004</td> <td>    0.113</td>\n",
       "</tr>\n",
       "<tr>\n",
       "  <th>C(ind2_cat)[T.30.0]</th>     <td>   -0.0044</td> <td>    0.039</td> <td>   -0.113</td> <td> 0.910</td> <td>   -0.082</td> <td>    0.073</td>\n",
       "</tr>\n",
       "<tr>\n",
       "  <th>C(ind2_cat)[T.33.0]</th>     <td>   -0.0212</td> <td>    0.018</td> <td>   -1.161</td> <td> 0.245</td> <td>   -0.057</td> <td>    0.015</td>\n",
       "</tr>\n",
       "<tr>\n",
       "  <th>C(ind2_cat)[T.55.0]</th>     <td>    0.0173</td> <td>    0.018</td> <td>    0.985</td> <td> 0.324</td> <td>   -0.017</td> <td>    0.052</td>\n",
       "</tr>\n",
       "<tr>\n",
       "  <th>C(ind2_cat)[T.56.0]</th>     <td>    0.0622</td> <td>    0.015</td> <td>    4.068</td> <td> 0.000</td> <td>    0.032</td> <td>    0.092</td>\n",
       "</tr>\n",
       "<tr>\n",
       "  <th>sales_mil_log</th>           <td>   -0.0242</td> <td>    0.006</td> <td>   -4.015</td> <td> 0.000</td> <td>   -0.036</td> <td>   -0.012</td>\n",
       "</tr>\n",
       "<tr>\n",
       "  <th>sales_mil_log_sq</th>        <td>    0.0021</td> <td>    0.001</td> <td>    2.464</td> <td> 0.014</td> <td>    0.000</td> <td>    0.004</td>\n",
       "</tr>\n",
       "<tr>\n",
       "  <th>d1_sales_mil_log_mod</th>    <td>   -0.0646</td> <td>    0.005</td> <td>  -12.868</td> <td> 0.000</td> <td>   -0.074</td> <td>   -0.055</td>\n",
       "</tr>\n",
       "<tr>\n",
       "  <th>profit_loss_year_pl</th>     <td>   -0.0603</td> <td>    0.008</td> <td>   -7.740</td> <td> 0.000</td> <td>   -0.076</td> <td>   -0.045</td>\n",
       "</tr>\n",
       "<tr>\n",
       "  <th>fixed_assets_bs</th>         <td>   -0.1087</td> <td>    0.008</td> <td>  -12.793</td> <td> 0.000</td> <td>   -0.125</td> <td>   -0.092</td>\n",
       "</tr>\n",
       "<tr>\n",
       "  <th>share_eq_bs</th>             <td>   -0.0520</td> <td>    0.006</td> <td>   -8.414</td> <td> 0.000</td> <td>   -0.064</td> <td>   -0.040</td>\n",
       "</tr>\n",
       "<tr>\n",
       "  <th>curr_liab_bs</th>            <td>    0.0229</td> <td>    0.012</td> <td>    1.865</td> <td> 0.062</td> <td>   -0.001</td> <td>    0.047</td>\n",
       "</tr>\n",
       "<tr>\n",
       "  <th>curr_liab_bs_flag_high</th>  <td>    0.0181</td> <td>    0.010</td> <td>    1.812</td> <td> 0.070</td> <td>   -0.001</td> <td>    0.038</td>\n",
       "</tr>\n",
       "<tr>\n",
       "  <th>curr_liab_bs_flag_error</th> <td>    0.0426</td> <td>    0.115</td> <td>    0.370</td> <td> 0.711</td> <td>   -0.183</td> <td>    0.269</td>\n",
       "</tr>\n",
       "<tr>\n",
       "  <th>age</th>                     <td>   -0.0047</td> <td>    0.000</td> <td>  -10.545</td> <td> 0.000</td> <td>   -0.006</td> <td>   -0.004</td>\n",
       "</tr>\n",
       "<tr>\n",
       "  <th>foreign_management</th>      <td>    0.0290</td> <td>    0.009</td> <td>    3.182</td> <td> 0.001</td> <td>    0.011</td> <td>    0.047</td>\n",
       "</tr>\n",
       "</table>"
      ],
      "text/plain": [
       "<class 'statsmodels.iolib.summary.Summary'>\n",
       "\"\"\"\n",
       "        Logit Marginal Effects       \n",
       "=====================================\n",
       "Dep. Variable:                default\n",
       "Method:                          dydx\n",
       "At:                           overall\n",
       "===========================================================================================\n",
       "                             dy/dx    std err          z      P>|z|      [0.025      0.975]\n",
       "-------------------------------------------------------------------------------------------\n",
       "C(ind2_cat)[T.27.0]         0.0195      0.024      0.829      0.407      -0.027       0.066\n",
       "C(ind2_cat)[T.28.0]         0.0044      0.018      0.238      0.812      -0.032       0.040\n",
       "C(ind2_cat)[T.29.0]         0.0545      0.030      1.816      0.069      -0.004       0.113\n",
       "C(ind2_cat)[T.30.0]        -0.0044      0.039     -0.113      0.910      -0.082       0.073\n",
       "C(ind2_cat)[T.33.0]        -0.0212      0.018     -1.161      0.245      -0.057       0.015\n",
       "C(ind2_cat)[T.55.0]         0.0173      0.018      0.985      0.324      -0.017       0.052\n",
       "C(ind2_cat)[T.56.0]         0.0622      0.015      4.068      0.000       0.032       0.092\n",
       "sales_mil_log              -0.0242      0.006     -4.015      0.000      -0.036      -0.012\n",
       "sales_mil_log_sq            0.0021      0.001      2.464      0.014       0.000       0.004\n",
       "d1_sales_mil_log_mod       -0.0646      0.005    -12.868      0.000      -0.074      -0.055\n",
       "profit_loss_year_pl        -0.0603      0.008     -7.740      0.000      -0.076      -0.045\n",
       "fixed_assets_bs            -0.1087      0.008    -12.793      0.000      -0.125      -0.092\n",
       "share_eq_bs                -0.0520      0.006     -8.414      0.000      -0.064      -0.040\n",
       "curr_liab_bs                0.0229      0.012      1.865      0.062      -0.001       0.047\n",
       "curr_liab_bs_flag_high      0.0181      0.010      1.812      0.070      -0.001       0.038\n",
       "curr_liab_bs_flag_error     0.0426      0.115      0.370      0.711      -0.183       0.269\n",
       "age                        -0.0047      0.000    -10.545      0.000      -0.006      -0.004\n",
       "foreign_management          0.0290      0.009      3.182      0.001       0.011       0.047\n",
       "===========================================================================================\n",
       "\"\"\""
      ]
     },
     "execution_count": 19,
     "metadata": {},
     "output_type": "execute_result"
    }
   ],
   "source": [
    "logit_modelx2.get_margeff().summary()"
   ]
  },
  {
   "cell_type": "markdown",
   "metadata": {},
   "source": [
    "## 0. Separate train and holdout data"
   ]
  },
  {
   "cell_type": "code",
   "execution_count": 20,
   "metadata": {},
   "outputs": [],
   "source": [
    "data_train, data_holdout = train_test_split(data, train_size=0.8, random_state=42)"
   ]
  },
  {
   "cell_type": "code",
   "execution_count": 21,
   "metadata": {},
   "outputs": [
    {
     "name": "stdout",
     "output_type": "stream",
     "text": [
      "Total\n",
      "0    0.797857\n",
      "1    0.202143\n",
      "Name: default, dtype: float64\n",
      "Train\n",
      "0    0.799186\n",
      "1    0.200814\n",
      "Name: default, dtype: float64\n",
      "Holdout\n",
      "0    0.792542\n",
      "1    0.207458\n",
      "Name: default, dtype: float64\n"
     ]
    }
   ],
   "source": [
    "print(\"Total\")\n",
    "print(data[\"default\"].value_counts(normalize=True))\n",
    "print(\"Train\")\n",
    "print(data_train[\"default\"].value_counts(normalize=True))\n",
    "print(\"Holdout\")\n",
    "print(data_holdout[\"default\"].value_counts(normalize=True))\n"
   ]
  },
  {
   "cell_type": "markdown",
   "metadata": {},
   "source": [
    "## 1. Predict probabilities with logit and Lasso with CV\n",
    "\n",
    "Specify 5 fold cross-validation method"
   ]
  },
  {
   "cell_type": "code",
   "execution_count": 22,
   "metadata": {},
   "outputs": [],
   "source": [
    "k = KFold(n_splits=5, shuffle=True, random_state=42)"
   ]
  },
  {
   "cell_type": "markdown",
   "metadata": {},
   "source": [
    "### a) cross validate logit models"
   ]
  },
  {
   "cell_type": "markdown",
   "metadata": {},
   "source": [
    "Set up X-vars"
   ]
  },
  {
   "cell_type": "code",
   "execution_count": 23,
   "metadata": {},
   "outputs": [],
   "source": [
    "logit_model_vars = [M1, M2, M3, M4, M5]"
   ]
  },
  {
   "cell_type": "markdown",
   "metadata": {},
   "source": [
    "Set up Logit model object\n",
    "\n",
    "No regularisation needed so setting the paremeter to very high value"
   ]
  },
  {
   "cell_type": "code",
   "execution_count": 24,
   "metadata": {},
   "outputs": [],
   "source": [
    "C_value_logit = [1e20]"
   ]
  },
  {
   "cell_type": "code",
   "execution_count": 35,
   "metadata": {},
   "outputs": [],
   "source": [
    "logit_models = dict()\n",
    "CV_RMSE_folds = dict()\n",
    "\n",
    "for i, model_vars in enumerate(logit_model_vars):\n",
    "\n",
    "    model_equation = \"default~\" + \"+\".join(model_vars)\n",
    "    y_train, X_train = patsy.dmatrices(model_equation, data_train)\n",
    "\n",
    "    LRCV_brier = LogisticRegressionCV(\n",
    "        Cs=C_value_logit,\n",
    "        cv=k,\n",
    "        refit=True,\n",
    "        scoring=\"neg_brier_score\",\n",
    "        solver=\"newton-cg\",\n",
    "        tol=1e-7,\n",
    "        random_state=42,\n",
    "    )\n",
    "\n",
    "    logit_models[\"M\" + str(i + 1)] = LRCV_brier.fit(X_train, y_train)\n",
    "\n",
    "    # Calculate RMSE on test for each fold\n",
    "    CV_RMSE_folds[\"M\" + str(i + 1)] = np.sqrt(\n",
    "        -1 * logit_models[\"M\" + str(i + 1)].scores_[1].ravel()\n",
    "    )"
   ]
  },
  {
   "cell_type": "code",
   "execution_count": 36,
   "metadata": {},
   "outputs": [
    {
     "data": {
      "text/html": [
       "<div>\n",
       "<style scoped>\n",
       "    .dataframe tbody tr th:only-of-type {\n",
       "        vertical-align: middle;\n",
       "    }\n",
       "\n",
       "    .dataframe tbody tr th {\n",
       "        vertical-align: top;\n",
       "    }\n",
       "\n",
       "    .dataframe thead th {\n",
       "        text-align: right;\n",
       "    }\n",
       "</style>\n",
       "<table border=\"1\" class=\"dataframe\">\n",
       "  <thead>\n",
       "    <tr style=\"text-align: right;\">\n",
       "      <th></th>\n",
       "      <th>M1</th>\n",
       "      <th>M2</th>\n",
       "      <th>M3</th>\n",
       "      <th>M4</th>\n",
       "      <th>M5</th>\n",
       "    </tr>\n",
       "  </thead>\n",
       "  <tbody>\n",
       "    <tr>\n",
       "      <th>0</th>\n",
       "      <td>0.372357</td>\n",
       "      <td>0.363849</td>\n",
       "      <td>0.361595</td>\n",
       "      <td>0.359114</td>\n",
       "      <td>0.359200</td>\n",
       "    </tr>\n",
       "    <tr>\n",
       "      <th>1</th>\n",
       "      <td>0.370867</td>\n",
       "      <td>0.363950</td>\n",
       "      <td>0.363080</td>\n",
       "      <td>0.360356</td>\n",
       "      <td>0.361457</td>\n",
       "    </tr>\n",
       "    <tr>\n",
       "      <th>2</th>\n",
       "      <td>0.373981</td>\n",
       "      <td>0.367897</td>\n",
       "      <td>0.368494</td>\n",
       "      <td>0.365484</td>\n",
       "      <td>0.366226</td>\n",
       "    </tr>\n",
       "    <tr>\n",
       "      <th>3</th>\n",
       "      <td>0.375318</td>\n",
       "      <td>0.364260</td>\n",
       "      <td>0.361916</td>\n",
       "      <td>0.358279</td>\n",
       "      <td>0.357145</td>\n",
       "    </tr>\n",
       "    <tr>\n",
       "      <th>4</th>\n",
       "      <td>0.378864</td>\n",
       "      <td>0.369600</td>\n",
       "      <td>0.367010</td>\n",
       "      <td>0.364808</td>\n",
       "      <td>0.365169</td>\n",
       "    </tr>\n",
       "  </tbody>\n",
       "</table>\n",
       "</div>"
      ],
      "text/plain": [
       "         M1        M2        M3        M4        M5\n",
       "0  0.372357  0.363849  0.361595  0.359114  0.359200\n",
       "1  0.370867  0.363950  0.363080  0.360356  0.361457\n",
       "2  0.373981  0.367897  0.368494  0.365484  0.366226\n",
       "3  0.375318  0.364260  0.361916  0.358279  0.357145\n",
       "4  0.378864  0.369600  0.367010  0.364808  0.365169"
      ]
     },
     "execution_count": 36,
     "metadata": {},
     "output_type": "execute_result"
    }
   ],
   "source": [
    "pd.DataFrame(CV_RMSE_folds)"
   ]
  },
  {
   "cell_type": "markdown",
   "metadata": {},
   "source": [
    "### b) Logit + LASSO"
   ]
  },
  {
   "cell_type": "code",
   "execution_count": 28,
   "metadata": {},
   "outputs": [],
   "source": [
    "model_equation = \"default~\" + \"+\".join(logit_lasso_vars)\n",
    "y_train, X_train = patsy.dmatrices(model_equation, data_train)"
   ]
  },
  {
   "cell_type": "markdown",
   "metadata": {},
   "source": [
    "Normalise X vars for Lasso"
   ]
  },
  {
   "cell_type": "code",
   "execution_count": 29,
   "metadata": {},
   "outputs": [],
   "source": [
    "normalized_logitvars = pd.DataFrame(\n",
    "    StandardScaler().fit_transform(X_train),\n",
    "    columns=X_train.design_info.column_names,\n",
    ")"
   ]
  },
  {
   "cell_type": "markdown",
   "metadata": {},
   "source": [
    "Set regularization parameters"
   ]
  },
  {
   "cell_type": "code",
   "execution_count": 30,
   "metadata": {},
   "outputs": [],
   "source": [
    "lambdas = list(10 ** np.arange(-1, -4.01, -1 / 3))\n",
    "n_obs = normalized_logitvars.shape[0] * 4 / 5\n",
    "C_values = [\n",
    "    1 / (l * n_obs) for l in lambdas\n",
    "]  # Cs are the inverse of regularization strength"
   ]
  },
  {
   "cell_type": "markdown",
   "metadata": {},
   "source": [
    "Initialize and fit Logit Lasso"
   ]
  },
  {
   "cell_type": "code",
   "execution_count": 31,
   "metadata": {},
   "outputs": [],
   "source": [
    "logLasso_brier = LogisticRegressionCV(\n",
    "    Cs=C_values,\n",
    "    penalty=\"l1\",\n",
    "    cv=k,\n",
    "    refit=True,\n",
    "    scoring=\"neg_brier_score\",\n",
    "    solver=\"liblinear\",\n",
    "    random_state=42,\n",
    ")\n",
    "\n",
    "logit_models[\"LASSO\"] = logLasso_brier.fit(normalized_logitvars, y_train)"
   ]
  },
  {
   "cell_type": "markdown",
   "metadata": {},
   "source": [
    "See CV-fold RMSE-s (negative brier score)"
   ]
  },
  {
   "cell_type": "code",
   "execution_count": 32,
   "metadata": {
    "scrolled": true
   },
   "outputs": [
    {
     "data": {
      "text/html": [
       "<div>\n",
       "<style scoped>\n",
       "    .dataframe tbody tr th:only-of-type {\n",
       "        vertical-align: middle;\n",
       "    }\n",
       "\n",
       "    .dataframe tbody tr th {\n",
       "        vertical-align: top;\n",
       "    }\n",
       "\n",
       "    .dataframe thead th {\n",
       "        text-align: right;\n",
       "    }\n",
       "</style>\n",
       "<table border=\"1\" class=\"dataframe\">\n",
       "  <thead>\n",
       "    <tr style=\"text-align: right;\">\n",
       "      <th></th>\n",
       "      <th>lambdas</th>\n",
       "      <th>C_values</th>\n",
       "      <th>mean_cv_score</th>\n",
       "    </tr>\n",
       "  </thead>\n",
       "  <tbody>\n",
       "    <tr>\n",
       "      <th>0</th>\n",
       "      <td>0.100000</td>\n",
       "      <td>0.000821</td>\n",
       "      <td>0.408111</td>\n",
       "    </tr>\n",
       "    <tr>\n",
       "      <th>1</th>\n",
       "      <td>0.046416</td>\n",
       "      <td>0.001768</td>\n",
       "      <td>0.378398</td>\n",
       "    </tr>\n",
       "    <tr>\n",
       "      <th>2</th>\n",
       "      <td>0.021544</td>\n",
       "      <td>0.003810</td>\n",
       "      <td>0.366064</td>\n",
       "    </tr>\n",
       "    <tr>\n",
       "      <th>3</th>\n",
       "      <td>0.010000</td>\n",
       "      <td>0.008209</td>\n",
       "      <td>0.362447</td>\n",
       "    </tr>\n",
       "    <tr>\n",
       "      <th>4</th>\n",
       "      <td>0.004642</td>\n",
       "      <td>0.017685</td>\n",
       "      <td>0.361294</td>\n",
       "    </tr>\n",
       "    <tr>\n",
       "      <th>5</th>\n",
       "      <td>0.002154</td>\n",
       "      <td>0.038101</td>\n",
       "      <td>0.361098</td>\n",
       "    </tr>\n",
       "    <tr>\n",
       "      <th>6</th>\n",
       "      <td>0.001000</td>\n",
       "      <td>0.082086</td>\n",
       "      <td>0.361286</td>\n",
       "    </tr>\n",
       "    <tr>\n",
       "      <th>7</th>\n",
       "      <td>0.000464</td>\n",
       "      <td>0.176848</td>\n",
       "      <td>0.361618</td>\n",
       "    </tr>\n",
       "    <tr>\n",
       "      <th>8</th>\n",
       "      <td>0.000215</td>\n",
       "      <td>0.381008</td>\n",
       "      <td>0.362029</td>\n",
       "    </tr>\n",
       "    <tr>\n",
       "      <th>9</th>\n",
       "      <td>0.000100</td>\n",
       "      <td>0.820856</td>\n",
       "      <td>0.362239</td>\n",
       "    </tr>\n",
       "  </tbody>\n",
       "</table>\n",
       "</div>"
      ],
      "text/plain": [
       "    lambdas  C_values  mean_cv_score\n",
       "0  0.100000  0.000821       0.408111\n",
       "1  0.046416  0.001768       0.378398\n",
       "2  0.021544  0.003810       0.366064\n",
       "3  0.010000  0.008209       0.362447\n",
       "4  0.004642  0.017685       0.361294\n",
       "5  0.002154  0.038101       0.361098\n",
       "6  0.001000  0.082086       0.361286\n",
       "7  0.000464  0.176848       0.361618\n",
       "8  0.000215  0.381008       0.362029\n",
       "9  0.000100  0.820856       0.362239"
      ]
     },
     "execution_count": 32,
     "metadata": {},
     "output_type": "execute_result"
    }
   ],
   "source": [
    "cv_summary_lasso = cv_summary(lambdas, C_values, logit_models[\"LASSO\"])\n",
    "cv_summary_lasso[\"mean_cv_score\"] = np.sqrt(cv_summary_lasso[\"mean_cv_score\"] * -1)\n",
    "cv_summary_lasso"
   ]
  },
  {
   "cell_type": "markdown",
   "metadata": {},
   "source": [
    "Save best lambda's index for later use"
   ]
  },
  {
   "cell_type": "code",
   "execution_count": 33,
   "metadata": {},
   "outputs": [],
   "source": [
    "best_lambda_i = cv_summary_lasso[\"mean_cv_score\"].idxmin()"
   ]
  },
  {
   "cell_type": "markdown",
   "metadata": {},
   "source": [
    "Extract CV test RMSE for the Lasso with best lambda"
   ]
  },
  {
   "cell_type": "code",
   "execution_count": 34,
   "metadata": {},
   "outputs": [],
   "source": [
    "CV_RMSE_folds[\"LASSO\"] = np.sqrt(\n",
    "    -1 * logit_models[\"LASSO\"].scores_[1][:, best_lambda_i]\n",
    ")"
   ]
  },
  {
   "cell_type": "markdown",
   "metadata": {},
   "source": [
    "## 2.  AUC, Calibration Curve, Confusion Matrix, ROC\n",
    "\n",
    "0. Calculate AUC for folds\n",
    "\n",
    "\n",
    "First, for logits"
   ]
  },
  {
   "cell_type": "code",
   "execution_count": 35,
   "metadata": {},
   "outputs": [],
   "source": [
    "CV_AUC_folds = dict()\n",
    "for i, model_vars in enumerate(logit_model_vars):\n",
    "\n",
    "    model_equation = \"default~\" + \"+\".join(model_vars)\n",
    "    y_train, X_train = patsy.dmatrices(model_equation, data_train)\n",
    "\n",
    "    LRCV_auc = LogisticRegressionCV(\n",
    "        Cs=C_value_logit,\n",
    "        cv=k,\n",
    "        refit=True,\n",
    "        scoring=\"roc_auc\",\n",
    "        solver=\"newton-cg\",\n",
    "        tol=1e-7,\n",
    "        random_state=42,\n",
    "    )\n",
    "\n",
    "    logit_models[\"M\" + str(i + 1)] = LRCV_auc.fit(X_train, y_train)\n",
    "\n",
    "    # Calculate AUC on test for each fold\n",
    "    CV_AUC_folds[\"M\" + str(i + 1)] = logit_models[\"M\" + str(i + 1)].scores_[1].ravel()"
   ]
  },
  {
   "cell_type": "markdown",
   "metadata": {},
   "source": [
    "For Lasso"
   ]
  },
  {
   "cell_type": "code",
   "execution_count": 36,
   "metadata": {},
   "outputs": [],
   "source": [
    "logLasso_auc = LogisticRegressionCV(\n",
    "    Cs=C_values,\n",
    "    penalty=\"l1\",\n",
    "    cv=k,\n",
    "    refit=True,\n",
    "    scoring=\"roc_auc\",\n",
    "    solver=\"liblinear\",\n",
    "    random_state=42,\n",
    ")\n",
    "logLasso_auc_fitted = logLasso_auc.fit(normalized_logitvars, y_train)\n",
    "\n",
    "CV_AUC_folds[\"LASSO\"] = logLasso_auc_fitted.scores_[1][\n",
    "    :, cv_summary_lasso[\"mean_cv_score\"].idxmin()\n",
    "]"
   ]
  },
  {
   "cell_type": "markdown",
   "metadata": {},
   "source": [
    "Put a summary frame together"
   ]
  },
  {
   "cell_type": "code",
   "execution_count": 37,
   "metadata": {},
   "outputs": [],
   "source": [
    "model_fits = pd.DataFrame(logit_models, index=[\"Model fit\"]).T\n",
    "\n",
    "summary = (\n",
    "    model_fits[\"Model fit\"]\n",
    "    .apply(lambda x: x.n_features_in_)\n",
    "    .to_frame(name=\"Number of Coefficients\")\n",
    ")\n",
    "\n",
    "summary.loc[\"LASSO\", \"Number of Coefficients\"] = len(\n",
    "    [i for i in model_fits.loc[\"LASSO\"].values[0].coef_[0] if i != 0]\n",
    ")\n",
    "\n",
    "summary[\"CV RMSE\"] = pd.DataFrame(CV_RMSE_folds).T.mean(axis=1)\n",
    "summary[\"CV AUC\"] = pd.DataFrame(CV_AUC_folds).T.mean(axis=1)"
   ]
  },
  {
   "cell_type": "code",
   "execution_count": 38,
   "metadata": {},
   "outputs": [
    {
     "data": {
      "text/plain": [
       "70"
      ]
     },
     "execution_count": 38,
     "metadata": {},
     "output_type": "execute_result"
    }
   ],
   "source": [
    "sum(x != 0 for x in model_fits.loc[\"LASSO\"].values[0].coef_[0].tolist())"
   ]
  },
  {
   "cell_type": "code",
   "execution_count": 39,
   "metadata": {},
   "outputs": [
    {
     "data": {
      "text/plain": [
       "70"
      ]
     },
     "execution_count": 39,
     "metadata": {},
     "output_type": "execute_result"
    }
   ],
   "source": [
    "len(\n",
    "    [i for i in model_fits.loc[\"LASSO\"].values[0].coef_[0] if i != 0]\n",
    ")"
   ]
  },
  {
   "cell_type": "code",
   "execution_count": 40,
   "metadata": {},
   "outputs": [
    {
     "data": {
      "text/html": [
       "<div>\n",
       "<style scoped>\n",
       "    .dataframe tbody tr th:only-of-type {\n",
       "        vertical-align: middle;\n",
       "    }\n",
       "\n",
       "    .dataframe tbody tr th {\n",
       "        vertical-align: top;\n",
       "    }\n",
       "\n",
       "    .dataframe thead th {\n",
       "        text-align: right;\n",
       "    }\n",
       "</style>\n",
       "<table border=\"1\" class=\"dataframe\">\n",
       "  <thead>\n",
       "    <tr style=\"text-align: right;\">\n",
       "      <th></th>\n",
       "      <th>Number of Coefficients</th>\n",
       "      <th>CV RMSE</th>\n",
       "      <th>CV AUC</th>\n",
       "    </tr>\n",
       "  </thead>\n",
       "  <tbody>\n",
       "    <tr>\n",
       "      <th>M1</th>\n",
       "      <td>12</td>\n",
       "      <td>0.374277</td>\n",
       "      <td>0.735936</td>\n",
       "    </tr>\n",
       "    <tr>\n",
       "      <th>M2</th>\n",
       "      <td>19</td>\n",
       "      <td>0.365911</td>\n",
       "      <td>0.770388</td>\n",
       "    </tr>\n",
       "    <tr>\n",
       "      <th>M3</th>\n",
       "      <td>36</td>\n",
       "      <td>0.364524</td>\n",
       "      <td>0.778620</td>\n",
       "    </tr>\n",
       "    <tr>\n",
       "      <th>M4</th>\n",
       "      <td>80</td>\n",
       "      <td>0.362022</td>\n",
       "      <td>0.784784</td>\n",
       "    </tr>\n",
       "    <tr>\n",
       "      <th>M5</th>\n",
       "      <td>154</td>\n",
       "      <td>0.361817</td>\n",
       "      <td>0.784512</td>\n",
       "    </tr>\n",
       "    <tr>\n",
       "      <th>LASSO</th>\n",
       "      <td>70</td>\n",
       "      <td>0.361086</td>\n",
       "      <td>0.786035</td>\n",
       "    </tr>\n",
       "  </tbody>\n",
       "</table>\n",
       "</div>"
      ],
      "text/plain": [
       "       Number of Coefficients   CV RMSE    CV AUC\n",
       "M1                         12  0.374277  0.735936\n",
       "M2                         19  0.365911  0.770388\n",
       "M3                         36  0.364524  0.778620\n",
       "M4                         80  0.362022  0.784784\n",
       "M5                        154  0.361817  0.784512\n",
       "LASSO                      70  0.361086  0.786035"
      ]
     },
     "execution_count": 40,
     "metadata": {},
     "output_type": "execute_result"
    }
   ],
   "source": [
    "summary"
   ]
  },
  {
   "cell_type": "markdown",
   "metadata": {},
   "source": [
    "### Take best model and estimate RMSE on holdout  \n",
    "\n",
    "M4, M5 and LASSO are practically the same - go with the simplest model, M4"
   ]
  },
  {
   "cell_type": "code",
   "execution_count": 41,
   "metadata": {},
   "outputs": [],
   "source": [
    "best_logit = logit_models[\"M4\"]\n",
    "model_equation = \"default~\" + \"+\".join(M4)\n",
    "_, X_holdout = patsy.dmatrices(model_equation, data_holdout)"
   ]
  },
  {
   "cell_type": "markdown",
   "metadata": {},
   "source": [
    "Best logit holdout RMSE\n"
   ]
  },
  {
   "cell_type": "code",
   "execution_count": 42,
   "metadata": {},
   "outputs": [
    {
     "data": {
      "text/plain": [
       "0.366"
      ]
     },
     "execution_count": 42,
     "metadata": {},
     "output_type": "execute_result"
    }
   ],
   "source": [
    "data_holdout[\"best_logit_pred_proba\"] = best_logit.predict_proba(X_holdout)[:, 1]\n",
    "\n",
    "round(rmse(data_holdout[\"best_logit_pred_proba\"], data_holdout[\"default\"]), 3)"
   ]
  },
  {
   "cell_type": "markdown",
   "metadata": {},
   "source": [
    "### a) Calibration curve\n",
    "\n",
    "how well do estimated vs actual event probabilities relate to each other?\n"
   ]
  },
  {
   "cell_type": "code",
   "execution_count": 47,
   "metadata": {},
   "outputs": [
    {
     "data": {
      "image/png": "[encoded data removed]",
      "text/plain": [
       "<Figure size 640x480 with 1 Axes>"
      ]
     },
     "metadata": {},
     "output_type": "display_data"
    },
    {
     "data": {
      "text/plain": [
       "<ggplot: (697196602)>"
      ]
     },
     "execution_count": 47,
     "metadata": {},
     "output_type": "execute_result"
    }
   ],
   "source": [
    "create_calibration_plot(\n",
    "    data_holdout,\n",
    "    file_name=\"ch17-figure-1-logit-m4-calibration\",\n",
    "    prob_var=\"best_logit_pred_proba\",\n",
    "    actual_var=\"default\",\n",
    "    y_lab=\"Actual event probability\",\n",
    "    n_bins=10,\n",
    "    breaks=None,\n",
    ")\n"
   ]
  },
  {
   "cell_type": "markdown",
   "metadata": {},
   "source": [
    "### b) Confusion table with different tresholds\n",
    "\n",
    "Default: the threshold 0.5 is used to convert probabilities to binary classes"
   ]
  },
  {
   "cell_type": "code",
   "execution_count": 48,
   "metadata": {},
   "outputs": [
    {
     "name": "stdout",
     "output_type": "stream",
     "text": [
      "0.0  (no default):  3443\n",
      "1.0  (default):  365\n"
     ]
    }
   ],
   "source": [
    "logit_class_prediction = best_logit.predict(X_holdout)\n",
    "\n",
    "values, counts = np.unique(logit_class_prediction.tolist(), return_counts=True)\n",
    "print(values[0], \" (no default): \", counts[0])\n",
    "print(values[1], \" (default): \", counts[1])"
   ]
  },
  {
   "cell_type": "markdown",
   "metadata": {},
   "source": [
    "Confusion matrix: summarize different type of errors and successfully predicted cases\n",
    "\n",
    "positive = \"yes\": explicitly specify the positive case"
   ]
  },
  {
   "cell_type": "code",
   "execution_count": 49,
   "metadata": {},
   "outputs": [
    {
     "data": {
      "text/html": [
       "<div>\n",
       "<style scoped>\n",
       "    .dataframe tbody tr th:only-of-type {\n",
       "        vertical-align: middle;\n",
       "    }\n",
       "\n",
       "    .dataframe tbody tr th {\n",
       "        vertical-align: top;\n",
       "    }\n",
       "\n",
       "    .dataframe thead th {\n",
       "        text-align: right;\n",
       "    }\n",
       "</style>\n",
       "<table border=\"1\" class=\"dataframe\">\n",
       "  <thead>\n",
       "    <tr style=\"text-align: right;\">\n",
       "      <th></th>\n",
       "      <th>Predicted no default</th>\n",
       "      <th>Predicted default</th>\n",
       "    </tr>\n",
       "  </thead>\n",
       "  <tbody>\n",
       "    <tr>\n",
       "      <th>Actul no defaul</th>\n",
       "      <td>2869</td>\n",
       "      <td>149</td>\n",
       "    </tr>\n",
       "    <tr>\n",
       "      <th>Actual default</th>\n",
       "      <td>574</td>\n",
       "      <td>216</td>\n",
       "    </tr>\n",
       "  </tbody>\n",
       "</table>\n",
       "</div>"
      ],
      "text/plain": [
       "                 Predicted no default  Predicted default\n",
       "Actul no defaul                  2869                149\n",
       "Actual default                    574                216"
      ]
     },
     "execution_count": 49,
     "metadata": {},
     "output_type": "execute_result"
    }
   ],
   "source": [
    "cm_object1 = confusion_matrix(\n",
    "    data_holdout[\"default\"], logit_class_prediction, labels=[0, 1]\n",
    ")\n",
    "cm1 = pd.DataFrame(\n",
    "    cm_object1,\n",
    "    index=[\"Actul no defaul\", \"Actual default\"],\n",
    "    columns=[\"Predicted no default\", \"Predicted default\"],\n",
    ")\n",
    "cm1"
   ]
  },
  {
   "cell_type": "code",
   "execution_count": 50,
   "metadata": {},
   "outputs": [
    {
     "data": {
      "text/html": [
       "<div>\n",
       "<style scoped>\n",
       "    .dataframe tbody tr th:only-of-type {\n",
       "        vertical-align: middle;\n",
       "    }\n",
       "\n",
       "    .dataframe tbody tr th {\n",
       "        vertical-align: top;\n",
       "    }\n",
       "\n",
       "    .dataframe thead th {\n",
       "        text-align: right;\n",
       "    }\n",
       "</style>\n",
       "<table border=\"1\" class=\"dataframe\">\n",
       "  <thead>\n",
       "    <tr style=\"text-align: right;\">\n",
       "      <th></th>\n",
       "      <th>Predicted no default</th>\n",
       "      <th>Predicted default</th>\n",
       "    </tr>\n",
       "  </thead>\n",
       "  <tbody>\n",
       "    <tr>\n",
       "      <th>Actul no defaul</th>\n",
       "      <td>2869</td>\n",
       "      <td>149</td>\n",
       "    </tr>\n",
       "    <tr>\n",
       "      <th>Actual default</th>\n",
       "      <td>574</td>\n",
       "      <td>216</td>\n",
       "    </tr>\n",
       "  </tbody>\n",
       "</table>\n",
       "</div>"
      ],
      "text/plain": [
       "                 Predicted no default  Predicted default\n",
       "Actul no defaul                  2869                149\n",
       "Actual default                    574                216"
      ]
     },
     "execution_count": 50,
     "metadata": {},
     "output_type": "execute_result"
    }
   ],
   "source": [
    "# we can apply different thresholds\n",
    "\n",
    "# 0.5 same as before\n",
    "holdout_prediction = np.where(data_holdout[\"best_logit_pred_proba\"] < 0.5, 0, 1)\n",
    "cm_object1b = confusion_matrix(\n",
    "    data_holdout[\"default\"], holdout_prediction, labels=[0, 1]\n",
    ")\n",
    "cm1b = pd.DataFrame(\n",
    "    cm_object1b,\n",
    "    index=[\"Actul no defaul\", \"Actual default\"],\n",
    "    columns=[\"Predicted no default\", \"Predicted default\"],\n",
    ")\n",
    "cm1b"
   ]
  },
  {
   "cell_type": "markdown",
   "metadata": {},
   "source": [
    "A sensible choice: mean of predicted probabilities"
   ]
  },
  {
   "cell_type": "code",
   "execution_count": 51,
   "metadata": {},
   "outputs": [
    {
     "data": {
      "text/plain": [
       "0.209"
      ]
     },
     "execution_count": 51,
     "metadata": {},
     "output_type": "execute_result"
    }
   ],
   "source": [
    "mean_predicted_default_prob = np.mean(data_holdout[\"best_logit_pred_proba\"])\n",
    "round(mean_predicted_default_prob, 3)"
   ]
  },
  {
   "cell_type": "code",
   "execution_count": 52,
   "metadata": {},
   "outputs": [
    {
     "data": {
      "text/html": [
       "<div>\n",
       "<style scoped>\n",
       "    .dataframe tbody tr th:only-of-type {\n",
       "        vertical-align: middle;\n",
       "    }\n",
       "\n",
       "    .dataframe tbody tr th {\n",
       "        vertical-align: top;\n",
       "    }\n",
       "\n",
       "    .dataframe thead th {\n",
       "        text-align: right;\n",
       "    }\n",
       "</style>\n",
       "<table border=\"1\" class=\"dataframe\">\n",
       "  <thead>\n",
       "    <tr style=\"text-align: right;\">\n",
       "      <th></th>\n",
       "      <th>Predicted no default</th>\n",
       "      <th>Predicted default</th>\n",
       "    </tr>\n",
       "  </thead>\n",
       "  <tbody>\n",
       "    <tr>\n",
       "      <th>Actul no defaul</th>\n",
       "      <td>2175</td>\n",
       "      <td>843</td>\n",
       "    </tr>\n",
       "    <tr>\n",
       "      <th>Actual default</th>\n",
       "      <td>248</td>\n",
       "      <td>542</td>\n",
       "    </tr>\n",
       "  </tbody>\n",
       "</table>\n",
       "</div>"
      ],
      "text/plain": [
       "                 Predicted no default  Predicted default\n",
       "Actul no defaul                  2175                843\n",
       "Actual default                    248                542"
      ]
     },
     "execution_count": 52,
     "metadata": {},
     "output_type": "execute_result"
    }
   ],
   "source": [
    "holdout_prediction = np.where(\n",
    "    data_holdout[\"best_logit_pred_proba\"] < mean_predicted_default_prob, 0, 1\n",
    ")\n",
    "cm_object2 = confusion_matrix(\n",
    "    data_holdout[\"default\"], holdout_prediction, labels=[0, 1]\n",
    ")\n",
    "cm2 = pd.DataFrame(\n",
    "    cm_object2,\n",
    "    index=[\"Actul no defaul\", \"Actual default\"],\n",
    "    columns=[\"Predicted no default\", \"Predicted default\"],\n",
    ")\n",
    "cm2"
   ]
  },
  {
   "cell_type": "markdown",
   "metadata": {},
   "source": [
    "### c) Visualize ROC (with thresholds in steps) on holdout\n",
    "\n",
    "What if we want to compare multiple thresholds?\n",
    "\n",
    "First, discrete ROC (with thresholds in steps) on holdout"
   ]
  },
  {
   "cell_type": "code",
   "execution_count": 93,
   "metadata": {},
   "outputs": [],
   "source": [
    "thresholds = np.arange(0.05, 0.76, 0.05)\n",
    "#thresholds = sorted(np.geomspace(0.95, 0.05, num=17)) # set these treshold values to get even points in the plot\n",
    "cm = dict()\n",
    "true_positive_rates = []\n",
    "false_positive_rates = []\n",
    "holdout_prediction = []\n",
    "for thr in thresholds:\n",
    "    holdout_prediction = np.where(data_holdout[\"best_logit_pred_proba\"] < thr, 0, 1)\n",
    "    cm_thr = confusion_matrix(data_holdout[\"default\"], holdout_prediction, labels=[0, 1])\n",
    "    cm[thr] = cm_thr\n",
    "    tn, fp, fn, tp = cm_thr.ravel()\n",
    "    true_positive_rates.append(tp / (tp + fn))\n",
    "    false_positive_rates.append(fp / (fp + tn))"
   ]
  },
  {
   "cell_type": "code",
   "execution_count": 94,
   "metadata": {},
   "outputs": [],
   "source": [
    "tpr_fpr_for_thresholds = pd.DataFrame(\n",
    "    {\n",
    "        \"thresholds\": thresholds,\n",
    "        \"true_positive_rates\": true_positive_rates,\n",
    "        \"false_positive_rates\": false_positive_rates,\n",
    "    }\n",
    ")"
   ]
  },
  {
   "cell_type": "code",
   "execution_count": 95,
   "metadata": {},
   "outputs": [
    {
     "data": {
      "image/png": "[encoded data removed]",
      "text/plain": [
       "<Figure size 640x480 with 1 Axes>"
      ]
     },
     "metadata": {},
     "output_type": "display_data"
    },
    {
     "data": {
      "text/plain": [
       "<ggplot: (697180332)>"
      ]
     },
     "execution_count": 95,
     "metadata": {},
     "output_type": "execute_result"
    }
   ],
   "source": [
    "(\n",
    "    ggplot(\n",
    "        tpr_fpr_for_thresholds,\n",
    "        aes(x=\"false_positive_rates\", y=\"true_positive_rates\", color=\"thresholds\"),\n",
    "    )\n",
    "    + labs(\n",
    "        x=\"False positive rate (1 - Specificity)\", y=\"True positive rate (Sensitivity)\"\n",
    "    )\n",
    "    + geom_point(size=4, alpha=0.8)\n",
    "    + scale_color_continuous(trans=\"reverse\", name=\"threshold\")\n",
    "    + scale_x_continuous(limits=(0, 1), breaks=np.arange(0, 1.01, 0.1))\n",
    "    + scale_y_continuous(limits=(0, 1), breaks=np.arange(0, 1.01, 0.1))\n",
    "    + theme_bw()\n",
    "    + theme(legend_position=\"right\")\n",
    ")"
   ]
  },
  {
   "cell_type": "markdown",
   "metadata": {},
   "source": [
    "Continuous ROC on holdout with best model"
   ]
  },
  {
   "cell_type": "code",
   "execution_count": 59,
   "metadata": {},
   "outputs": [
    {
     "data": {
      "image/png": "[encoded data removed]",
      "text/plain": [
       "<Figure size 640x480 with 1 Axes>"
      ]
     },
     "metadata": {},
     "output_type": "display_data"
    },
    {
     "data": {
      "text/plain": [
       "<ggplot: (697861006)>"
      ]
     },
     "execution_count": 59,
     "metadata": {},
     "output_type": "execute_result"
    }
   ],
   "source": [
    "create_roc_plot(data_holdout[\"default\"], data_holdout[\"best_logit_pred_proba\"])"
   ]
  },
  {
   "cell_type": "markdown",
   "metadata": {},
   "source": [
    "## 3. We have a loss function\n",
    "\n",
    "Introduce loss function\n",
    "\n",
    "Relative cost of of a false negative classification (as compared with a false positive classification)\n"
   ]
  },
  {
   "cell_type": "code",
   "execution_count": 60,
   "metadata": {},
   "outputs": [],
   "source": [
    "FP = 1\n",
    "FN = 10\n",
    "cost = FN / FP"
   ]
  },
  {
   "cell_type": "markdown",
   "metadata": {},
   "source": [
    "The prevalence, or the proportion of cases in the population (n.cases/(n.controls+n.cases))\n"
   ]
  },
  {
   "cell_type": "code",
   "execution_count": 61,
   "metadata": {},
   "outputs": [],
   "source": [
    "prevelance = y_train.sum() / len(y_train)"
   ]
  },
  {
   "cell_type": "markdown",
   "metadata": {},
   "source": [
    "Draw ROC Curve and find optimal threshold with loss function \n",
    "\n",
    "The optimal cut-off is the threshold that maximizes the distance to the identity (diagonal) line\n",
    "\n",
    "Iterate through:\n",
    " 1. models\n",
    " 2. Folds"
   ]
  },
  {
   "cell_type": "code",
   "execution_count": 62,
   "metadata": {},
   "outputs": [],
   "source": [
    "best_thresholds_cv = dict()\n",
    "expected_loss_cv = dict()\n",
    "fold5_threshold = dict()\n",
    "fold5_expected_loss = dict()\n",
    "fold5_all_coords = dict()\n",
    "\n",
    "for i, model_name in enumerate(logit_models):\n",
    "    best_thresholds = []\n",
    "    expected_loss = []\n",
    "\n",
    "    if model_name != \"LASSO\":\n",
    "        _, X = patsy.dmatrices(\"default ~\" + \"+\".join(logit_model_vars[i]), data_train)\n",
    "        X = pd.DataFrame(X)\n",
    "        c_index = 0\n",
    "    else:\n",
    "        X = normalized_logitvars\n",
    "        c_index = best_lambda_i\n",
    "    fold = 0\n",
    "    for train_index, test_index in k.split(X):\n",
    "        X_fold = X.iloc[test_index, :]\n",
    "        y_fold = data_train[\"default\"].iloc[test_index]\n",
    "        pred_fold = generate_fold_prediction(\n",
    "            logit_models[model_name], X_fold, fold, c_index\n",
    "        )\n",
    "        false_pos_rate, true_pos_rate, thresholds = roc_curve(y_fold, pred_fold)\n",
    "        optimal_threshold = sorted(\n",
    "            list(\n",
    "                zip(\n",
    "                    np.abs(\n",
    "                        true_pos_rate\n",
    "                        + (1 - prevelance) / (cost * prevelance) * (1 - false_pos_rate)\n",
    "                    ),\n",
    "                    thresholds,\n",
    "                )\n",
    "            ),\n",
    "            key=lambda i: i[0],\n",
    "            reverse=True,\n",
    "        )[0][1]\n",
    "        best_thresholds.append(optimal_threshold)\n",
    "        threshold_prediction = np.where(pred_fold < optimal_threshold, 0, 1)\n",
    "        tn, fp, fn, tp = confusion_matrix(\n",
    "            y_fold, threshold_prediction, labels=[0, 1]\n",
    "        ).ravel()\n",
    "        curr_exp_loss = (fp * FP + fn * FN) / len(y_fold)\n",
    "        expected_loss.append(curr_exp_loss)\n",
    "        fold = fold + 1\n",
    "\n",
    "    best_thresholds_cv[model_name] = np.mean(best_thresholds)\n",
    "    expected_loss_cv[model_name] = np.mean(expected_loss)\n",
    "\n",
    "    # for fold #5\n",
    "    fold5_threshold[model_name] = optimal_threshold\n",
    "    fold5_expected_loss[model_name] = curr_exp_loss\n",
    "\n",
    "    all_coords = pd.DataFrame(\n",
    "        {\n",
    "            \"false_pos\": false_pos_rate * sum(y_fold == 0),\n",
    "            \"true_pos\": true_pos_rate * sum(y_fold == 1),\n",
    "            \"false_neg\": sum(y_fold == 1) - true_pos_rate * sum(y_fold == 1),\n",
    "            \"true_neg\": sum(y_fold == 0) - false_pos_rate * sum(y_fold == 0),\n",
    "            \"pos\": sum(y_fold == 1),\n",
    "            \"neg\": sum(y_fold == 0),\n",
    "            \"n\": len(y_fold),\n",
    "            \"thresholds\": thresholds,\n",
    "        }\n",
    "    )\n",
    "\n",
    "    fold5_all_coords[model_name] = all_coords"
   ]
  },
  {
   "cell_type": "code",
   "execution_count": 63,
   "metadata": {},
   "outputs": [],
   "source": [
    "summary_with_lossfnc = pd.DataFrame(\n",
    "    best_thresholds_cv.items(), columns=[\"Model\", \"Avg of optimal thresholds\"]\n",
    ")\n",
    "summary_with_lossfnc[\"Threshold for Fold5\"] = fold5_threshold.values()\n",
    "summary_with_lossfnc[\"Avg expected loss\"] = expected_loss_cv.values()\n",
    "summary_with_lossfnc[\"Expected loss for Fold5\"] = fold5_expected_loss.values()\n"
   ]
  },
  {
   "cell_type": "code",
   "execution_count": 64,
   "metadata": {
    "scrolled": true
   },
   "outputs": [
    {
     "data": {
      "text/html": [
       "<div>\n",
       "<style scoped>\n",
       "    .dataframe tbody tr th:only-of-type {\n",
       "        vertical-align: middle;\n",
       "    }\n",
       "\n",
       "    .dataframe tbody tr th {\n",
       "        vertical-align: top;\n",
       "    }\n",
       "\n",
       "    .dataframe thead th {\n",
       "        text-align: right;\n",
       "    }\n",
       "</style>\n",
       "<table border=\"1\" class=\"dataframe\">\n",
       "  <thead>\n",
       "    <tr style=\"text-align: right;\">\n",
       "      <th></th>\n",
       "      <th>Model</th>\n",
       "      <th>Avg of optimal thresholds</th>\n",
       "      <th>Threshold for Fold5</th>\n",
       "      <th>Avg expected loss</th>\n",
       "      <th>Expected loss for Fold5</th>\n",
       "    </tr>\n",
       "  </thead>\n",
       "  <tbody>\n",
       "    <tr>\n",
       "      <th>0</th>\n",
       "      <td>M1</td>\n",
       "      <td>0.086296</td>\n",
       "      <td>0.099997</td>\n",
       "      <td>0.726753</td>\n",
       "      <td>0.716913</td>\n",
       "    </tr>\n",
       "    <tr>\n",
       "      <th>1</th>\n",
       "      <td>M2</td>\n",
       "      <td>0.093710</td>\n",
       "      <td>0.099004</td>\n",
       "      <td>0.657998</td>\n",
       "      <td>0.641051</td>\n",
       "    </tr>\n",
       "    <tr>\n",
       "      <th>2</th>\n",
       "      <td>M3</td>\n",
       "      <td>0.089973</td>\n",
       "      <td>0.119499</td>\n",
       "      <td>0.631664</td>\n",
       "      <td>0.620361</td>\n",
       "    </tr>\n",
       "    <tr>\n",
       "      <th>3</th>\n",
       "      <td>M4</td>\n",
       "      <td>0.094599</td>\n",
       "      <td>0.087465</td>\n",
       "      <td>0.621091</td>\n",
       "      <td>0.603941</td>\n",
       "    </tr>\n",
       "    <tr>\n",
       "      <th>4</th>\n",
       "      <td>M5</td>\n",
       "      <td>0.098420</td>\n",
       "      <td>0.114196</td>\n",
       "      <td>0.624178</td>\n",
       "      <td>0.628900</td>\n",
       "    </tr>\n",
       "    <tr>\n",
       "      <th>5</th>\n",
       "      <td>LASSO</td>\n",
       "      <td>0.095320</td>\n",
       "      <td>0.092476</td>\n",
       "      <td>0.620698</td>\n",
       "      <td>0.612808</td>\n",
       "    </tr>\n",
       "  </tbody>\n",
       "</table>\n",
       "</div>"
      ],
      "text/plain": [
       "   Model  Avg of optimal thresholds  Threshold for Fold5  Avg expected loss  \\\n",
       "0     M1                   0.086296             0.099997           0.726753   \n",
       "1     M2                   0.093710             0.099004           0.657998   \n",
       "2     M3                   0.089973             0.119499           0.631664   \n",
       "3     M4                   0.094599             0.087465           0.621091   \n",
       "4     M5                   0.098420             0.114196           0.624178   \n",
       "5  LASSO                   0.095320             0.092476           0.620698   \n",
       "\n",
       "   Expected loss for Fold5  \n",
       "0                 0.716913  \n",
       "1                 0.641051  \n",
       "2                 0.620361  \n",
       "3                 0.603941  \n",
       "4                 0.628900  \n",
       "5                 0.612808  "
      ]
     },
     "execution_count": 64,
     "metadata": {},
     "output_type": "execute_result"
    }
   ],
   "source": [
    "summary_with_lossfnc"
   ]
  },
  {
   "cell_type": "markdown",
   "metadata": {},
   "source": [
    "Create loss plot based on Fold5 in CV "
   ]
  },
  {
   "cell_type": "code",
   "execution_count": 66,
   "metadata": {},
   "outputs": [
    {
     "data": {
      "image/png": "[encoded data removed]",
      "text/plain": [
       "<Figure size 640x480 with 1 Axes>"
      ]
     },
     "metadata": {},
     "output_type": "display_data"
    },
    {
     "data": {
      "text/plain": [
       "<ggplot: (698054629)>"
      ]
     },
     "execution_count": 66,
     "metadata": {},
     "output_type": "execute_result"
    }
   ],
   "source": [
    "model_to_plot = \"M4\"  # select model to plot\n",
    "create_loss_plot(\n",
    "    fold5_all_coords[model_to_plot],\n",
    "    fold5_threshold[model_to_plot],\n",
    "    fold5_expected_loss[model_to_plot],\n",
    ")"
   ]
  },
  {
   "cell_type": "markdown",
   "metadata": {},
   "source": [
    "Create roc plot plot based on Fold5 in CV"
   ]
  },
  {
   "cell_type": "code",
   "execution_count": 67,
   "metadata": {},
   "outputs": [
    {
     "data": {
      "image/png": "[encoded data removed]",
      "text/plain": [
       "<Figure size 640x480 with 1 Axes>"
      ]
     },
     "metadata": {},
     "output_type": "display_data"
    },
    {
     "data": {
      "text/plain": [
       "<ggplot: (698019756)>"
      ]
     },
     "execution_count": 67,
     "metadata": {},
     "output_type": "execute_result"
    }
   ],
   "source": [
    "create_roc_plot_with_optimal(\n",
    "    fold5_all_coords[model_to_plot], fold5_threshold[model_to_plot]\n",
    ")\n"
   ]
  },
  {
   "cell_type": "markdown",
   "metadata": {},
   "source": [
    "Let's see our chosen model, M4's holdout expected loss"
   ]
  },
  {
   "cell_type": "code",
   "execution_count": 68,
   "metadata": {},
   "outputs": [
    {
     "data": {
      "text/plain": [
       "0.637"
      ]
     },
     "execution_count": 68,
     "metadata": {},
     "output_type": "execute_result"
    }
   ],
   "source": [
    "best_logit_optimal_treshold = best_thresholds_cv[\"M4\"]\n",
    "\n",
    "# Get expected loss on holdout\n",
    "holdout_treshold = np.where(\n",
    "    data_holdout[\"best_logit_pred_proba\"] < best_logit_optimal_treshold, 0, 1\n",
    ")\n",
    "tn, fp, fn, tp = confusion_matrix(\n",
    "    data_holdout[\"default\"], holdout_treshold, labels=[0, 1]\n",
    ").ravel()\n",
    "expected_loss_holdout = (fp * FP + fn * FN) / len(data_holdout[\"default\"])\n",
    "round(expected_loss_holdout, 3)"
   ]
  },
  {
   "cell_type": "markdown",
   "metadata": {},
   "source": [
    "CM on holdout"
   ]
  },
  {
   "cell_type": "code",
   "execution_count": 69,
   "metadata": {},
   "outputs": [
    {
     "data": {
      "text/html": [
       "<div>\n",
       "<style scoped>\n",
       "    .dataframe tbody tr th:only-of-type {\n",
       "        vertical-align: middle;\n",
       "    }\n",
       "\n",
       "    .dataframe tbody tr th {\n",
       "        vertical-align: top;\n",
       "    }\n",
       "\n",
       "    .dataframe thead th {\n",
       "        text-align: right;\n",
       "    }\n",
       "</style>\n",
       "<table border=\"1\" class=\"dataframe\">\n",
       "  <thead>\n",
       "    <tr style=\"text-align: right;\">\n",
       "      <th></th>\n",
       "      <th>Predicted no default</th>\n",
       "      <th>Predicted default</th>\n",
       "    </tr>\n",
       "  </thead>\n",
       "  <tbody>\n",
       "    <tr>\n",
       "      <th>Actul no defaul</th>\n",
       "      <td>1311</td>\n",
       "      <td>1707</td>\n",
       "    </tr>\n",
       "    <tr>\n",
       "      <th>Actual default</th>\n",
       "      <td>72</td>\n",
       "      <td>718</td>\n",
       "    </tr>\n",
       "  </tbody>\n",
       "</table>\n",
       "</div>"
      ],
      "text/plain": [
       "                 Predicted no default  Predicted default\n",
       "Actul no defaul                  1311               1707\n",
       "Actual default                     72                718"
      ]
     },
     "execution_count": 69,
     "metadata": {},
     "output_type": "execute_result"
    }
   ],
   "source": [
    "cm_object3 = confusion_matrix(data_holdout[\"default\"], holdout_treshold, labels=[0, 1])\n",
    "cm3 = pd.DataFrame(\n",
    "    cm_object3,\n",
    "    index=[\"Actul no defaul\", \"Actual default\"],\n",
    "    columns=[\"Predicted no default\", \"Predicted default\"],\n",
    ")\n",
    "cm3"
   ]
  },
  {
   "cell_type": "markdown",
   "metadata": {},
   "source": [
    "# PREDICTION WITH RANDOM FOREST"
   ]
  },
  {
   "cell_type": "code",
   "execution_count": 70,
   "metadata": {},
   "outputs": [],
   "source": [
    "y_train, rfvars_train = patsy.dmatrices(\"default~\" + \"+\".join(rfvars), data_train)\n",
    "y_holdout, rfvars_holdout = patsy.dmatrices(\"default~\" + \"+\".join(rfvars), data_holdout)"
   ]
  },
  {
   "cell_type": "markdown",
   "metadata": {},
   "source": [
    "## Graph example for decision tree"
   ]
  },
  {
   "cell_type": "code",
   "execution_count": 71,
   "metadata": {},
   "outputs": [
    {
     "data": {
      "text/plain": [
       "<Figure size 640x480 with 0 Axes>"
      ]
     },
     "metadata": {},
     "output_type": "display_data"
    },
    {
     "data": {
      "image/png": "[encoded data removed]",
      "text/plain": [
       "<Figure size 1100x1100 with 1 Axes>"
      ]
     },
     "metadata": {},
     "output_type": "display_data"
    }
   ],
   "source": [
    "from sklearn.tree import DecisionTreeClassifier\n",
    "from sklearn.tree import plot_tree\n",
    "\n",
    "data_for_graph = data_train[[\"sales_mil\", \"profit_loss_year\", \"foreign_management\"]]\n",
    "rf_for_graph = DecisionTreeClassifier(\n",
    "    ccp_alpha=0.0028, min_samples_leaf=100, max_depth=3, random_state=41\n",
    ").fit(data_for_graph, y_train)\n",
    "\n",
    "plt.figure()\n",
    "plt.figure(figsize=(11, 11))\n",
    "plot_tree(\n",
    "    rf_for_graph,\n",
    "    feature_names=data_for_graph.columns,\n",
    "    filled=True,\n",
    "    rounded=True,\n",
    "    proportion=True,\n",
    "    fontsize=10,\n",
    ")\n",
    "plt.title(\"Decision tree\")\n",
    "plt.show()\n"
   ]
  },
  {
   "cell_type": "markdown",
   "metadata": {},
   "source": [
    "## Probability forest\n",
    "\n",
    "Split by gini, ratio of 1's in each tree, average over trees"
   ]
  },
  {
   "cell_type": "code",
   "execution_count": 72,
   "metadata": {},
   "outputs": [],
   "source": [
    "grid = {\n",
    "    \"max_features\": [5, 6, 7],\n",
    "    \"criterion\": [\"gini\"],\n",
    "    \"min_samples_split\": [11, 16],\n",
    "} "
   ]
  },
  {
   "cell_type": "markdown",
   "metadata": {},
   "source": [
    "5 fold cross validation"
   ]
  },
  {
   "cell_type": "code",
   "execution_count": 73,
   "metadata": {},
   "outputs": [],
   "source": [
    "prob_forest = RandomForestClassifier(random_state=42, n_estimators=500, oob_score=True)\n",
    "prob_forest_grid = GridSearchCV(\n",
    "    prob_forest,\n",
    "    grid,\n",
    "    cv=k,\n",
    "    refit=\"roc_auc\",\n",
    "    scoring=[\"roc_auc\", \"neg_brier_score\"],\n",
    ")"
   ]
  },
  {
   "cell_type": "code",
   "execution_count": 74,
   "metadata": {},
   "outputs": [],
   "source": [
    "prob_forest_fit = prob_forest_grid.fit(rfvars_train, y_train)"
   ]
  },
  {
   "cell_type": "markdown",
   "metadata": {},
   "source": [
    "Create CV summary table"
   ]
  },
  {
   "cell_type": "code",
   "execution_count": 75,
   "metadata": {},
   "outputs": [
    {
     "data": {
      "text/html": [
       "<div>\n",
       "<style scoped>\n",
       "    .dataframe tbody tr th:only-of-type {\n",
       "        vertical-align: middle;\n",
       "    }\n",
       "\n",
       "    .dataframe tbody tr th {\n",
       "        vertical-align: top;\n",
       "    }\n",
       "\n",
       "    .dataframe thead th {\n",
       "        text-align: right;\n",
       "    }\n",
       "</style>\n",
       "<table border=\"1\" class=\"dataframe\">\n",
       "  <thead>\n",
       "    <tr style=\"text-align: right;\">\n",
       "      <th></th>\n",
       "      <th>max_features</th>\n",
       "      <th>min_samples_split</th>\n",
       "      <th>cv_auc</th>\n",
       "      <th>cv_rmse</th>\n",
       "    </tr>\n",
       "  </thead>\n",
       "  <tbody>\n",
       "    <tr>\n",
       "      <th>0</th>\n",
       "      <td>5</td>\n",
       "      <td>11</td>\n",
       "      <td>0.809305</td>\n",
       "      <td>0.354500</td>\n",
       "    </tr>\n",
       "    <tr>\n",
       "      <th>1</th>\n",
       "      <td>5</td>\n",
       "      <td>16</td>\n",
       "      <td>0.809534</td>\n",
       "      <td>0.354372</td>\n",
       "    </tr>\n",
       "    <tr>\n",
       "      <th>2</th>\n",
       "      <td>6</td>\n",
       "      <td>11</td>\n",
       "      <td>0.808702</td>\n",
       "      <td>0.354325</td>\n",
       "    </tr>\n",
       "    <tr>\n",
       "      <th>3</th>\n",
       "      <td>6</td>\n",
       "      <td>16</td>\n",
       "      <td>0.809106</td>\n",
       "      <td>0.354435</td>\n",
       "    </tr>\n",
       "    <tr>\n",
       "      <th>4</th>\n",
       "      <td>7</td>\n",
       "      <td>11</td>\n",
       "      <td>0.807667</td>\n",
       "      <td>0.354529</td>\n",
       "    </tr>\n",
       "    <tr>\n",
       "      <th>5</th>\n",
       "      <td>7</td>\n",
       "      <td>16</td>\n",
       "      <td>0.808091</td>\n",
       "      <td>0.354567</td>\n",
       "    </tr>\n",
       "  </tbody>\n",
       "</table>\n",
       "</div>"
      ],
      "text/plain": [
       "  max_features min_samples_split    cv_auc   cv_rmse\n",
       "0            5                11  0.809305  0.354500\n",
       "1            5                16  0.809534  0.354372\n",
       "2            6                11  0.808702  0.354325\n",
       "3            6                16  0.809106  0.354435\n",
       "4            7                11  0.807667  0.354529\n",
       "5            7                16  0.808091  0.354567"
      ]
     },
     "execution_count": 75,
     "metadata": {},
     "output_type": "execute_result"
    }
   ],
   "source": [
    "prob_forest_cv_results = pd.DataFrame(\n",
    "    {\n",
    "        \"max_features\": prob_forest_fit.cv_results_[\"param_max_features\"],\n",
    "        \"min_samples_split\": prob_forest_fit.cv_results_[\"param_min_samples_split\"],\n",
    "        \"cv_auc\": prob_forest_fit.cv_results_[\"mean_test_roc_auc\"],\n",
    "        \"cv_rmse\": np.sqrt(\n",
    "            prob_forest_fit.cv_results_[\"mean_test_neg_brier_score\"] * -1\n",
    "        ),\n",
    "    }\n",
    ")\n",
    "\n",
    "prob_forest_cv_results"
   ]
  },
  {
   "cell_type": "markdown",
   "metadata": {},
   "source": [
    "Obtain optimal parameter values"
   ]
  },
  {
   "cell_type": "code",
   "execution_count": 76,
   "metadata": {},
   "outputs": [
    {
     "data": {
      "text/plain": [
       "{'criterion': 'gini', 'max_features': 5, 'min_samples_split': 16}"
      ]
     },
     "execution_count": 76,
     "metadata": {},
     "output_type": "execute_result"
    }
   ],
   "source": [
    "best_mtry = prob_forest_fit.best_params_[\"max_features\"]\n",
    "best_min_node_size = prob_forest_fit.best_params_[\"min_samples_split\"]\n",
    "prob_forest_fit.best_params_\n"
   ]
  },
  {
   "cell_type": "markdown",
   "metadata": {},
   "source": [
    "Get average (ie over the folds) RMSE and AUC"
   ]
  },
  {
   "cell_type": "code",
   "execution_count": 77,
   "metadata": {},
   "outputs": [],
   "source": [
    "prob_forest_best_results = prob_forest_cv_results[\n",
    "    (prob_forest_cv_results.max_features == best_mtry)\n",
    "    & (prob_forest_cv_results.min_samples_split == best_min_node_size)\n",
    "]\n",
    "prob_forest_best_results_index = prob_forest_best_results.index.values[0]"
   ]
  },
  {
   "cell_type": "code",
   "execution_count": 78,
   "metadata": {},
   "outputs": [
    {
     "data": {
      "text/html": [
       "<div>\n",
       "<style scoped>\n",
       "    .dataframe tbody tr th:only-of-type {\n",
       "        vertical-align: middle;\n",
       "    }\n",
       "\n",
       "    .dataframe tbody tr th {\n",
       "        vertical-align: top;\n",
       "    }\n",
       "\n",
       "    .dataframe thead th {\n",
       "        text-align: right;\n",
       "    }\n",
       "</style>\n",
       "<table border=\"1\" class=\"dataframe\">\n",
       "  <thead>\n",
       "    <tr style=\"text-align: right;\">\n",
       "      <th></th>\n",
       "      <th>Number of Coefficients</th>\n",
       "      <th>CV RMSE</th>\n",
       "      <th>CV AUC</th>\n",
       "    </tr>\n",
       "  </thead>\n",
       "  <tbody>\n",
       "    <tr>\n",
       "      <th>M1</th>\n",
       "      <td>12.0</td>\n",
       "      <td>0.374277</td>\n",
       "      <td>0.735936</td>\n",
       "    </tr>\n",
       "    <tr>\n",
       "      <th>M2</th>\n",
       "      <td>19.0</td>\n",
       "      <td>0.365911</td>\n",
       "      <td>0.770388</td>\n",
       "    </tr>\n",
       "    <tr>\n",
       "      <th>M3</th>\n",
       "      <td>36.0</td>\n",
       "      <td>0.364524</td>\n",
       "      <td>0.778620</td>\n",
       "    </tr>\n",
       "    <tr>\n",
       "      <th>M4</th>\n",
       "      <td>80.0</td>\n",
       "      <td>0.362022</td>\n",
       "      <td>0.784784</td>\n",
       "    </tr>\n",
       "    <tr>\n",
       "      <th>M5</th>\n",
       "      <td>154.0</td>\n",
       "      <td>0.361817</td>\n",
       "      <td>0.784512</td>\n",
       "    </tr>\n",
       "    <tr>\n",
       "      <th>LASSO</th>\n",
       "      <td>70.0</td>\n",
       "      <td>0.361086</td>\n",
       "      <td>0.786035</td>\n",
       "    </tr>\n",
       "    <tr>\n",
       "      <th>RF</th>\n",
       "      <td>n.a.</td>\n",
       "      <td>0.354372</td>\n",
       "      <td>0.809534</td>\n",
       "    </tr>\n",
       "  </tbody>\n",
       "</table>\n",
       "</div>"
      ],
      "text/plain": [
       "      Number of Coefficients   CV RMSE    CV AUC\n",
       "M1                      12.0  0.374277  0.735936\n",
       "M2                      19.0  0.365911  0.770388\n",
       "M3                      36.0  0.364524  0.778620\n",
       "M4                      80.0  0.362022  0.784784\n",
       "M5                     154.0  0.361817  0.784512\n",
       "LASSO                   70.0  0.361086  0.786035\n",
       "RF                      n.a.  0.354372  0.809534"
      ]
     },
     "execution_count": 78,
     "metadata": {},
     "output_type": "execute_result"
    }
   ],
   "source": [
    "summary.loc[\"RF\", \"Number of Coefficients\"] = \"n.a.\"\n",
    "summary.loc[\"RF\", \"CV RMSE\"] = prob_forest_best_results[\"cv_rmse\"].values[0]\n",
    "summary.loc[\"RF\", \"CV AUC\"] = prob_forest_best_results[\"cv_auc\"].values[0]\n",
    "summary"
   ]
  },
  {
   "cell_type": "markdown",
   "metadata": {},
   "source": [
    "Extract fold level RMSE and AUC"
   ]
  },
  {
   "cell_type": "code",
   "execution_count": 79,
   "metadata": {},
   "outputs": [],
   "source": [
    "CV_RMSE_folds[\"RF\"] = np.sqrt(\n",
    "    pd.DataFrame(prob_forest_fit.cv_results_)\n",
    "    .filter(like=\"_test_neg_brier_score\")\n",
    "    .loc[lambda x: x[\"rank_test_neg_brier_score\"] == 1]\n",
    "    .filter(like=\"split\")\n",
    "    .values[0]\n",
    "    * -1\n",
    ")\n",
    "CV_AUC_folds[\"RF\"] = (\n",
    "    pd.DataFrame(prob_forest_fit.cv_results_)\n",
    "    .filter(like=\"_test_roc_auc\")\n",
    "    .loc[lambda x: x[\"rank_test_roc_auc\"] == 1]\n",
    "    .filter(like=\"split\")\n",
    "    .values[0]\n",
    ")"
   ]
  },
  {
   "cell_type": "markdown",
   "metadata": {},
   "source": [
    "Take a look at foldwise RMSE and AUC"
   ]
  },
  {
   "cell_type": "code",
   "execution_count": 80,
   "metadata": {},
   "outputs": [
    {
     "data": {
      "text/html": [
       "<div>\n",
       "<style scoped>\n",
       "    .dataframe tbody tr th:only-of-type {\n",
       "        vertical-align: middle;\n",
       "    }\n",
       "\n",
       "    .dataframe tbody tr th {\n",
       "        vertical-align: top;\n",
       "    }\n",
       "\n",
       "    .dataframe thead th {\n",
       "        text-align: right;\n",
       "    }\n",
       "</style>\n",
       "<table border=\"1\" class=\"dataframe\">\n",
       "  <thead>\n",
       "    <tr style=\"text-align: right;\">\n",
       "      <th></th>\n",
       "      <th>M1</th>\n",
       "      <th>M2</th>\n",
       "      <th>M3</th>\n",
       "      <th>M4</th>\n",
       "      <th>M5</th>\n",
       "      <th>LASSO</th>\n",
       "      <th>RF</th>\n",
       "    </tr>\n",
       "  </thead>\n",
       "  <tbody>\n",
       "    <tr>\n",
       "      <th>0</th>\n",
       "      <td>0.372357</td>\n",
       "      <td>0.363849</td>\n",
       "      <td>0.361606</td>\n",
       "      <td>0.359957</td>\n",
       "      <td>0.358936</td>\n",
       "      <td>0.358821</td>\n",
       "      <td>0.349219</td>\n",
       "    </tr>\n",
       "    <tr>\n",
       "      <th>1</th>\n",
       "      <td>0.370867</td>\n",
       "      <td>0.363950</td>\n",
       "      <td>0.363302</td>\n",
       "      <td>0.360563</td>\n",
       "      <td>0.361381</td>\n",
       "      <td>0.360086</td>\n",
       "      <td>0.352569</td>\n",
       "    </tr>\n",
       "    <tr>\n",
       "      <th>2</th>\n",
       "      <td>0.373981</td>\n",
       "      <td>0.367897</td>\n",
       "      <td>0.368349</td>\n",
       "      <td>0.365558</td>\n",
       "      <td>0.366126</td>\n",
       "      <td>0.364990</td>\n",
       "      <td>0.357525</td>\n",
       "    </tr>\n",
       "    <tr>\n",
       "      <th>3</th>\n",
       "      <td>0.375318</td>\n",
       "      <td>0.364260</td>\n",
       "      <td>0.362033</td>\n",
       "      <td>0.358595</td>\n",
       "      <td>0.357220</td>\n",
       "      <td>0.357450</td>\n",
       "      <td>0.355344</td>\n",
       "    </tr>\n",
       "    <tr>\n",
       "      <th>4</th>\n",
       "      <td>0.378864</td>\n",
       "      <td>0.369600</td>\n",
       "      <td>0.367331</td>\n",
       "      <td>0.365439</td>\n",
       "      <td>0.365425</td>\n",
       "      <td>0.364083</td>\n",
       "      <td>0.356900</td>\n",
       "    </tr>\n",
       "  </tbody>\n",
       "</table>\n",
       "</div>"
      ],
      "text/plain": [
       "         M1        M2        M3        M4        M5     LASSO        RF\n",
       "0  0.372357  0.363849  0.361606  0.359957  0.358936  0.358821  0.349219\n",
       "1  0.370867  0.363950  0.363302  0.360563  0.361381  0.360086  0.352569\n",
       "2  0.373981  0.367897  0.368349  0.365558  0.366126  0.364990  0.357525\n",
       "3  0.375318  0.364260  0.362033  0.358595  0.357220  0.357450  0.355344\n",
       "4  0.378864  0.369600  0.367331  0.365439  0.365425  0.364083  0.356900"
      ]
     },
     "execution_count": 80,
     "metadata": {},
     "output_type": "execute_result"
    }
   ],
   "source": [
    "pd.DataFrame(CV_RMSE_folds)"
   ]
  },
  {
   "cell_type": "code",
   "execution_count": 81,
   "metadata": {},
   "outputs": [
    {
     "data": {
      "text/html": [
       "<div>\n",
       "<style scoped>\n",
       "    .dataframe tbody tr th:only-of-type {\n",
       "        vertical-align: middle;\n",
       "    }\n",
       "\n",
       "    .dataframe tbody tr th {\n",
       "        vertical-align: top;\n",
       "    }\n",
       "\n",
       "    .dataframe thead th {\n",
       "        text-align: right;\n",
       "    }\n",
       "</style>\n",
       "<table border=\"1\" class=\"dataframe\">\n",
       "  <thead>\n",
       "    <tr style=\"text-align: right;\">\n",
       "      <th></th>\n",
       "      <th>M1</th>\n",
       "      <th>M2</th>\n",
       "      <th>M3</th>\n",
       "      <th>M4</th>\n",
       "      <th>M5</th>\n",
       "      <th>LASSO</th>\n",
       "      <th>RF</th>\n",
       "    </tr>\n",
       "  </thead>\n",
       "  <tbody>\n",
       "    <tr>\n",
       "      <th>0</th>\n",
       "      <td>0.742458</td>\n",
       "      <td>0.775183</td>\n",
       "      <td>0.784854</td>\n",
       "      <td>0.789826</td>\n",
       "      <td>0.791265</td>\n",
       "      <td>0.790649</td>\n",
       "      <td>0.819508</td>\n",
       "    </tr>\n",
       "    <tr>\n",
       "      <th>1</th>\n",
       "      <td>0.725542</td>\n",
       "      <td>0.758135</td>\n",
       "      <td>0.764986</td>\n",
       "      <td>0.775101</td>\n",
       "      <td>0.774422</td>\n",
       "      <td>0.775266</td>\n",
       "      <td>0.804243</td>\n",
       "    </tr>\n",
       "    <tr>\n",
       "      <th>2</th>\n",
       "      <td>0.734218</td>\n",
       "      <td>0.765159</td>\n",
       "      <td>0.769782</td>\n",
       "      <td>0.771550</td>\n",
       "      <td>0.771110</td>\n",
       "      <td>0.773223</td>\n",
       "      <td>0.799146</td>\n",
       "    </tr>\n",
       "    <tr>\n",
       "      <th>3</th>\n",
       "      <td>0.733727</td>\n",
       "      <td>0.776729</td>\n",
       "      <td>0.786865</td>\n",
       "      <td>0.796357</td>\n",
       "      <td>0.797281</td>\n",
       "      <td>0.797802</td>\n",
       "      <td>0.810654</td>\n",
       "    </tr>\n",
       "    <tr>\n",
       "      <th>4</th>\n",
       "      <td>0.743737</td>\n",
       "      <td>0.776735</td>\n",
       "      <td>0.786612</td>\n",
       "      <td>0.791087</td>\n",
       "      <td>0.788479</td>\n",
       "      <td>0.793235</td>\n",
       "      <td>0.814120</td>\n",
       "    </tr>\n",
       "  </tbody>\n",
       "</table>\n",
       "</div>"
      ],
      "text/plain": [
       "         M1        M2        M3        M4        M5     LASSO        RF\n",
       "0  0.742458  0.775183  0.784854  0.789826  0.791265  0.790649  0.819508\n",
       "1  0.725542  0.758135  0.764986  0.775101  0.774422  0.775266  0.804243\n",
       "2  0.734218  0.765159  0.769782  0.771550  0.771110  0.773223  0.799146\n",
       "3  0.733727  0.776729  0.786865  0.796357  0.797281  0.797802  0.810654\n",
       "4  0.743737  0.776735  0.786612  0.791087  0.788479  0.793235  0.814120"
      ]
     },
     "execution_count": 81,
     "metadata": {},
     "output_type": "execute_result"
    }
   ],
   "source": [
    "pd.DataFrame(CV_AUC_folds)"
   ]
  },
  {
   "cell_type": "markdown",
   "metadata": {},
   "source": [
    "Now use loss function and search for best thresholds and expected loss over folds "
   ]
  },
  {
   "cell_type": "code",
   "execution_count": 82,
   "metadata": {},
   "outputs": [],
   "source": [
    "best_thresholds = list()\n",
    "expected_loss = list()\n",
    "rfvars_train = pd.DataFrame(rfvars_train)\n",
    "\n",
    "fold = 0\n",
    "for train_index, test_index in k.split(rfvars_train):\n",
    "    X_fold = rfvars_train.iloc[test_index, :]\n",
    "    y_fold = data_train[\"default\"].iloc[test_index]\n",
    "\n",
    "    X_fold_train = rfvars_train.iloc[train_index, :]\n",
    "    y_fold_train = data_train[\"default\"].iloc[train_index]\n",
    "\n",
    "    prob_forest_best = RandomForestClassifier(\n",
    "        random_state=42,\n",
    "        n_estimators=500,\n",
    "        oob_score=True,\n",
    "        criterion=\"gini\",\n",
    "        max_features=best_mtry,\n",
    "        min_samples_split=best_min_node_size,\n",
    "    )\n",
    "    prob_forest_best_fold = prob_forest_best.fit(X_fold_train, y_fold_train)\n",
    "    pred_fold = prob_forest_best_fold.predict_proba(X_fold)[:, 1]\n",
    "\n",
    "    false_pos_rate, true_pos_rate, threshold = roc_curve(y_fold, pred_fold)\n",
    "    best_threshold = sorted(\n",
    "        list(\n",
    "            zip(\n",
    "                np.abs(\n",
    "                    true_pos_rate\n",
    "                    + (1 - prevelance) / (cost * prevelance) * (1 - false_pos_rate)\n",
    "                ),\n",
    "                threshold,\n",
    "            )\n",
    "        ),\n",
    "        key=lambda x: x[0],\n",
    "        reverse=True,\n",
    "    )[0][1]\n",
    "    best_thresholds.append(best_threshold)\n",
    "    threshold_prediction = np.where(pred_fold < best_threshold, 0, 1)\n",
    "    tn, fp, fn, tp = confusion_matrix(\n",
    "        y_fold, threshold_prediction, labels=[0, 1]\n",
    "    ).ravel()\n",
    "    curr_exp_loss = (fp * FP + fn * FN) / len(y_fold)\n",
    "    expected_loss.append(curr_exp_loss)\n",
    "\n",
    "fold5_threshold_rf = best_threshold\n",
    "fold5_expected_loss_rf = curr_exp_loss\n",
    "\n",
    "all_coords_rf = pd.DataFrame(\n",
    "    {\n",
    "        \"false_pos\": false_pos_rate * sum(y_fold == 0),\n",
    "        \"true_pos\": true_pos_rate * sum(y_fold == 1),\n",
    "        \"false_neg\": sum(y_fold == 1) - true_pos_rate * sum(y_fold == 1),\n",
    "        \"true_neg\": sum(y_fold == 0) - false_pos_rate * sum(y_fold == 0),\n",
    "        \"pos\": sum(y_fold == 1),\n",
    "        \"neg\": sum(y_fold == 0),\n",
    "        \"n\": len(y_fold),\n",
    "        \"thresholds\": threshold,\n",
    "    }\n",
    ")\n"
   ]
  },
  {
   "cell_type": "code",
   "execution_count": 83,
   "metadata": {},
   "outputs": [],
   "source": [
    "expected_loss_cv[\"RF\"] = np.mean(expected_loss)\n",
    "best_thresholds_cv[\"RF\"] = np.mean(best_thresholds)\n"
   ]
  },
  {
   "cell_type": "code",
   "execution_count": 84,
   "metadata": {},
   "outputs": [
    {
     "data": {
      "text/html": [
       "<div>\n",
       "<style scoped>\n",
       "    .dataframe tbody tr th:only-of-type {\n",
       "        vertical-align: middle;\n",
       "    }\n",
       "\n",
       "    .dataframe tbody tr th {\n",
       "        vertical-align: top;\n",
       "    }\n",
       "\n",
       "    .dataframe thead th {\n",
       "        text-align: right;\n",
       "    }\n",
       "</style>\n",
       "<table border=\"1\" class=\"dataframe\">\n",
       "  <thead>\n",
       "    <tr style=\"text-align: right;\">\n",
       "      <th></th>\n",
       "      <th>CV RMSE</th>\n",
       "      <th>CV AUC</th>\n",
       "      <th>Avg of optimal thresholds</th>\n",
       "      <th>Threshold for Fold5</th>\n",
       "      <th>Avg expected loss</th>\n",
       "      <th>Expected loss for Fold5</th>\n",
       "    </tr>\n",
       "  </thead>\n",
       "  <tbody>\n",
       "    <tr>\n",
       "      <th>0</th>\n",
       "      <td>0.354</td>\n",
       "      <td>0.81</td>\n",
       "      <td>0.119</td>\n",
       "      <td>0.112</td>\n",
       "      <td>0.578</td>\n",
       "      <td>0.568</td>\n",
       "    </tr>\n",
       "  </tbody>\n",
       "</table>\n",
       "</div>"
      ],
      "text/plain": [
       "   CV RMSE  CV AUC  Avg of optimal thresholds  Threshold for Fold5  \\\n",
       "0    0.354    0.81                      0.119                0.112   \n",
       "\n",
       "   Avg expected loss  Expected loss for Fold5  \n",
       "0              0.578                    0.568  "
      ]
     },
     "execution_count": 84,
     "metadata": {},
     "output_type": "execute_result"
    }
   ],
   "source": [
    "rf_summary = pd.DataFrame(\n",
    "    {\n",
    "        \"CV RMSE\": [round(prob_forest_best_results[\"cv_rmse\"].values[0], 3)],\n",
    "        \"CV AUC\": [round(prob_forest_best_results[\"cv_auc\"].values[0], 3)],\n",
    "        \"Avg of optimal thresholds\": [round(best_thresholds_cv[\"RF\"], 3)],\n",
    "        \"Threshold for Fold5\": [round(best_threshold, 3)],\n",
    "        \"Avg expected loss\": [round(expected_loss_cv[\"RF\"], 3)],\n",
    "        \"Expected loss for Fold5\": [round(curr_exp_loss, 3)],\n",
    "    }\n",
    ")\n",
    "\n",
    "rf_summary"
   ]
  },
  {
   "cell_type": "markdown",
   "metadata": {},
   "source": [
    "Create plots based on Fold5 in CV "
   ]
  },
  {
   "cell_type": "code",
   "execution_count": 86,
   "metadata": {},
   "outputs": [
    {
     "data": {
      "image/png": "[encoded data removed]",
      "text/plain": [
       "<Figure size 640x480 with 1 Axes>"
      ]
     },
     "metadata": {},
     "output_type": "display_data"
    },
    {
     "data": {
      "text/plain": [
       "<ggplot: (699603797)>"
      ]
     },
     "execution_count": 86,
     "metadata": {},
     "output_type": "execute_result"
    }
   ],
   "source": [
    "create_loss_plot(all_coords_rf, fold5_threshold_rf, fold5_expected_loss_rf)"
   ]
  },
  {
   "cell_type": "code",
   "execution_count": 87,
   "metadata": {},
   "outputs": [
    {
     "data": {
      "image/png": "[encoded data removed]",
      "text/plain": [
       "<Figure size 640x480 with 1 Axes>"
      ]
     },
     "metadata": {},
     "output_type": "display_data"
    },
    {
     "data": {
      "text/plain": [
       "<ggplot: (698056111)>"
      ]
     },
     "execution_count": 87,
     "metadata": {},
     "output_type": "execute_result"
    }
   ],
   "source": [
    "create_roc_plot_with_optimal(all_coords_rf, fold5_threshold_rf)"
   ]
  },
  {
   "cell_type": "markdown",
   "metadata": {},
   "source": [
    "Take model to holdout and estimate RMSE, AUC and expected loss "
   ]
  },
  {
   "cell_type": "code",
   "execution_count": 88,
   "metadata": {},
   "outputs": [
    {
     "data": {
      "text/plain": [
       "0.357"
      ]
     },
     "execution_count": 88,
     "metadata": {},
     "output_type": "execute_result"
    }
   ],
   "source": [
    "prob_forest_fit_best = prob_forest_fit.best_estimator_\n",
    "rf_predicted_probabilities_holdout = prob_forest_fit_best.predict_proba(rfvars_holdout)[\n",
    "    :, 1\n",
    "]\n",
    "rmse_rf = np.sqrt(mean_squared_error(y_holdout, rf_predicted_probabilities_holdout))\n",
    "round(rmse_rf, 3)\n"
   ]
  },
  {
   "cell_type": "markdown",
   "metadata": {},
   "source": [
    "ROC AUC  on holdout"
   ]
  },
  {
   "cell_type": "code",
   "execution_count": 89,
   "metadata": {},
   "outputs": [
    {
     "data": {
      "text/plain": [
       "0.808"
      ]
     },
     "execution_count": 89,
     "metadata": {},
     "output_type": "execute_result"
    }
   ],
   "source": [
    "auc_rf = roc_auc_score(y_holdout, rf_predicted_probabilities_holdout)\n",
    "round(auc_rf, 3)\n"
   ]
  },
  {
   "cell_type": "markdown",
   "metadata": {},
   "source": [
    " Get expected loss on holdout"
   ]
  },
  {
   "cell_type": "code",
   "execution_count": 90,
   "metadata": {},
   "outputs": [
    {
     "data": {
      "text/plain": [
       "0.612"
      ]
     },
     "execution_count": 90,
     "metadata": {},
     "output_type": "execute_result"
    }
   ],
   "source": [
    "holdout_treshold = np.where(\n",
    "    rf_predicted_probabilities_holdout < best_thresholds_cv[\"RF\"], 0, 1\n",
    ")\n",
    "tn, fp, fn, tp = confusion_matrix(y_holdout, holdout_treshold, labels=[0, 1]).ravel()\n",
    "expected_loss_holdout = (fp * FP + fn * FN) / len(y_holdout)\n",
    "round(expected_loss_holdout, 3)\n"
   ]
  },
  {
   "cell_type": "markdown",
   "metadata": {},
   "source": [
    "## Final results"
   ]
  },
  {
   "cell_type": "code",
   "execution_count": 91,
   "metadata": {},
   "outputs": [],
   "source": [
    "summary[\"CV treshold\"] = best_thresholds_cv\n",
    "summary[\"CV expected Loss\"] = expected_loss_cv"
   ]
  },
  {
   "cell_type": "code",
   "execution_count": 92,
   "metadata": {},
   "outputs": [
    {
     "data": {
      "text/html": [
       "<div>\n",
       "<style scoped>\n",
       "    .dataframe tbody tr th:only-of-type {\n",
       "        vertical-align: middle;\n",
       "    }\n",
       "\n",
       "    .dataframe tbody tr th {\n",
       "        vertical-align: top;\n",
       "    }\n",
       "\n",
       "    .dataframe thead th {\n",
       "        text-align: right;\n",
       "    }\n",
       "</style>\n",
       "<table border=\"1\" class=\"dataframe\">\n",
       "  <thead>\n",
       "    <tr style=\"text-align: right;\">\n",
       "      <th></th>\n",
       "      <th>Number of Coefficients</th>\n",
       "      <th>CV RMSE</th>\n",
       "      <th>CV AUC</th>\n",
       "      <th>CV treshold</th>\n",
       "      <th>CV expected Loss</th>\n",
       "    </tr>\n",
       "  </thead>\n",
       "  <tbody>\n",
       "    <tr>\n",
       "      <th>M1</th>\n",
       "      <td>12.0</td>\n",
       "      <td>0.374277</td>\n",
       "      <td>0.735936</td>\n",
       "      <td>0.086296</td>\n",
       "      <td>0.726753</td>\n",
       "    </tr>\n",
       "    <tr>\n",
       "      <th>M2</th>\n",
       "      <td>19.0</td>\n",
       "      <td>0.365911</td>\n",
       "      <td>0.770388</td>\n",
       "      <td>0.093710</td>\n",
       "      <td>0.657998</td>\n",
       "    </tr>\n",
       "    <tr>\n",
       "      <th>M3</th>\n",
       "      <td>36.0</td>\n",
       "      <td>0.364524</td>\n",
       "      <td>0.778620</td>\n",
       "      <td>0.089973</td>\n",
       "      <td>0.631664</td>\n",
       "    </tr>\n",
       "    <tr>\n",
       "      <th>M4</th>\n",
       "      <td>80.0</td>\n",
       "      <td>0.362022</td>\n",
       "      <td>0.784784</td>\n",
       "      <td>0.094599</td>\n",
       "      <td>0.621091</td>\n",
       "    </tr>\n",
       "    <tr>\n",
       "      <th>M5</th>\n",
       "      <td>154.0</td>\n",
       "      <td>0.361817</td>\n",
       "      <td>0.784512</td>\n",
       "      <td>0.098420</td>\n",
       "      <td>0.624178</td>\n",
       "    </tr>\n",
       "    <tr>\n",
       "      <th>LASSO</th>\n",
       "      <td>70.0</td>\n",
       "      <td>0.361086</td>\n",
       "      <td>0.786035</td>\n",
       "      <td>0.095320</td>\n",
       "      <td>0.620698</td>\n",
       "    </tr>\n",
       "    <tr>\n",
       "      <th>RF</th>\n",
       "      <td>n.a.</td>\n",
       "      <td>0.354372</td>\n",
       "      <td>0.809534</td>\n",
       "      <td>0.118824</td>\n",
       "      <td>0.578275</td>\n",
       "    </tr>\n",
       "  </tbody>\n",
       "</table>\n",
       "</div>"
      ],
      "text/plain": [
       "      Number of Coefficients   CV RMSE    CV AUC  CV treshold  \\\n",
       "M1                      12.0  0.374277  0.735936     0.086296   \n",
       "M2                      19.0  0.365911  0.770388     0.093710   \n",
       "M3                      36.0  0.364524  0.778620     0.089973   \n",
       "M4                      80.0  0.362022  0.784784     0.094599   \n",
       "M5                     154.0  0.361817  0.784512     0.098420   \n",
       "LASSO                   70.0  0.361086  0.786035     0.095320   \n",
       "RF                      n.a.  0.354372  0.809534     0.118824   \n",
       "\n",
       "       CV expected Loss  \n",
       "M1             0.726753  \n",
       "M2             0.657998  \n",
       "M3             0.631664  \n",
       "M4             0.621091  \n",
       "M5             0.624178  \n",
       "LASSO          0.620698  \n",
       "RF             0.578275  "
      ]
     },
     "execution_count": 92,
     "metadata": {},
     "output_type": "execute_result"
    }
   ],
   "source": [
    "summary"
   ]
  },
  {
   "cell_type": "code",
   "execution_count": null,
   "metadata": {},
   "outputs": [],
   "source": []
  }
 ],
 "metadata": {
  "kernelspec": {
   "display_name": "Python 3",
   "language": "python",
   "name": "python3"
  },
  "language_info": {
   "codemirror_mode": {
    "name": "ipython",
    "version": 3
   },
   "file_extension": ".py",
   "mimetype": "text/x-python",
   "name": "python",
   "nbconvert_exporter": "python",
   "pygments_lexer": "ipython3",
   "version": "3.7.4"
  },
  "vscode": {
   "interpreter": {
    "hash": "c01754e8627d0ea60fdf9a984fbf743943cf4db47884120dd04bfc512143b077"
   }
  }
 },
 "nbformat": 4,
 "nbformat_minor": 4
}
