{
 "cells": [
  {
   "cell_type": "markdown",
   "metadata": {},
   "source": [
    "# 11A Does Smoking Pose a Health Risk?"
   ]
  },
  {
   "cell_type": "code",
   "execution_count": 1,
   "metadata": {},
   "outputs": [],
   "source": [
    "import os\n",
    "from pathlib import Path\n",
    "import sys\n",
    "import warnings\n",
    "\n",
    "import numpy as np\n",
    "import pandas as pd\n",
    "from mizani.formatters import percent_format\n",
    "from plotnine import *\n",
    "from scipy.stats import logistic\n",
    "from scipy.stats import norm\n",
    "from stargazer.stargazer import Stargazer\n",
    "from patsy import dmatrices\n",
    "import statsmodels.api as sm\n",
    "import statsmodels.formula.api as smf\n",
    "from sklearn.metrics import mean_squared_error\n",
    "from sklearn.metrics import r2_score\n",
    "from sklearn.metrics import log_loss\n",
    "\n",
    "warnings.filterwarnings(\"ignore\")\n"
   ]
  },
  {
   "cell_type": "code",
   "execution_count": 2,
   "metadata": {},
   "outputs": [],
   "source": [
    "path = Path(os.getcwd())\n",
    "\n",
    "base_dir = path.parent.parent\n",
    "\n",
    "data_in = os.path.join(str(base_dir), \"da_data_repo/share-health/clean/\")\n",
    "data_out = os.path.join(str(base_dir), \"da_case_studies/ch11-smoking-health-risk/\")\n",
    "output = os.path.join(str(base_dir), \"da_case_studies/ch12-stock-returns-risk/output/\")\n",
    "func = os.path.join(str(base_dir), \"da_case_studies/ch00-tech-prep/\")\n"
   ]
  },
  {
   "cell_type": "code",
   "execution_count": 3,
   "metadata": {},
   "outputs": [],
   "source": [
    "sys.path.append(func)\n",
    "\n",
    "from py_helper_functions import *\n"
   ]
  },
  {
   "cell_type": "code",
   "execution_count": 4,
   "metadata": {},
   "outputs": [],
   "source": [
    "share = pd.read_csv(os.path.join(\"share-health.csv\"))\n"
   ]
  },
  {
   "cell_type": "markdown",
   "metadata": {},
   "source": [
    "# Part I – create workfile"
   ]
  },
  {
   "cell_type": "code",
   "execution_count": 5,
   "metadata": {},
   "outputs": [],
   "source": [
    "share[\"healthy\"] = 0\n",
    "share.loc[(share[\"sphus\"] == 1) | (share[\"sphus\"] == 2), \"healthy\"] = 1\n",
    "share.loc[~((share[\"sphus\"] > 0) & (share[\"sphus\"] <= 5)), \"healthy\"] = np.nan\n"
   ]
  },
  {
   "cell_type": "code",
   "execution_count": 6,
   "metadata": {},
   "outputs": [
    {
     "data": {
      "text/plain": [
       "0.0    213847\n",
       "1.0     73808\n",
       "Name: healthy, dtype: int64"
      ]
     },
     "execution_count": 6,
     "metadata": {},
     "output_type": "execute_result"
    }
   ],
   "source": [
    "share[\"healthy\"].value_counts()\n"
   ]
  },
  {
   "cell_type": "code",
   "execution_count": 7,
   "metadata": {},
   "outputs": [],
   "source": [
    "share = share.dropna(how=\"any\")\n"
   ]
  },
  {
   "cell_type": "code",
   "execution_count": 8,
   "metadata": {},
   "outputs": [],
   "source": [
    "share[\"baseline\"] = 0\n",
    "share.loc[share[\"wave\"] == 4, \"baseline\"] = 1\n",
    "share[\"endline\"] = 0\n",
    "share.loc[share[\"wave\"] == 6, \"endline\"] = 1\n"
   ]
  },
  {
   "cell_type": "code",
   "execution_count": 9,
   "metadata": {},
   "outputs": [
    {
     "data": {
      "text/plain": [
       "0    229773\n",
       "1     57882\n",
       "Name: baseline, dtype: int64"
      ]
     },
     "execution_count": 9,
     "metadata": {},
     "output_type": "execute_result"
    }
   ],
   "source": [
    "share[\"baseline\"].value_counts()\n"
   ]
  },
  {
   "cell_type": "code",
   "execution_count": 10,
   "metadata": {},
   "outputs": [
    {
     "data": {
      "text/plain": [
       "0    219568\n",
       "1     68087\n",
       "Name: endline, dtype: int64"
      ]
     },
     "execution_count": 10,
     "metadata": {},
     "output_type": "execute_result"
    }
   ],
   "source": [
    "share[\"endline\"].value_counts()\n"
   ]
  },
  {
   "cell_type": "code",
   "execution_count": 11,
   "metadata": {},
   "outputs": [],
   "source": [
    "share[\"temp\"] = np.where(\n",
    "    share[\"endline\"] == 1, np.where(share[\"healthy\"] == 1, 1, 0), np.nan\n",
    ")\n"
   ]
  },
  {
   "cell_type": "code",
   "execution_count": 12,
   "metadata": {},
   "outputs": [
    {
     "data": {
      "text/plain": [
       "0.0    51241\n",
       "1.0    16846\n",
       "Name: temp, dtype: int64"
      ]
     },
     "execution_count": 12,
     "metadata": {},
     "output_type": "execute_result"
    }
   ],
   "source": [
    "share[\"temp\"].value_counts()\n"
   ]
  },
  {
   "cell_type": "code",
   "execution_count": 13,
   "metadata": {},
   "outputs": [],
   "source": [
    "share[\"stayshealthy\"] = share.groupby(\"mergeid\")[\"temp\"].transform(np.nanmax)\n"
   ]
  },
  {
   "cell_type": "code",
   "execution_count": 14,
   "metadata": {},
   "outputs": [
    {
     "data": {
      "text/plain": [
       "0.0    148453\n",
       "1.0     46718\n",
       "Name: stayshealthy, dtype: int64"
      ]
     },
     "execution_count": 14,
     "metadata": {},
     "output_type": "execute_result"
    }
   ],
   "source": [
    "share[\"stayshealthy\"].value_counts()\n"
   ]
  },
  {
   "cell_type": "code",
   "execution_count": 15,
   "metadata": {},
   "outputs": [],
   "source": [
    "share = share.drop(\"temp\", axis=1)\n"
   ]
  },
  {
   "cell_type": "code",
   "execution_count": 16,
   "metadata": {},
   "outputs": [],
   "source": [
    "# keep if endline health outcome non-missing\n",
    "share = share.loc[lambda x: (x[\"stayshealthy\"] == 1) | (x[\"stayshealthy\"] == 0)]\n"
   ]
  },
  {
   "cell_type": "code",
   "execution_count": 17,
   "metadata": {},
   "outputs": [],
   "source": [
    "# keep baseline observations (endline outcome already defined for them)\n",
    "share = share.loc[lambda x: x[\"baseline\"] == 1]\n"
   ]
  },
  {
   "cell_type": "code",
   "execution_count": 18,
   "metadata": {},
   "outputs": [],
   "source": [
    "# keep age 50-60 at baseline\n",
    "share = share.loc[lambda x: (x[\"age\"] >= 50) & (x[\"age\"] <= 60)]\n"
   ]
  },
  {
   "cell_type": "code",
   "execution_count": 19,
   "metadata": {},
   "outputs": [],
   "source": [
    "# keep healthy individuals at baseline\n",
    "share = share.loc[lambda x: x[\"healthy\"] == 1]\n"
   ]
  },
  {
   "cell_type": "code",
   "execution_count": 20,
   "metadata": {},
   "outputs": [],
   "source": [
    "# keep those with non-missing observations for smoking at baseline\n",
    "# and re-define smoking to be 0-1\n",
    "share.loc[lambda x: x[\"smoking\"] == 5, \"smoking\"] = 0\n",
    "share = share.loc[lambda x: (x[\"smoking\"] == 0) | (x[\"smoking\"] == 1)]\n",
    "\n",
    "share.loc[lambda x: x[\"ever_smoked\"] == 5, \"ever_smoked\"] = 0\n",
    "share = share.loc[lambda x: (x[\"ever_smoked\"] == 0) | (x[\"ever_smoked\"] == 1)]\n"
   ]
  },
  {
   "cell_type": "code",
   "execution_count": 21,
   "metadata": {},
   "outputs": [
    {
     "data": {
      "text/plain": [
       "1.0    1702\n",
       "0.0    1569\n",
       "Name: exerc, dtype: int64"
      ]
     },
     "execution_count": 21,
     "metadata": {},
     "output_type": "execute_result"
    }
   ],
   "source": [
    "share[\"exerc\"] = np.where(\n",
    "    share[\"br015\"] == 1,\n",
    "    1,\n",
    "    np.where((share[\"br015\"] > 0) & (share[\"br015\"] != 1), 0, np.nan),\n",
    ")\n",
    "share[\"exerc\"].value_counts()\n"
   ]
  },
  {
   "cell_type": "code",
   "execution_count": 22,
   "metadata": {},
   "outputs": [
    {
     "data": {
      "text/plain": [
       "count    3197.00\n",
       "mean       25.54\n",
       "std         3.90\n",
       "min        16.33\n",
       "25%        22.84\n",
       "50%        25.10\n",
       "75%        27.77\n",
       "max        45.63\n",
       "Name: bmi, dtype: float64"
      ]
     },
     "execution_count": 22,
     "metadata": {},
     "output_type": "execute_result"
    }
   ],
   "source": [
    "share[\"bmi\"] = np.where(share[\"bmi\"] < 0, np.nan, share[\"bmi\"])\n",
    "\n",
    "share[\"bmi\"].describe().round(2)\n"
   ]
  },
  {
   "cell_type": "code",
   "execution_count": 23,
   "metadata": {},
   "outputs": [],
   "source": [
    "share = share.rename(columns={\"income_pct_w4\": \"income10\"})\n"
   ]
  },
  {
   "cell_type": "code",
   "execution_count": 24,
   "metadata": {},
   "outputs": [],
   "source": [
    "share[\"married\"] = np.where((share[\"mar_stat\"] == 1) | (share[\"mar_stat\"] == 2), 1, 0)\n"
   ]
  },
  {
   "cell_type": "code",
   "execution_count": 25,
   "metadata": {},
   "outputs": [
    {
     "data": {
      "text/plain": [
       "count    3184.00\n",
       "mean       12.31\n",
       "std         4.57\n",
       "min         0.00\n",
       "25%        10.00\n",
       "50%        12.00\n",
       "75%        16.00\n",
       "max        25.00\n",
       "Name: eduyears, dtype: float64"
      ]
     },
     "execution_count": 25,
     "metadata": {},
     "output_type": "execute_result"
    }
   ],
   "source": [
    "share[\"eduyears\"] = np.where(share[\"eduyears_mod\"] < 0, np.nan, share[\"eduyears_mod\"])\n",
    "\n",
    "share[\"eduyears\"].describe().round(2)\n"
   ]
  },
  {
   "cell_type": "code",
   "execution_count": 26,
   "metadata": {},
   "outputs": [],
   "source": [
    "share = share.drop(\"eduyears_mod\", axis=1)\n"
   ]
  },
  {
   "cell_type": "code",
   "execution_count": 27,
   "metadata": {},
   "outputs": [],
   "source": [
    "share = share.loc[\n",
    "    lambda x: (x[\"bmi\"].notnull()) & (x[\"eduyears\"].notnull()) & (x[\"exerc\"].notnull())\n",
    "]\n"
   ]
  },
  {
   "cell_type": "code",
   "execution_count": 28,
   "metadata": {
    "scrolled": true
   },
   "outputs": [
    {
     "data": {
      "text/html": [
       "<div>\n",
       "<style scoped>\n",
       "    .dataframe tbody tr th:only-of-type {\n",
       "        vertical-align: middle;\n",
       "    }\n",
       "\n",
       "    .dataframe tbody tr th {\n",
       "        vertical-align: top;\n",
       "    }\n",
       "\n",
       "    .dataframe thead th {\n",
       "        text-align: right;\n",
       "    }\n",
       "</style>\n",
       "<table border=\"1\" class=\"dataframe\">\n",
       "  <thead>\n",
       "    <tr style=\"text-align: right;\">\n",
       "      <th></th>\n",
       "      <th>stayshealthy</th>\n",
       "      <th>smoking</th>\n",
       "      <th>ever_smoked</th>\n",
       "      <th>female</th>\n",
       "      <th>age</th>\n",
       "      <th>income10</th>\n",
       "      <th>eduyears</th>\n",
       "      <th>bmi</th>\n",
       "      <th>exerc</th>\n",
       "    </tr>\n",
       "  </thead>\n",
       "  <tbody>\n",
       "    <tr>\n",
       "      <th>count</th>\n",
       "      <td>3109.00</td>\n",
       "      <td>3109.00</td>\n",
       "      <td>3109.00</td>\n",
       "      <td>3109.00</td>\n",
       "      <td>3109.00</td>\n",
       "      <td>3109.00</td>\n",
       "      <td>3109.00</td>\n",
       "      <td>3109.00</td>\n",
       "      <td>3109.00</td>\n",
       "    </tr>\n",
       "    <tr>\n",
       "      <th>mean</th>\n",
       "      <td>0.60</td>\n",
       "      <td>0.22</td>\n",
       "      <td>0.49</td>\n",
       "      <td>0.56</td>\n",
       "      <td>55.19</td>\n",
       "      <td>6.79</td>\n",
       "      <td>12.33</td>\n",
       "      <td>25.53</td>\n",
       "      <td>0.52</td>\n",
       "    </tr>\n",
       "    <tr>\n",
       "      <th>std</th>\n",
       "      <td>0.49</td>\n",
       "      <td>0.42</td>\n",
       "      <td>0.50</td>\n",
       "      <td>0.50</td>\n",
       "      <td>2.79</td>\n",
       "      <td>2.75</td>\n",
       "      <td>4.56</td>\n",
       "      <td>3.91</td>\n",
       "      <td>0.50</td>\n",
       "    </tr>\n",
       "    <tr>\n",
       "      <th>min</th>\n",
       "      <td>0.00</td>\n",
       "      <td>0.00</td>\n",
       "      <td>0.00</td>\n",
       "      <td>0.00</td>\n",
       "      <td>50.00</td>\n",
       "      <td>1.00</td>\n",
       "      <td>0.00</td>\n",
       "      <td>16.33</td>\n",
       "      <td>0.00</td>\n",
       "    </tr>\n",
       "    <tr>\n",
       "      <th>25%</th>\n",
       "      <td>0.00</td>\n",
       "      <td>0.00</td>\n",
       "      <td>0.00</td>\n",
       "      <td>0.00</td>\n",
       "      <td>52.80</td>\n",
       "      <td>5.00</td>\n",
       "      <td>10.00</td>\n",
       "      <td>22.84</td>\n",
       "      <td>0.00</td>\n",
       "    </tr>\n",
       "    <tr>\n",
       "      <th>50%</th>\n",
       "      <td>1.00</td>\n",
       "      <td>0.00</td>\n",
       "      <td>0.00</td>\n",
       "      <td>1.00</td>\n",
       "      <td>55.30</td>\n",
       "      <td>7.00</td>\n",
       "      <td>13.00</td>\n",
       "      <td>25.10</td>\n",
       "      <td>1.00</td>\n",
       "    </tr>\n",
       "    <tr>\n",
       "      <th>75%</th>\n",
       "      <td>1.00</td>\n",
       "      <td>0.00</td>\n",
       "      <td>1.00</td>\n",
       "      <td>1.00</td>\n",
       "      <td>57.50</td>\n",
       "      <td>9.00</td>\n",
       "      <td>16.00</td>\n",
       "      <td>27.77</td>\n",
       "      <td>1.00</td>\n",
       "    </tr>\n",
       "    <tr>\n",
       "      <th>max</th>\n",
       "      <td>1.00</td>\n",
       "      <td>1.00</td>\n",
       "      <td>1.00</td>\n",
       "      <td>1.00</td>\n",
       "      <td>60.00</td>\n",
       "      <td>10.00</td>\n",
       "      <td>25.00</td>\n",
       "      <td>45.63</td>\n",
       "      <td>1.00</td>\n",
       "    </tr>\n",
       "  </tbody>\n",
       "</table>\n",
       "</div>"
      ],
      "text/plain": [
       "       stayshealthy  smoking  ever_smoked   female      age  income10  \\\n",
       "count       3109.00  3109.00      3109.00  3109.00  3109.00   3109.00   \n",
       "mean           0.60     0.22         0.49     0.56    55.19      6.79   \n",
       "std            0.49     0.42         0.50     0.50     2.79      2.75   \n",
       "min            0.00     0.00         0.00     0.00    50.00      1.00   \n",
       "25%            0.00     0.00         0.00     0.00    52.80      5.00   \n",
       "50%            1.00     0.00         0.00     1.00    55.30      7.00   \n",
       "75%            1.00     0.00         1.00     1.00    57.50      9.00   \n",
       "max            1.00     1.00         1.00     1.00    60.00     10.00   \n",
       "\n",
       "       eduyears      bmi    exerc  \n",
       "count   3109.00  3109.00  3109.00  \n",
       "mean      12.33    25.53     0.52  \n",
       "std        4.56     3.91     0.50  \n",
       "min        0.00    16.33     0.00  \n",
       "25%       10.00    22.84     0.00  \n",
       "50%       13.00    25.10     1.00  \n",
       "75%       16.00    27.77     1.00  \n",
       "max       25.00    45.63     1.00  "
      ]
     },
     "execution_count": 28,
     "metadata": {},
     "output_type": "execute_result"
    }
   ],
   "source": [
    "share.filter(\n",
    "    [\n",
    "        \"stayshealthy\",\n",
    "        \"smoking\",\n",
    "        \"ever_smoked\",\n",
    "        \"female\",\n",
    "        \"age\",\n",
    "        \"income10\",\n",
    "        \"eduyears\",\n",
    "        \"bmi\",\n",
    "        \"exerc\",\n",
    "    ]\n",
    ").describe().round(2)\n"
   ]
  },
  {
   "cell_type": "code",
   "execution_count": 29,
   "metadata": {},
   "outputs": [
    {
     "data": {
      "text/html": [
       "<div>\n",
       "<style scoped>\n",
       "    .dataframe tbody tr th:only-of-type {\n",
       "        vertical-align: middle;\n",
       "    }\n",
       "\n",
       "    .dataframe tbody tr th {\n",
       "        vertical-align: top;\n",
       "    }\n",
       "\n",
       "    .dataframe thead th {\n",
       "        text-align: right;\n",
       "    }\n",
       "</style>\n",
       "<table border=\"1\" class=\"dataframe\">\n",
       "  <thead>\n",
       "    <tr style=\"text-align: right;\">\n",
       "      <th>stayshealthy</th>\n",
       "      <th>0.0</th>\n",
       "      <th>1.0</th>\n",
       "    </tr>\n",
       "    <tr>\n",
       "      <th>country</th>\n",
       "      <th></th>\n",
       "      <th></th>\n",
       "    </tr>\n",
       "  </thead>\n",
       "  <tbody>\n",
       "    <tr>\n",
       "      <th>11</th>\n",
       "      <td>118</td>\n",
       "      <td>254</td>\n",
       "    </tr>\n",
       "    <tr>\n",
       "      <th>12</th>\n",
       "      <td>21</td>\n",
       "      <td>24</td>\n",
       "    </tr>\n",
       "    <tr>\n",
       "      <th>13</th>\n",
       "      <td>25</td>\n",
       "      <td>55</td>\n",
       "    </tr>\n",
       "    <tr>\n",
       "      <th>15</th>\n",
       "      <td>82</td>\n",
       "      <td>92</td>\n",
       "    </tr>\n",
       "    <tr>\n",
       "      <th>16</th>\n",
       "      <td>123</td>\n",
       "      <td>86</td>\n",
       "    </tr>\n",
       "    <tr>\n",
       "      <th>17</th>\n",
       "      <td>135</td>\n",
       "      <td>166</td>\n",
       "    </tr>\n",
       "    <tr>\n",
       "      <th>18</th>\n",
       "      <td>73</td>\n",
       "      <td>322</td>\n",
       "    </tr>\n",
       "    <tr>\n",
       "      <th>20</th>\n",
       "      <td>131</td>\n",
       "      <td>309</td>\n",
       "    </tr>\n",
       "    <tr>\n",
       "      <th>23</th>\n",
       "      <td>173</td>\n",
       "      <td>265</td>\n",
       "    </tr>\n",
       "    <tr>\n",
       "      <th>28</th>\n",
       "      <td>118</td>\n",
       "      <td>143</td>\n",
       "    </tr>\n",
       "    <tr>\n",
       "      <th>29</th>\n",
       "      <td>23</td>\n",
       "      <td>11</td>\n",
       "    </tr>\n",
       "    <tr>\n",
       "      <th>33</th>\n",
       "      <td>45</td>\n",
       "      <td>19</td>\n",
       "    </tr>\n",
       "    <tr>\n",
       "      <th>34</th>\n",
       "      <td>76</td>\n",
       "      <td>74</td>\n",
       "    </tr>\n",
       "    <tr>\n",
       "      <th>35</th>\n",
       "      <td>86</td>\n",
       "      <td>60</td>\n",
       "    </tr>\n",
       "  </tbody>\n",
       "</table>\n",
       "</div>"
      ],
      "text/plain": [
       "stayshealthy  0.0  1.0\n",
       "country               \n",
       "11            118  254\n",
       "12             21   24\n",
       "13             25   55\n",
       "15             82   92\n",
       "16            123   86\n",
       "17            135  166\n",
       "18             73  322\n",
       "20            131  309\n",
       "23            173  265\n",
       "28            118  143\n",
       "29             23   11\n",
       "33             45   19\n",
       "34             76   74\n",
       "35             86   60"
      ]
     },
     "execution_count": 29,
     "metadata": {},
     "output_type": "execute_result"
    }
   ],
   "source": [
    "pd.crosstab(share[\"country\"], share[\"stayshealthy\"])\n"
   ]
  },
  {
   "cell_type": "code",
   "execution_count": 30,
   "metadata": {},
   "outputs": [],
   "source": [
    "share.reset_index(drop=True).to_csv(\"ch11_share.csv\")\n"
   ]
  },
  {
   "cell_type": "markdown",
   "metadata": {},
   "source": [
    "#  2. PART - SIMPLE LPM MODELS"
   ]
  },
  {
   "cell_type": "code",
   "execution_count": 31,
   "metadata": {},
   "outputs": [],
   "source": [
    "share = pd.read_csv(\"ch11_share.csv\", index_col=0)\n"
   ]
  },
  {
   "cell_type": "code",
   "execution_count": 32,
   "metadata": {},
   "outputs": [
    {
     "data": {
      "text/html": [
       "<div>\n",
       "<style scoped>\n",
       "    .dataframe tbody tr th:only-of-type {\n",
       "        vertical-align: middle;\n",
       "    }\n",
       "\n",
       "    .dataframe tbody tr th {\n",
       "        vertical-align: top;\n",
       "    }\n",
       "\n",
       "    .dataframe thead th {\n",
       "        text-align: right;\n",
       "    }\n",
       "</style>\n",
       "<table border=\"1\" class=\"dataframe\">\n",
       "  <thead>\n",
       "    <tr style=\"text-align: right;\">\n",
       "      <th></th>\n",
       "      <th>mergeid</th>\n",
       "      <th>wave</th>\n",
       "      <th>country</th>\n",
       "      <th>country_mod</th>\n",
       "      <th>int_year</th>\n",
       "      <th>int_month</th>\n",
       "      <th>female</th>\n",
       "      <th>age</th>\n",
       "      <th>sphus</th>\n",
       "      <th>br015</th>\n",
       "      <th>...</th>\n",
       "      <th>income10</th>\n",
       "      <th>bmi</th>\n",
       "      <th>mar_stat</th>\n",
       "      <th>healthy</th>\n",
       "      <th>baseline</th>\n",
       "      <th>endline</th>\n",
       "      <th>stayshealthy</th>\n",
       "      <th>exerc</th>\n",
       "      <th>married</th>\n",
       "      <th>eduyears</th>\n",
       "    </tr>\n",
       "  </thead>\n",
       "  <tbody>\n",
       "    <tr>\n",
       "      <th>0</th>\n",
       "      <td>AT-001492-02</td>\n",
       "      <td>4</td>\n",
       "      <td>11</td>\n",
       "      <td>40</td>\n",
       "      <td>2011</td>\n",
       "      <td>9</td>\n",
       "      <td>0</td>\n",
       "      <td>59.799999</td>\n",
       "      <td>2</td>\n",
       "      <td>3</td>\n",
       "      <td>...</td>\n",
       "      <td>8</td>\n",
       "      <td>23.198315</td>\n",
       "      <td>1</td>\n",
       "      <td>1.0</td>\n",
       "      <td>1</td>\n",
       "      <td>0</td>\n",
       "      <td>1.0</td>\n",
       "      <td>0.0</td>\n",
       "      <td>1</td>\n",
       "      <td>13.0</td>\n",
       "    </tr>\n",
       "    <tr>\n",
       "      <th>1</th>\n",
       "      <td>AT-002136-03</td>\n",
       "      <td>4</td>\n",
       "      <td>11</td>\n",
       "      <td>40</td>\n",
       "      <td>2011</td>\n",
       "      <td>8</td>\n",
       "      <td>1</td>\n",
       "      <td>58.200001</td>\n",
       "      <td>1</td>\n",
       "      <td>2</td>\n",
       "      <td>...</td>\n",
       "      <td>9</td>\n",
       "      <td>24.801588</td>\n",
       "      <td>1</td>\n",
       "      <td>1.0</td>\n",
       "      <td>1</td>\n",
       "      <td>0</td>\n",
       "      <td>1.0</td>\n",
       "      <td>0.0</td>\n",
       "      <td>1</td>\n",
       "      <td>14.0</td>\n",
       "    </tr>\n",
       "    <tr>\n",
       "      <th>2</th>\n",
       "      <td>AT-002800-01</td>\n",
       "      <td>4</td>\n",
       "      <td>11</td>\n",
       "      <td>40</td>\n",
       "      <td>2011</td>\n",
       "      <td>9</td>\n",
       "      <td>1</td>\n",
       "      <td>57.000000</td>\n",
       "      <td>2</td>\n",
       "      <td>4</td>\n",
       "      <td>...</td>\n",
       "      <td>3</td>\n",
       "      <td>22.038567</td>\n",
       "      <td>3</td>\n",
       "      <td>1.0</td>\n",
       "      <td>1</td>\n",
       "      <td>0</td>\n",
       "      <td>1.0</td>\n",
       "      <td>0.0</td>\n",
       "      <td>0</td>\n",
       "      <td>23.0</td>\n",
       "    </tr>\n",
       "    <tr>\n",
       "      <th>3</th>\n",
       "      <td>AT-009262-02</td>\n",
       "      <td>4</td>\n",
       "      <td>11</td>\n",
       "      <td>40</td>\n",
       "      <td>2011</td>\n",
       "      <td>12</td>\n",
       "      <td>0</td>\n",
       "      <td>59.299999</td>\n",
       "      <td>2</td>\n",
       "      <td>1</td>\n",
       "      <td>...</td>\n",
       "      <td>6</td>\n",
       "      <td>25.826447</td>\n",
       "      <td>1</td>\n",
       "      <td>1.0</td>\n",
       "      <td>1</td>\n",
       "      <td>0</td>\n",
       "      <td>0.0</td>\n",
       "      <td>1.0</td>\n",
       "      <td>1</td>\n",
       "      <td>12.0</td>\n",
       "    </tr>\n",
       "    <tr>\n",
       "      <th>4</th>\n",
       "      <td>AT-009376-01</td>\n",
       "      <td>4</td>\n",
       "      <td>11</td>\n",
       "      <td>40</td>\n",
       "      <td>2011</td>\n",
       "      <td>9</td>\n",
       "      <td>0</td>\n",
       "      <td>53.299999</td>\n",
       "      <td>2</td>\n",
       "      <td>1</td>\n",
       "      <td>...</td>\n",
       "      <td>8</td>\n",
       "      <td>26.827421</td>\n",
       "      <td>1</td>\n",
       "      <td>1.0</td>\n",
       "      <td>1</td>\n",
       "      <td>0</td>\n",
       "      <td>0.0</td>\n",
       "      <td>1.0</td>\n",
       "      <td>1</td>\n",
       "      <td>3.0</td>\n",
       "    </tr>\n",
       "  </tbody>\n",
       "</table>\n",
       "<p>5 rows × 22 columns</p>\n",
       "</div>"
      ],
      "text/plain": [
       "        mergeid  wave  country  country_mod  int_year  int_month  female  \\\n",
       "0  AT-001492-02     4       11           40      2011          9       0   \n",
       "1  AT-002136-03     4       11           40      2011          8       1   \n",
       "2  AT-002800-01     4       11           40      2011          9       1   \n",
       "3  AT-009262-02     4       11           40      2011         12       0   \n",
       "4  AT-009376-01     4       11           40      2011          9       0   \n",
       "\n",
       "         age  sphus  br015  ...  income10        bmi  mar_stat  healthy  \\\n",
       "0  59.799999      2      3  ...         8  23.198315         1      1.0   \n",
       "1  58.200001      1      2  ...         9  24.801588         1      1.0   \n",
       "2  57.000000      2      4  ...         3  22.038567         3      1.0   \n",
       "3  59.299999      2      1  ...         6  25.826447         1      1.0   \n",
       "4  53.299999      2      1  ...         8  26.827421         1      1.0   \n",
       "\n",
       "   baseline  endline  stayshealthy  exerc  married  eduyears  \n",
       "0         1        0           1.0    0.0        1      13.0  \n",
       "1         1        0           1.0    0.0        1      14.0  \n",
       "2         1        0           1.0    0.0        0      23.0  \n",
       "3         1        0           0.0    1.0        1      12.0  \n",
       "4         1        0           0.0    1.0        1       3.0  \n",
       "\n",
       "[5 rows x 22 columns]"
      ]
     },
     "execution_count": 32,
     "metadata": {},
     "output_type": "execute_result"
    }
   ],
   "source": [
    "share.head()\n"
   ]
  },
  {
   "cell_type": "code",
   "execution_count": 33,
   "metadata": {},
   "outputs": [],
   "source": [
    "lpm1 = smf.ols(\"stayshealthy ~ smoking\", data=share).fit(cov_type=\"HC1\")\n"
   ]
  },
  {
   "cell_type": "code",
   "execution_count": 34,
   "metadata": {},
   "outputs": [],
   "source": [
    "lpm2 = smf.ols(\"stayshealthy ~ smoking + ever_smoked\", data=share).fit(covtype=\"HC1\")\n"
   ]
  },
  {
   "cell_type": "markdown",
   "metadata": {},
   "source": [
    "### Table 11.1 Probability of staying healthy"
   ]
  },
  {
   "cell_type": "code",
   "execution_count": 35,
   "metadata": {},
   "outputs": [
    {
     "data": {
      "text/html": [
       "<table style=\"text-align:center\"><tr><td colspan=\"3\" style=\"border-bottom: 1px solid black\"></td></tr><tr><td style=\"text-align:left\"></td><td colspan=\"2\"><em>Dependent variable:stayshealthy</em></td></tr><tr><td style=\"text-align:left\"></td><tr><td style=\"text-align:left\"></td><td>(1)</td><td>(2)</td></tr><tr><td colspan=\"3\" style=\"border-bottom: 1px solid black\"></td></tr><tr><td style=\"text-align:left\">smoking</td><td>-0.070<sup>***</sup></td><td>-0.079<sup>***</sup></td></tr><tr><td style=\"text-align:left\"></td><td>(0.021)</td><td>(0.024)</td></tr><tr><td style=\"text-align:left\">ever_smoked</td><td></td><td>0.014<sup></sup></td></tr><tr><td style=\"text-align:left\"></td><td></td><td>(0.020)</td></tr><tr><td style=\"text-align:left\">Constant</td><td>0.620<sup>***</sup></td><td>0.615<sup>***</sup></td></tr><tr><td style=\"text-align:left\"></td><td>(0.010)</td><td>(0.012)</td></tr><td colspan=\"3\" style=\"border-bottom: 1px solid black\"></td></tr><tr><td style=\"text-align: left\">Observations</td><td>3,109</td><td>3,109</td></tr><tr><td style=\"text-align: left\">R<sup>2</sup></td><td>0.004</td><td>0.004</td></tr><tr><td style=\"text-align: left\">Adjusted R<sup>2</sup></td><td>0.003</td><td>0.003</td></tr><tr><td style=\"text-align: left\">Residual Std. Error</td><td>0.488 (df=3107)</td><td>0.488 (df=3106)</td></tr><tr><td style=\"text-align: left\">F Statistic</td><td>10.838<sup>***</sup> (df=1; 3107)</td><td>5.805<sup>***</sup> (df=2; 3106)</td></tr><tr><td colspan=\"3\" style=\"border-bottom: 1px solid black\"></td></tr><tr><td style=\"text-align: left\">Note:</td>\n",
       " <td colspan=\"2\" style=\"text-align: right\">\n",
       "  <sup>*</sup>p&lt;0.1;\n",
       "  <sup>**</sup>p&lt;0.05;\n",
       "  <sup>***</sup>p&lt;0.01\n",
       " </td></tr></table>"
      ],
      "text/plain": [
       "<stargazer.stargazer.Stargazer at 0x7f7a899ec8d0>"
      ]
     },
     "execution_count": 35,
     "metadata": {},
     "output_type": "execute_result"
    }
   ],
   "source": [
    "stargazer = Stargazer([lpm1, lpm2])\n",
    "stargazer.covariate_order([\"smoking\", \"ever_smoked\", \"Intercept\"])\n",
    "stargazer.rename_covariates({\"Intercept\": \"Constant\"})\n",
    "stargazer\n"
   ]
  },
  {
   "cell_type": "code",
   "execution_count": 36,
   "metadata": {},
   "outputs": [
    {
     "data": {
      "text/html": [
       "<div>\n",
       "<style scoped>\n",
       "    .dataframe tbody tr th:only-of-type {\n",
       "        vertical-align: middle;\n",
       "    }\n",
       "\n",
       "    .dataframe tbody tr th {\n",
       "        vertical-align: top;\n",
       "    }\n",
       "\n",
       "    .dataframe thead th {\n",
       "        text-align: right;\n",
       "    }\n",
       "</style>\n",
       "<table border=\"1\" class=\"dataframe\">\n",
       "  <thead>\n",
       "    <tr style=\"text-align: right;\">\n",
       "      <th>smoking</th>\n",
       "      <th>0</th>\n",
       "      <th>1</th>\n",
       "    </tr>\n",
       "    <tr>\n",
       "      <th>pred1</th>\n",
       "      <th></th>\n",
       "      <th></th>\n",
       "    </tr>\n",
       "  </thead>\n",
       "  <tbody>\n",
       "    <tr>\n",
       "      <th>0.550287</th>\n",
       "      <td>0</td>\n",
       "      <td>696</td>\n",
       "    </tr>\n",
       "    <tr>\n",
       "      <th>0.620390</th>\n",
       "      <td>2413</td>\n",
       "      <td>0</td>\n",
       "    </tr>\n",
       "  </tbody>\n",
       "</table>\n",
       "</div>"
      ],
      "text/plain": [
       "smoking      0    1\n",
       "pred1              \n",
       "0.550287     0  696\n",
       "0.620390  2413    0"
      ]
     },
     "execution_count": 36,
     "metadata": {},
     "output_type": "execute_result"
    }
   ],
   "source": [
    "share[\"pred1\"] = lpm1.predict()\n",
    "\n",
    "pd.crosstab(index=share[\"pred1\"], columns=share[\"smoking\"])\n"
   ]
  },
  {
   "cell_type": "code",
   "execution_count": 37,
   "metadata": {},
   "outputs": [
    {
     "data": {
      "text/html": [
       "<div>\n",
       "<style scoped>\n",
       "    .dataframe tbody tr th:only-of-type {\n",
       "        vertical-align: middle;\n",
       "    }\n",
       "\n",
       "    .dataframe tbody tr th {\n",
       "        vertical-align: top;\n",
       "    }\n",
       "\n",
       "    .dataframe thead th {\n",
       "        text-align: right;\n",
       "    }\n",
       "</style>\n",
       "<table border=\"1\" class=\"dataframe\">\n",
       "  <thead>\n",
       "    <tr style=\"text-align: right;\">\n",
       "      <th>smoking</th>\n",
       "      <th>0</th>\n",
       "      <th>1</th>\n",
       "    </tr>\n",
       "    <tr>\n",
       "      <th>stayshealthy</th>\n",
       "      <th></th>\n",
       "      <th></th>\n",
       "    </tr>\n",
       "  </thead>\n",
       "  <tbody>\n",
       "    <tr>\n",
       "      <th>0.0</th>\n",
       "      <td>916</td>\n",
       "      <td>313</td>\n",
       "    </tr>\n",
       "    <tr>\n",
       "      <th>1.0</th>\n",
       "      <td>1497</td>\n",
       "      <td>383</td>\n",
       "    </tr>\n",
       "  </tbody>\n",
       "</table>\n",
       "</div>"
      ],
      "text/plain": [
       "smoking          0    1\n",
       "stayshealthy           \n",
       "0.0            916  313\n",
       "1.0           1497  383"
      ]
     },
     "execution_count": 37,
     "metadata": {},
     "output_type": "execute_result"
    }
   ],
   "source": [
    "pd.crosstab(index=share[\"stayshealthy\"], columns=share[\"smoking\"])\n"
   ]
  },
  {
   "cell_type": "code",
   "execution_count": 38,
   "metadata": {},
   "outputs": [],
   "source": [
    "share[\"weight\"] = share.groupby([\"smoking\", \"stayshealthy\"])[\"smoking\"].transform(len)\n",
    "share[\"weight_2\"] = share[\"weight\"] / 1000\n"
   ]
  },
  {
   "cell_type": "markdown",
   "metadata": {},
   "source": [
    "### Figure 11.1 Staying healthy and smoking – scatterplot and regression line"
   ]
  },
  {
   "cell_type": "code",
   "execution_count": 39,
   "metadata": {},
   "outputs": [
    {
     "data": {
      "image/png": "[encoded data removed]",
      "text/plain": [
       "<Figure size 640x480 with 1 Axes>"
      ]
     },
     "metadata": {},
     "output_type": "display_data"
    },
    {
     "data": {
      "text/plain": [
       "<ggplot: (8760266954417)>"
      ]
     },
     "execution_count": 39,
     "metadata": {},
     "output_type": "execute_result"
    }
   ],
   "source": [
    "g1 = (\n",
    "    ggplot(data=share)\n",
    "    + geom_point(aes(x=\"smoking\", y=\"pred1\"), size=1, color=color[0])\n",
    "    + geom_line(aes(x=\"smoking\", y=\"pred1\"), colour=color[0], size=0.7)\n",
    "    + geom_point(\n",
    "        aes(x=\"smoking\", y=\"stayshealthy\", size=\"weight_2\"),\n",
    "        fill=color[1],\n",
    "        color=color[1],\n",
    "        alpha=0.8,\n",
    "        show_legend=False,\n",
    "    )\n",
    "    + labs(x=\"Current smoker\", y=\"Staying healthy / Predicted probability of \")\n",
    "    + coord_cartesian(xlim=[0, 1], ylim=[0, 1])\n",
    "    + scale_y_continuous(limits=[0, 1], breaks=seq(0, 1, 0.1))\n",
    "    + scale_x_continuous(limits=[0, 1], breaks=seq(0, 1, 1))\n",
    "    + theme_bw()\n",
    ")\n",
    "g1"
   ]
  },
  {
   "cell_type": "code",
   "execution_count": 40,
   "metadata": {},
   "outputs": [],
   "source": [
    "share[\"weight\"] = (\n",
    "    share.groupby([\"eduyears\", \"stayshealthy\"])[\"smoking\"].transform(len) / 100\n",
    ")\n"
   ]
  },
  {
   "cell_type": "markdown",
   "metadata": {},
   "source": [
    "### Figure 11.2 Education, income, and the probability of staying healthy – non-parametric regressions"
   ]
  },
  {
   "cell_type": "markdown",
   "metadata": {},
   "source": [
    "(a) Staying healthy and years of education"
   ]
  },
  {
   "cell_type": "code",
   "execution_count": 41,
   "metadata": {},
   "outputs": [
    {
     "data": {
      "image/png": "[encoded data removed]",
      "text/plain": [
       "<Figure size 640x480 with 1 Axes>"
      ]
     },
     "metadata": {},
     "output_type": "display_data"
    },
    {
     "data": {
      "text/plain": [
       "<ggplot: (8760303821537)>"
      ]
     },
     "execution_count": 41,
     "metadata": {},
     "output_type": "execute_result"
    }
   ],
   "source": [
    "g2 = (\n",
    "    ggplot(data=share)\n",
    "    + geom_smooth(\n",
    "        aes(x=\"eduyears\", y=\"stayshealthy\"), method=\"loess\", se=False, color=color[0]\n",
    "    )\n",
    "    + labs(x=\"Years of education\", y=\"Probability of staying healthy \")\n",
    "    # + coord_cartesian(xlim = [0, 1], ylim=[0,1])\n",
    "    + scale_x_continuous(expand=[0.01, 0.01], limits=[0, 24], breaks=seq(0, 24, 4))\n",
    "    + scale_y_continuous(expand=[0.01, 0.01], limits=[0, 1], breaks=seq(0, 1, 0.1))\n",
    "    + theme_bw()\n",
    ")\n",
    "g2\n"
   ]
  },
  {
   "cell_type": "markdown",
   "metadata": {},
   "source": [
    "(b) Staying healthy and income group"
   ]
  },
  {
   "cell_type": "code",
   "execution_count": 42,
   "metadata": {},
   "outputs": [
    {
     "data": {
      "image/png": "[encoded data removed]",
      "text/plain": [
       "<Figure size 640x480 with 1 Axes>"
      ]
     },
     "metadata": {},
     "output_type": "display_data"
    },
    {
     "data": {
      "text/plain": [
       "<ggplot: (8760303505657)>"
      ]
     },
     "execution_count": 42,
     "metadata": {},
     "output_type": "execute_result"
    }
   ],
   "source": [
    "g2b = (\n",
    "    ggplot(data=share)\n",
    "    + geom_smooth(\n",
    "        aes(x=\"income10\", y=\"stayshealthy\"), method=\"loess\", se=False, color=color[0]\n",
    "    )\n",
    "    + labs(\n",
    "        x=\"Income group within country (deciles)\", y=\"Probability of staying healthy \"\n",
    "    )\n",
    "    + scale_x_continuous(expand=[0.01, 0.01], limits=[1, 10], breaks=seq(0, 10, 2))\n",
    "    + scale_y_continuous(expand=[0.01, 0.01], limits=[0, 1], breaks=seq(0, 1, 0.1))\n",
    "    + theme_bw()\n",
    ")\n",
    "g2b\n"
   ]
  },
  {
   "cell_type": "markdown",
   "metadata": {},
   "source": [
    "Not in the book"
   ]
  },
  {
   "cell_type": "code",
   "execution_count": 43,
   "metadata": {},
   "outputs": [
    {
     "data": {
      "image/png": "[encoded data removed]",
      "text/plain": [
       "<Figure size 640x480 with 1 Axes>"
      ]
     },
     "metadata": {},
     "output_type": "display_data"
    },
    {
     "data": {
      "text/plain": [
       "<ggplot: (8760303827481)>"
      ]
     },
     "execution_count": 43,
     "metadata": {},
     "output_type": "execute_result"
    }
   ],
   "source": [
    "g2c = (\n",
    "    ggplot(data=share)\n",
    "    + geom_smooth(\n",
    "        aes(x=\"age\", y=\"stayshealthy\"), method=\"loess\", se=False, color=color[0]\n",
    "    )\n",
    "    + scale_y_continuous(\n",
    "        expand=[0.01, 0.01],\n",
    "        limits=[0, 1],\n",
    "        breaks=seq(0, 1, 0.2),\n",
    "        labels=percent_format(),\n",
    "    )\n",
    "    + labs(x=\"Age at interview (years)\", y=\"Probability of staying healthy\")\n",
    "    + theme_bw()\n",
    ")\n",
    "g2c\n"
   ]
  },
  {
   "cell_type": "markdown",
   "metadata": {},
   "source": [
    "Not in the book"
   ]
  },
  {
   "cell_type": "code",
   "execution_count": 44,
   "metadata": {},
   "outputs": [
    {
     "data": {
      "image/png": "[encoded data removed]",
      "text/plain": [
       "<Figure size 640x480 with 1 Axes>"
      ]
     },
     "metadata": {},
     "output_type": "display_data"
    },
    {
     "data": {
      "text/plain": [
       "<ggplot: (8760303824621)>"
      ]
     },
     "execution_count": 44,
     "metadata": {},
     "output_type": "execute_result"
    }
   ],
   "source": [
    "g2d = (\n",
    "    ggplot(data=share)\n",
    "    + geom_smooth(\n",
    "        aes(x=\"bmi\", y=\"stayshealthy\"), method=\"loess\", se=False, color=color[0]\n",
    "    )\n",
    "    + scale_y_continuous(expand=[0.01, 0.01], limits=[0, 1], breaks=seq(0, 1, 0.2))\n",
    "    + scale_x_continuous(limits=[10, 50], breaks=seq(10, 50, 10))\n",
    "    + labs(x=\"Body mass index\", y=\"Stays healthy\")\n",
    "    + theme_bw()\n",
    ")\n",
    "g2d\n"
   ]
  },
  {
   "cell_type": "markdown",
   "metadata": {},
   "source": [
    "# 3. PART - PROBABILITY MODELS (LPM, LOGIT, PROBIT) & PREDICTION"
   ]
  },
  {
   "cell_type": "code",
   "execution_count": 45,
   "metadata": {},
   "outputs": [],
   "source": [
    "share[\"country\"] = share[\"country\"].astype(\"category\")\n"
   ]
  },
  {
   "cell_type": "code",
   "execution_count": 46,
   "metadata": {},
   "outputs": [],
   "source": [
    "lpm3 = smf.ols(\n",
    "    \"stayshealthy ~ smoking + ever_smoked + female + age + lspline(eduyears,[8,18]) + \\\n",
    "                    income10 + lspline(bmi,[35]) + exerc + country\",\n",
    "    share,\n",
    ").fit(covtype=\"HC1\")\n"
   ]
  },
  {
   "cell_type": "markdown",
   "metadata": {},
   "source": [
    "### Table 11.2 Smoking and the probability of staying healthy – rich LPM"
   ]
  },
  {
   "cell_type": "code",
   "execution_count": 47,
   "metadata": {},
   "outputs": [
    {
     "data": {
      "text/html": [
       "<table style=\"text-align:center\"><tr><td colspan=\"2\" style=\"border-bottom: 1px solid black\"></td></tr><tr><td style=\"text-align:left\"></td><td colspan=\"1\"><em>Dependent variable:stayshealthy</em></td></tr><tr><td style=\"text-align:left\"></td><tr><td style=\"text-align:left\"></td><td>(1)</td></tr><tr><td colspan=\"2\" style=\"border-bottom: 1px solid black\"></td></tr><tr><td style=\"text-align:left\">smoking</td><td>-0.061<sup>**</sup></td></tr><tr><td style=\"text-align:left\"></td><td>(0.024)</td></tr><tr><td style=\"text-align:left\">ever_smoked</td><td>0.015<sup></sup></td></tr><tr><td style=\"text-align:left\"></td><td>(0.020)</td></tr><tr><td style=\"text-align:left\">female</td><td>0.033<sup>*</sup></td></tr><tr><td style=\"text-align:left\"></td><td>(0.018)</td></tr><tr><td style=\"text-align:left\">age</td><td>-0.003<sup></sup></td></tr><tr><td style=\"text-align:left\"></td><td>(0.003)</td></tr><tr><td style=\"text-align:left\">lspline(eduyears, [8, 18])[0]</td><td>-0.001<sup></sup></td></tr><tr><td style=\"text-align:left\"></td><td>(0.007)</td></tr><tr><td style=\"text-align:left\">lspline(eduyears, [8, 18])[1]</td><td>0.017<sup>***</sup></td></tr><tr><td style=\"text-align:left\"></td><td>(0.003)</td></tr><tr><td style=\"text-align:left\">lspline(eduyears, [8, 18])[2]</td><td>-0.010<sup></sup></td></tr><tr><td style=\"text-align:left\"></td><td>(0.012)</td></tr><tr><td style=\"text-align:left\">income10</td><td>0.008<sup>**</sup></td></tr><tr><td style=\"text-align:left\"></td><td>(0.003)</td></tr><tr><td style=\"text-align:left\">lspline(bmi, [35])[0]</td><td>-0.012<sup>***</sup></td></tr><tr><td style=\"text-align:left\"></td><td>(0.002)</td></tr><tr><td style=\"text-align:left\">lspline(bmi, [35])[1]</td><td>0.006<sup></sup></td></tr><tr><td style=\"text-align:left\"></td><td>(0.016)</td></tr><tr><td style=\"text-align:left\">exerc</td><td>0.053<sup>***</sup></td></tr><tr><td style=\"text-align:left\"></td><td>(0.017)</td></tr><tr><td style=\"text-align: left\">Country indicators</td><td>Yes</td></tr><td colspan=\"2\" style=\"border-bottom: 1px solid black\"></td></tr><tr><td style=\"text-align: left\">Observations</td><td>3,109</td></tr><tr><td style=\"text-align: left\">R<sup>2</sup></td><td>0.103</td></tr><tr><td style=\"text-align: left\">Adjusted R<sup>2</sup></td><td>0.096</td></tr><tr><td style=\"text-align: left\">Residual Std. Error</td><td>0.465 (df=3084)</td></tr><tr><td style=\"text-align: left\">F Statistic</td><td>14.699<sup>***</sup> (df=24; 3084)</td></tr><tr><td colspan=\"2\" style=\"border-bottom: 1px solid black\"></td></tr><tr><td style=\"text-align: left\">Note:</td>\n",
       " <td colspan=\"1\" style=\"text-align: right\">\n",
       "  <sup>*</sup>p&lt;0.1;\n",
       "  <sup>**</sup>p&lt;0.05;\n",
       "  <sup>***</sup>p&lt;0.01\n",
       " </td></tr></table>"
      ],
      "text/plain": [
       "<stargazer.stargazer.Stargazer at 0x7f7a9965bbd0>"
      ]
     },
     "execution_count": 47,
     "metadata": {},
     "output_type": "execute_result"
    }
   ],
   "source": [
    "stargazer = Stargazer([lpm3])\n",
    "stargazer.covariate_order(\n",
    "    [\n",
    "        \"smoking\",\n",
    "        \"ever_smoked\",\n",
    "        \"female\",\n",
    "        \"age\",\n",
    "        \"lspline(eduyears, [8, 18])[0]\",\n",
    "        \"lspline(eduyears, [8, 18])[1]\",\n",
    "        \"lspline(eduyears, [8, 18])[2]\",\n",
    "        \"income10\",\n",
    "        \"lspline(bmi, [35])[0]\",\n",
    "        \"lspline(bmi, [35])[1]\",\n",
    "        \"exerc\",\n",
    "    ]\n",
    ")\n",
    "stargazer.rename_covariates({\"Intercept\": \"Constant\"})\n",
    "stargazer.add_line(\"Country indicators\", [\"Yes\"])\n",
    "stargazer\n"
   ]
  },
  {
   "cell_type": "code",
   "execution_count": 48,
   "metadata": {},
   "outputs": [],
   "source": [
    "share[\"pred_lpm\"] = lpm3.predict()\n"
   ]
  },
  {
   "cell_type": "code",
   "execution_count": 49,
   "metadata": {},
   "outputs": [
    {
     "data": {
      "text/plain": [
       "count    3109.0000\n",
       "mean        0.6047\n",
       "std         0.1567\n",
       "min         0.0361\n",
       "25%         0.5001\n",
       "50%         0.6073\n",
       "75%         0.7134\n",
       "max         1.0110\n",
       "Name: pred_lpm, dtype: float64"
      ]
     },
     "execution_count": 49,
     "metadata": {},
     "output_type": "execute_result"
    }
   ],
   "source": [
    "share[\"pred_lpm\"].describe().round(4)\n"
   ]
  },
  {
   "cell_type": "markdown",
   "metadata": {},
   "source": [
    "### Figure 11.3 Histogram of the predicted probabilities"
   ]
  },
  {
   "cell_type": "code",
   "execution_count": 50,
   "metadata": {},
   "outputs": [
    {
     "data": {
      "image/png": "[encoded data removed]",
      "text/plain": [
       "<Figure size 640x480 with 1 Axes>"
      ]
     },
     "metadata": {},
     "output_type": "display_data"
    },
    {
     "data": {
      "text/plain": [
       "<ggplot: (8760283432605)>"
      ]
     },
     "execution_count": 50,
     "metadata": {},
     "output_type": "execute_result"
    }
   ],
   "source": [
    "g3 = (\n",
    "    ggplot(share, aes(x=\"pred_lpm\"))\n",
    "    + geom_histogram(\n",
    "        aes(y=\"stat(count)/sum(stat(count))\"),\n",
    "        binwidth=0.02,\n",
    "        center=0.65,\n",
    "        color=\"white\",\n",
    "        fill=color[0],\n",
    "        closed=\"right\",\n",
    "    )\n",
    "    + labs(x=\"Predicted probability of staying healthy (LPM)\", y=\"Percent\")\n",
    "    + scale_y_continuous(\n",
    "        expand=[0.00, 0.0],\n",
    "        limits=[0, 0.07],\n",
    "        breaks=seq(0, 0.07, 0.01),\n",
    "        labels=percent_format(),\n",
    "    )\n",
    "    + scale_x_continuous(expand=[0.1, 0.01], limits=[0, 1], breaks=seq(0, 1, 0.2))\n",
    "    + theme_bw()\n",
    ")\n",
    "g3\n"
   ]
  },
  {
   "cell_type": "code",
   "execution_count": 51,
   "metadata": {},
   "outputs": [],
   "source": [
    "cuts = 100\n",
    "share[\"q100_pred_lpm\"] = pd.qcut(share[\"pred_lpm\"], q=cuts, labels=range(1, cuts + 1))\n"
   ]
  },
  {
   "cell_type": "code",
   "execution_count": 52,
   "metadata": {},
   "outputs": [
    {
     "data": {
      "text/html": [
       "<div>\n",
       "<style scoped>\n",
       "    .dataframe tbody tr th:only-of-type {\n",
       "        vertical-align: middle;\n",
       "    }\n",
       "\n",
       "    .dataframe tbody tr th {\n",
       "        vertical-align: top;\n",
       "    }\n",
       "\n",
       "    .dataframe thead th {\n",
       "        text-align: right;\n",
       "    }\n",
       "</style>\n",
       "<table border=\"1\" class=\"dataframe\">\n",
       "  <thead>\n",
       "    <tr style=\"text-align: right;\">\n",
       "      <th></th>\n",
       "      <th>smoking</th>\n",
       "      <th>ever_smoked</th>\n",
       "      <th>female</th>\n",
       "      <th>age</th>\n",
       "      <th>eduyears</th>\n",
       "      <th>income10</th>\n",
       "      <th>bmi</th>\n",
       "      <th>exerc</th>\n",
       "    </tr>\n",
       "  </thead>\n",
       "  <tbody>\n",
       "    <tr>\n",
       "      <th>count</th>\n",
       "      <td>32.0</td>\n",
       "      <td>32.0</td>\n",
       "      <td>32.0</td>\n",
       "      <td>32.0</td>\n",
       "      <td>32.0</td>\n",
       "      <td>32.0</td>\n",
       "      <td>32.0</td>\n",
       "      <td>32.0</td>\n",
       "    </tr>\n",
       "    <tr>\n",
       "      <th>mean</th>\n",
       "      <td>0.4</td>\n",
       "      <td>0.5</td>\n",
       "      <td>0.4</td>\n",
       "      <td>56.0</td>\n",
       "      <td>7.7</td>\n",
       "      <td>3.8</td>\n",
       "      <td>30.5</td>\n",
       "      <td>0.2</td>\n",
       "    </tr>\n",
       "    <tr>\n",
       "      <th>std</th>\n",
       "      <td>0.5</td>\n",
       "      <td>0.5</td>\n",
       "      <td>0.5</td>\n",
       "      <td>2.6</td>\n",
       "      <td>3.3</td>\n",
       "      <td>2.8</td>\n",
       "      <td>3.9</td>\n",
       "      <td>0.4</td>\n",
       "    </tr>\n",
       "    <tr>\n",
       "      <th>min</th>\n",
       "      <td>0.0</td>\n",
       "      <td>0.0</td>\n",
       "      <td>0.0</td>\n",
       "      <td>50.4</td>\n",
       "      <td>0.0</td>\n",
       "      <td>1.0</td>\n",
       "      <td>23.0</td>\n",
       "      <td>0.0</td>\n",
       "    </tr>\n",
       "    <tr>\n",
       "      <th>25%</th>\n",
       "      <td>0.0</td>\n",
       "      <td>0.0</td>\n",
       "      <td>0.0</td>\n",
       "      <td>53.9</td>\n",
       "      <td>4.8</td>\n",
       "      <td>1.0</td>\n",
       "      <td>28.1</td>\n",
       "      <td>0.0</td>\n",
       "    </tr>\n",
       "    <tr>\n",
       "      <th>50%</th>\n",
       "      <td>0.0</td>\n",
       "      <td>0.0</td>\n",
       "      <td>0.0</td>\n",
       "      <td>56.5</td>\n",
       "      <td>8.0</td>\n",
       "      <td>3.0</td>\n",
       "      <td>30.5</td>\n",
       "      <td>0.0</td>\n",
       "    </tr>\n",
       "    <tr>\n",
       "      <th>75%</th>\n",
       "      <td>1.0</td>\n",
       "      <td>1.0</td>\n",
       "      <td>1.0</td>\n",
       "      <td>57.8</td>\n",
       "      <td>10.2</td>\n",
       "      <td>6.2</td>\n",
       "      <td>33.9</td>\n",
       "      <td>0.0</td>\n",
       "    </tr>\n",
       "    <tr>\n",
       "      <th>max</th>\n",
       "      <td>1.0</td>\n",
       "      <td>1.0</td>\n",
       "      <td>1.0</td>\n",
       "      <td>59.9</td>\n",
       "      <td>14.0</td>\n",
       "      <td>10.0</td>\n",
       "      <td>38.1</td>\n",
       "      <td>1.0</td>\n",
       "    </tr>\n",
       "  </tbody>\n",
       "</table>\n",
       "</div>"
      ],
      "text/plain": [
       "       smoking  ever_smoked  female   age  eduyears  income10   bmi  exerc\n",
       "count     32.0         32.0    32.0  32.0      32.0      32.0  32.0   32.0\n",
       "mean       0.4          0.5     0.4  56.0       7.7       3.8  30.5    0.2\n",
       "std        0.5          0.5     0.5   2.6       3.3       2.8   3.9    0.4\n",
       "min        0.0          0.0     0.0  50.4       0.0       1.0  23.0    0.0\n",
       "25%        0.0          0.0     0.0  53.9       4.8       1.0  28.1    0.0\n",
       "50%        0.0          0.0     0.0  56.5       8.0       3.0  30.5    0.0\n",
       "75%        1.0          1.0     1.0  57.8      10.2       6.2  33.9    0.0\n",
       "max        1.0          1.0     1.0  59.9      14.0      10.0  38.1    1.0"
      ]
     },
     "execution_count": 52,
     "metadata": {},
     "output_type": "execute_result"
    }
   ],
   "source": [
    "share.loc[\n",
    "    share[\"q100_pred_lpm\"] == 1,\n",
    "    [\"smoking\", \"ever_smoked\", \"female\", \"age\", \"eduyears\", \"income10\", \"bmi\", \"exerc\"],\n",
    "].describe().round(1)\n",
    "\n",
    "# Bottom 1%\n"
   ]
  },
  {
   "cell_type": "code",
   "execution_count": 53,
   "metadata": {},
   "outputs": [
    {
     "data": {
      "text/html": [
       "<div>\n",
       "<style scoped>\n",
       "    .dataframe tbody tr th:only-of-type {\n",
       "        vertical-align: middle;\n",
       "    }\n",
       "\n",
       "    .dataframe tbody tr th {\n",
       "        vertical-align: top;\n",
       "    }\n",
       "\n",
       "    .dataframe thead th {\n",
       "        text-align: right;\n",
       "    }\n",
       "</style>\n",
       "<table border=\"1\" class=\"dataframe\">\n",
       "  <thead>\n",
       "    <tr style=\"text-align: right;\">\n",
       "      <th></th>\n",
       "      <th>smoking</th>\n",
       "      <th>ever_smoked</th>\n",
       "      <th>female</th>\n",
       "      <th>age</th>\n",
       "      <th>eduyears</th>\n",
       "      <th>income10</th>\n",
       "      <th>bmi</th>\n",
       "      <th>exerc</th>\n",
       "    </tr>\n",
       "  </thead>\n",
       "  <tbody>\n",
       "    <tr>\n",
       "      <th>count</th>\n",
       "      <td>32.0</td>\n",
       "      <td>32.0</td>\n",
       "      <td>32.0</td>\n",
       "      <td>32.0</td>\n",
       "      <td>32.0</td>\n",
       "      <td>32.0</td>\n",
       "      <td>32.0</td>\n",
       "      <td>32.0</td>\n",
       "    </tr>\n",
       "    <tr>\n",
       "      <th>mean</th>\n",
       "      <td>0.0</td>\n",
       "      <td>0.4</td>\n",
       "      <td>1.0</td>\n",
       "      <td>53.9</td>\n",
       "      <td>17.3</td>\n",
       "      <td>8.9</td>\n",
       "      <td>20.8</td>\n",
       "      <td>0.9</td>\n",
       "    </tr>\n",
       "    <tr>\n",
       "      <th>std</th>\n",
       "      <td>0.0</td>\n",
       "      <td>0.5</td>\n",
       "      <td>0.2</td>\n",
       "      <td>2.5</td>\n",
       "      <td>1.5</td>\n",
       "      <td>1.6</td>\n",
       "      <td>1.8</td>\n",
       "      <td>0.3</td>\n",
       "    </tr>\n",
       "    <tr>\n",
       "      <th>min</th>\n",
       "      <td>0.0</td>\n",
       "      <td>0.0</td>\n",
       "      <td>0.0</td>\n",
       "      <td>50.6</td>\n",
       "      <td>13.0</td>\n",
       "      <td>4.0</td>\n",
       "      <td>17.2</td>\n",
       "      <td>0.0</td>\n",
       "    </tr>\n",
       "    <tr>\n",
       "      <th>25%</th>\n",
       "      <td>0.0</td>\n",
       "      <td>0.0</td>\n",
       "      <td>1.0</td>\n",
       "      <td>52.1</td>\n",
       "      <td>16.0</td>\n",
       "      <td>8.8</td>\n",
       "      <td>19.7</td>\n",
       "      <td>1.0</td>\n",
       "    </tr>\n",
       "    <tr>\n",
       "      <th>50%</th>\n",
       "      <td>0.0</td>\n",
       "      <td>0.0</td>\n",
       "      <td>1.0</td>\n",
       "      <td>53.4</td>\n",
       "      <td>17.5</td>\n",
       "      <td>10.0</td>\n",
       "      <td>20.8</td>\n",
       "      <td>1.0</td>\n",
       "    </tr>\n",
       "    <tr>\n",
       "      <th>75%</th>\n",
       "      <td>0.0</td>\n",
       "      <td>1.0</td>\n",
       "      <td>1.0</td>\n",
       "      <td>55.2</td>\n",
       "      <td>18.0</td>\n",
       "      <td>10.0</td>\n",
       "      <td>22.1</td>\n",
       "      <td>1.0</td>\n",
       "    </tr>\n",
       "    <tr>\n",
       "      <th>max</th>\n",
       "      <td>0.0</td>\n",
       "      <td>1.0</td>\n",
       "      <td>1.0</td>\n",
       "      <td>60.0</td>\n",
       "      <td>20.0</td>\n",
       "      <td>10.0</td>\n",
       "      <td>24.5</td>\n",
       "      <td>1.0</td>\n",
       "    </tr>\n",
       "  </tbody>\n",
       "</table>\n",
       "</div>"
      ],
      "text/plain": [
       "       smoking  ever_smoked  female   age  eduyears  income10   bmi  exerc\n",
       "count     32.0         32.0    32.0  32.0      32.0      32.0  32.0   32.0\n",
       "mean       0.0          0.4     1.0  53.9      17.3       8.9  20.8    0.9\n",
       "std        0.0          0.5     0.2   2.5       1.5       1.6   1.8    0.3\n",
       "min        0.0          0.0     0.0  50.6      13.0       4.0  17.2    0.0\n",
       "25%        0.0          0.0     1.0  52.1      16.0       8.8  19.7    1.0\n",
       "50%        0.0          0.0     1.0  53.4      17.5      10.0  20.8    1.0\n",
       "75%        0.0          1.0     1.0  55.2      18.0      10.0  22.1    1.0\n",
       "max        0.0          1.0     1.0  60.0      20.0      10.0  24.5    1.0"
      ]
     },
     "execution_count": 53,
     "metadata": {},
     "output_type": "execute_result"
    }
   ],
   "source": [
    "share.loc[\n",
    "    share[\"q100_pred_lpm\"] == 100,\n",
    "    [\"smoking\", \"ever_smoked\", \"female\", \"age\", \"eduyears\", \"income10\", \"bmi\", \"exerc\"],\n",
    "].describe().round(1)\n",
    "\n",
    "# Top 1%\n"
   ]
  },
  {
   "cell_type": "markdown",
   "metadata": {},
   "source": [
    "# 4. PART - LOGIT VS. PROBIT MODELS"
   ]
  },
  {
   "cell_type": "code",
   "execution_count": 54,
   "metadata": {},
   "outputs": [],
   "source": [
    "y, X = dmatrices(\n",
    "    \"stayshealthy ~ smoking + ever_smoked + female + age + lspline(eduyears,[8,18]) + \\\n",
    "                 income10 + lspline(bmi,[35]) + exerc + country\",\n",
    "    share,\n",
    ")\n",
    "\n",
    "logit = sm.GLM(y, X, family=sm.families.Binomial(link=sm.genmod.families.links.logit()))\n",
    "logit = logit.fit()\n"
   ]
  },
  {
   "cell_type": "code",
   "execution_count": 55,
   "metadata": {},
   "outputs": [
    {
     "data": {
      "text/html": [
       "<table class=\"simpletable\">\n",
       "<caption>Generalized Linear Model Regression Results</caption>\n",
       "<tr>\n",
       "  <th>Dep. Variable:</th>     <td>stayshealthy</td>   <th>  No. Observations:  </th>  <td>  3109</td> \n",
       "</tr>\n",
       "<tr>\n",
       "  <th>Model:</th>                  <td>GLM</td>       <th>  Df Residuals:      </th>  <td>  3084</td> \n",
       "</tr>\n",
       "<tr>\n",
       "  <th>Model Family:</th>        <td>Binomial</td>     <th>  Df Model:          </th>  <td>    24</td> \n",
       "</tr>\n",
       "<tr>\n",
       "  <th>Link Function:</th>         <td>logit</td>      <th>  Scale:             </th> <td>  1.0000</td>\n",
       "</tr>\n",
       "<tr>\n",
       "  <th>Method:</th>                <td>IRLS</td>       <th>  Log-Likelihood:    </th> <td> -1918.8</td>\n",
       "</tr>\n",
       "<tr>\n",
       "  <th>Date:</th>            <td>Wed, 03 May 2023</td> <th>  Deviance:          </th> <td>  3837.5</td>\n",
       "</tr>\n",
       "<tr>\n",
       "  <th>Time:</th>                <td>14:45:39</td>     <th>  Pearson chi2:      </th> <td>3.12e+03</td>\n",
       "</tr>\n",
       "<tr>\n",
       "  <th>No. Iterations:</th>          <td>4</td>        <th>  Pseudo R-squ. (CS):</th>  <td>0.1022</td> \n",
       "</tr>\n",
       "<tr>\n",
       "  <th>Covariance Type:</th>     <td>nonrobust</td>    <th>                     </th>     <td> </td>   \n",
       "</tr>\n",
       "</table>\n",
       "<table class=\"simpletable\">\n",
       "<tr>\n",
       "                <td></td>                   <th>coef</th>     <th>std err</th>      <th>z</th>      <th>P>|z|</th>  <th>[0.025</th>    <th>0.975]</th>  \n",
       "</tr>\n",
       "<tr>\n",
       "  <th>Intercept</th>                     <td>    2.2781</td> <td>    0.885</td> <td>    2.573</td> <td> 0.010</td> <td>    0.543</td> <td>    4.013</td>\n",
       "</tr>\n",
       "<tr>\n",
       "  <th>country[T.12]</th>                 <td>   -0.9828</td> <td>    0.330</td> <td>   -2.978</td> <td> 0.003</td> <td>   -1.630</td> <td>   -0.336</td>\n",
       "</tr>\n",
       "<tr>\n",
       "  <th>country[T.13]</th>                 <td>   -0.1972</td> <td>    0.276</td> <td>   -0.714</td> <td> 0.475</td> <td>   -0.739</td> <td>    0.344</td>\n",
       "</tr>\n",
       "<tr>\n",
       "  <th>country[T.15]</th>                 <td>   -0.6560</td> <td>    0.194</td> <td>   -3.382</td> <td> 0.001</td> <td>   -1.036</td> <td>   -0.276</td>\n",
       "</tr>\n",
       "<tr>\n",
       "  <th>country[T.16]</th>                 <td>   -1.1196</td> <td>    0.185</td> <td>   -6.051</td> <td> 0.000</td> <td>   -1.482</td> <td>   -0.757</td>\n",
       "</tr>\n",
       "<tr>\n",
       "  <th>country[T.17]</th>                 <td>   -0.7850</td> <td>    0.169</td> <td>   -4.640</td> <td> 0.000</td> <td>   -1.116</td> <td>   -0.453</td>\n",
       "</tr>\n",
       "<tr>\n",
       "  <th>country[T.18]</th>                 <td>    0.4358</td> <td>    0.181</td> <td>    2.411</td> <td> 0.016</td> <td>    0.082</td> <td>    0.790</td>\n",
       "</tr>\n",
       "<tr>\n",
       "  <th>country[T.20]</th>                 <td>    0.0679</td> <td>    0.159</td> <td>    0.426</td> <td> 0.670</td> <td>   -0.244</td> <td>    0.380</td>\n",
       "</tr>\n",
       "<tr>\n",
       "  <th>country[T.23]</th>                 <td>   -0.5734</td> <td>    0.157</td> <td>   -3.650</td> <td> 0.000</td> <td>   -0.881</td> <td>   -0.265</td>\n",
       "</tr>\n",
       "<tr>\n",
       "  <th>country[T.28]</th>                 <td>   -0.7552</td> <td>    0.176</td> <td>   -4.297</td> <td> 0.000</td> <td>   -1.100</td> <td>   -0.411</td>\n",
       "</tr>\n",
       "<tr>\n",
       "  <th>country[T.29]</th>                 <td>   -1.4707</td> <td>    0.395</td> <td>   -3.719</td> <td> 0.000</td> <td>   -2.246</td> <td>   -0.696</td>\n",
       "</tr>\n",
       "<tr>\n",
       "  <th>country[T.33]</th>                 <td>   -1.5783</td> <td>    0.301</td> <td>   -5.243</td> <td> 0.000</td> <td>   -2.168</td> <td>   -0.988</td>\n",
       "</tr>\n",
       "<tr>\n",
       "  <th>country[T.34]</th>                 <td>   -0.9203</td> <td>    0.205</td> <td>   -4.482</td> <td> 0.000</td> <td>   -1.323</td> <td>   -0.518</td>\n",
       "</tr>\n",
       "<tr>\n",
       "  <th>country[T.35]</th>                 <td>   -1.3535</td> <td>    0.211</td> <td>   -6.416</td> <td> 0.000</td> <td>   -1.767</td> <td>   -0.940</td>\n",
       "</tr>\n",
       "<tr>\n",
       "  <th>smoking</th>                       <td>   -0.2840</td> <td>    0.109</td> <td>   -2.601</td> <td> 0.009</td> <td>   -0.498</td> <td>   -0.070</td>\n",
       "</tr>\n",
       "<tr>\n",
       "  <th>ever_smoked</th>                   <td>    0.0782</td> <td>    0.092</td> <td>    0.849</td> <td> 0.396</td> <td>   -0.102</td> <td>    0.259</td>\n",
       "</tr>\n",
       "<tr>\n",
       "  <th>female</th>                        <td>    0.1608</td> <td>    0.082</td> <td>    1.964</td> <td> 0.050</td> <td>    0.000</td> <td>    0.321</td>\n",
       "</tr>\n",
       "<tr>\n",
       "  <th>age</th>                           <td>   -0.0123</td> <td>    0.014</td> <td>   -0.859</td> <td> 0.391</td> <td>   -0.040</td> <td>    0.016</td>\n",
       "</tr>\n",
       "<tr>\n",
       "  <th>lspline(eduyears, [8, 18])[0]</th> <td>   -0.0030</td> <td>    0.033</td> <td>   -0.090</td> <td> 0.928</td> <td>   -0.068</td> <td>    0.062</td>\n",
       "</tr>\n",
       "<tr>\n",
       "  <th>lspline(eduyears, [8, 18])[1]</th> <td>    0.0791</td> <td>    0.016</td> <td>    5.022</td> <td> 0.000</td> <td>    0.048</td> <td>    0.110</td>\n",
       "</tr>\n",
       "<tr>\n",
       "  <th>lspline(eduyears, [8, 18])[2]</th> <td>   -0.0457</td> <td>    0.055</td> <td>   -0.825</td> <td> 0.410</td> <td>   -0.154</td> <td>    0.063</td>\n",
       "</tr>\n",
       "<tr>\n",
       "  <th>income10</th>                      <td>    0.0356</td> <td>    0.015</td> <td>    2.452</td> <td> 0.014</td> <td>    0.007</td> <td>    0.064</td>\n",
       "</tr>\n",
       "<tr>\n",
       "  <th>lspline(bmi, [35])[0]</th>         <td>   -0.0575</td> <td>    0.011</td> <td>   -5.033</td> <td> 0.000</td> <td>   -0.080</td> <td>   -0.035</td>\n",
       "</tr>\n",
       "<tr>\n",
       "  <th>lspline(bmi, [35])[1]</th>         <td>    0.0311</td> <td>    0.071</td> <td>    0.439</td> <td> 0.661</td> <td>   -0.108</td> <td>    0.170</td>\n",
       "</tr>\n",
       "<tr>\n",
       "  <th>exerc</th>                         <td>    0.2548</td> <td>    0.079</td> <td>    3.229</td> <td> 0.001</td> <td>    0.100</td> <td>    0.410</td>\n",
       "</tr>\n",
       "</table>"
      ],
      "text/plain": [
       "<class 'statsmodels.iolib.summary.Summary'>\n",
       "\"\"\"\n",
       "                 Generalized Linear Model Regression Results                  \n",
       "==============================================================================\n",
       "Dep. Variable:           stayshealthy   No. Observations:                 3109\n",
       "Model:                            GLM   Df Residuals:                     3084\n",
       "Model Family:                Binomial   Df Model:                           24\n",
       "Link Function:                  logit   Scale:                          1.0000\n",
       "Method:                          IRLS   Log-Likelihood:                -1918.8\n",
       "Date:                Wed, 03 May 2023   Deviance:                       3837.5\n",
       "Time:                        14:45:39   Pearson chi2:                 3.12e+03\n",
       "No. Iterations:                     4   Pseudo R-squ. (CS):             0.1022\n",
       "Covariance Type:            nonrobust                                         \n",
       "=================================================================================================\n",
       "                                    coef    std err          z      P>|z|      [0.025      0.975]\n",
       "-------------------------------------------------------------------------------------------------\n",
       "Intercept                         2.2781      0.885      2.573      0.010       0.543       4.013\n",
       "country[T.12]                    -0.9828      0.330     -2.978      0.003      -1.630      -0.336\n",
       "country[T.13]                    -0.1972      0.276     -0.714      0.475      -0.739       0.344\n",
       "country[T.15]                    -0.6560      0.194     -3.382      0.001      -1.036      -0.276\n",
       "country[T.16]                    -1.1196      0.185     -6.051      0.000      -1.482      -0.757\n",
       "country[T.17]                    -0.7850      0.169     -4.640      0.000      -1.116      -0.453\n",
       "country[T.18]                     0.4358      0.181      2.411      0.016       0.082       0.790\n",
       "country[T.20]                     0.0679      0.159      0.426      0.670      -0.244       0.380\n",
       "country[T.23]                    -0.5734      0.157     -3.650      0.000      -0.881      -0.265\n",
       "country[T.28]                    -0.7552      0.176     -4.297      0.000      -1.100      -0.411\n",
       "country[T.29]                    -1.4707      0.395     -3.719      0.000      -2.246      -0.696\n",
       "country[T.33]                    -1.5783      0.301     -5.243      0.000      -2.168      -0.988\n",
       "country[T.34]                    -0.9203      0.205     -4.482      0.000      -1.323      -0.518\n",
       "country[T.35]                    -1.3535      0.211     -6.416      0.000      -1.767      -0.940\n",
       "smoking                          -0.2840      0.109     -2.601      0.009      -0.498      -0.070\n",
       "ever_smoked                       0.0782      0.092      0.849      0.396      -0.102       0.259\n",
       "female                            0.1608      0.082      1.964      0.050       0.000       0.321\n",
       "age                              -0.0123      0.014     -0.859      0.391      -0.040       0.016\n",
       "lspline(eduyears, [8, 18])[0]    -0.0030      0.033     -0.090      0.928      -0.068       0.062\n",
       "lspline(eduyears, [8, 18])[1]     0.0791      0.016      5.022      0.000       0.048       0.110\n",
       "lspline(eduyears, [8, 18])[2]    -0.0457      0.055     -0.825      0.410      -0.154       0.063\n",
       "income10                          0.0356      0.015      2.452      0.014       0.007       0.064\n",
       "lspline(bmi, [35])[0]            -0.0575      0.011     -5.033      0.000      -0.080      -0.035\n",
       "lspline(bmi, [35])[1]             0.0311      0.071      0.439      0.661      -0.108       0.170\n",
       "exerc                             0.2548      0.079      3.229      0.001       0.100       0.410\n",
       "=================================================================================================\n",
       "\"\"\""
      ]
     },
     "execution_count": 55,
     "metadata": {},
     "output_type": "execute_result"
    }
   ],
   "source": [
    "logit.summary()\n"
   ]
  },
  {
   "cell_type": "code",
   "execution_count": 56,
   "metadata": {},
   "outputs": [],
   "source": [
    "share[\"pred_logit\"] = logit.predict()\n"
   ]
  },
  {
   "cell_type": "code",
   "execution_count": 57,
   "metadata": {},
   "outputs": [
    {
     "data": {
      "text/plain": [
       "count    3109.000000\n",
       "mean        0.604696\n",
       "std         0.157277\n",
       "min         0.107760\n",
       "25%         0.496971\n",
       "50%         0.614335\n",
       "75%         0.723092\n",
       "max         0.920142\n",
       "Name: pred_logit, dtype: float64"
      ]
     },
     "execution_count": 57,
     "metadata": {},
     "output_type": "execute_result"
    }
   ],
   "source": [
    "share[\"pred_logit\"].describe()\n"
   ]
  },
  {
   "cell_type": "code",
   "execution_count": 58,
   "metadata": {},
   "outputs": [],
   "source": [
    "logit = sm.Logit(y, X)\n"
   ]
  },
  {
   "cell_type": "code",
   "execution_count": 59,
   "metadata": {},
   "outputs": [
    {
     "name": "stdout",
     "output_type": "stream",
     "text": [
      "Optimization terminated successfully.\n",
      "         Current function value: 0.617166\n",
      "         Iterations 5\n"
     ]
    }
   ],
   "source": [
    "logit_result = logit.fit()\n"
   ]
  },
  {
   "cell_type": "code",
   "execution_count": 60,
   "metadata": {},
   "outputs": [
    {
     "data": {
      "text/html": [
       "<table class=\"simpletable\">\n",
       "<caption>Logit Regression Results</caption>\n",
       "<tr>\n",
       "  <th>Dep. Variable:</th>     <td>stayshealthy</td>   <th>  No. Observations:  </th>  <td>  3109</td>  \n",
       "</tr>\n",
       "<tr>\n",
       "  <th>Model:</th>                 <td>Logit</td>      <th>  Df Residuals:      </th>  <td>  3084</td>  \n",
       "</tr>\n",
       "<tr>\n",
       "  <th>Method:</th>                 <td>MLE</td>       <th>  Df Model:          </th>  <td>    24</td>  \n",
       "</tr>\n",
       "<tr>\n",
       "  <th>Date:</th>            <td>Wed, 03 May 2023</td> <th>  Pseudo R-squ.:     </th>  <td>0.08031</td> \n",
       "</tr>\n",
       "<tr>\n",
       "  <th>Time:</th>                <td>14:45:39</td>     <th>  Log-Likelihood:    </th> <td> -1918.8</td> \n",
       "</tr>\n",
       "<tr>\n",
       "  <th>converged:</th>             <td>True</td>       <th>  LL-Null:           </th> <td> -2086.3</td> \n",
       "</tr>\n",
       "<tr>\n",
       "  <th>Covariance Type:</th>     <td>nonrobust</td>    <th>  LLR p-value:       </th> <td>1.329e-56</td>\n",
       "</tr>\n",
       "</table>\n",
       "<table class=\"simpletable\">\n",
       "<tr>\n",
       "                <td></td>                   <th>coef</th>     <th>std err</th>      <th>z</th>      <th>P>|z|</th>  <th>[0.025</th>    <th>0.975]</th>  \n",
       "</tr>\n",
       "<tr>\n",
       "  <th>Intercept</th>                     <td>    2.2781</td> <td>    0.885</td> <td>    2.573</td> <td> 0.010</td> <td>    0.543</td> <td>    4.013</td>\n",
       "</tr>\n",
       "<tr>\n",
       "  <th>country[T.12]</th>                 <td>   -0.9828</td> <td>    0.330</td> <td>   -2.978</td> <td> 0.003</td> <td>   -1.630</td> <td>   -0.336</td>\n",
       "</tr>\n",
       "<tr>\n",
       "  <th>country[T.13]</th>                 <td>   -0.1972</td> <td>    0.276</td> <td>   -0.714</td> <td> 0.475</td> <td>   -0.739</td> <td>    0.344</td>\n",
       "</tr>\n",
       "<tr>\n",
       "  <th>country[T.15]</th>                 <td>   -0.6560</td> <td>    0.194</td> <td>   -3.382</td> <td> 0.001</td> <td>   -1.036</td> <td>   -0.276</td>\n",
       "</tr>\n",
       "<tr>\n",
       "  <th>country[T.16]</th>                 <td>   -1.1196</td> <td>    0.185</td> <td>   -6.051</td> <td> 0.000</td> <td>   -1.482</td> <td>   -0.757</td>\n",
       "</tr>\n",
       "<tr>\n",
       "  <th>country[T.17]</th>                 <td>   -0.7850</td> <td>    0.169</td> <td>   -4.640</td> <td> 0.000</td> <td>   -1.116</td> <td>   -0.453</td>\n",
       "</tr>\n",
       "<tr>\n",
       "  <th>country[T.18]</th>                 <td>    0.4358</td> <td>    0.181</td> <td>    2.411</td> <td> 0.016</td> <td>    0.082</td> <td>    0.790</td>\n",
       "</tr>\n",
       "<tr>\n",
       "  <th>country[T.20]</th>                 <td>    0.0679</td> <td>    0.159</td> <td>    0.426</td> <td> 0.670</td> <td>   -0.244</td> <td>    0.380</td>\n",
       "</tr>\n",
       "<tr>\n",
       "  <th>country[T.23]</th>                 <td>   -0.5734</td> <td>    0.157</td> <td>   -3.650</td> <td> 0.000</td> <td>   -0.881</td> <td>   -0.265</td>\n",
       "</tr>\n",
       "<tr>\n",
       "  <th>country[T.28]</th>                 <td>   -0.7552</td> <td>    0.176</td> <td>   -4.297</td> <td> 0.000</td> <td>   -1.100</td> <td>   -0.411</td>\n",
       "</tr>\n",
       "<tr>\n",
       "  <th>country[T.29]</th>                 <td>   -1.4707</td> <td>    0.395</td> <td>   -3.719</td> <td> 0.000</td> <td>   -2.246</td> <td>   -0.696</td>\n",
       "</tr>\n",
       "<tr>\n",
       "  <th>country[T.33]</th>                 <td>   -1.5783</td> <td>    0.301</td> <td>   -5.243</td> <td> 0.000</td> <td>   -2.168</td> <td>   -0.988</td>\n",
       "</tr>\n",
       "<tr>\n",
       "  <th>country[T.34]</th>                 <td>   -0.9203</td> <td>    0.205</td> <td>   -4.482</td> <td> 0.000</td> <td>   -1.323</td> <td>   -0.518</td>\n",
       "</tr>\n",
       "<tr>\n",
       "  <th>country[T.35]</th>                 <td>   -1.3535</td> <td>    0.211</td> <td>   -6.416</td> <td> 0.000</td> <td>   -1.767</td> <td>   -0.940</td>\n",
       "</tr>\n",
       "<tr>\n",
       "  <th>smoking</th>                       <td>   -0.2840</td> <td>    0.109</td> <td>   -2.601</td> <td> 0.009</td> <td>   -0.498</td> <td>   -0.070</td>\n",
       "</tr>\n",
       "<tr>\n",
       "  <th>ever_smoked</th>                   <td>    0.0782</td> <td>    0.092</td> <td>    0.849</td> <td> 0.396</td> <td>   -0.102</td> <td>    0.259</td>\n",
       "</tr>\n",
       "<tr>\n",
       "  <th>female</th>                        <td>    0.1608</td> <td>    0.082</td> <td>    1.964</td> <td> 0.050</td> <td>    0.000</td> <td>    0.321</td>\n",
       "</tr>\n",
       "<tr>\n",
       "  <th>age</th>                           <td>   -0.0123</td> <td>    0.014</td> <td>   -0.859</td> <td> 0.391</td> <td>   -0.040</td> <td>    0.016</td>\n",
       "</tr>\n",
       "<tr>\n",
       "  <th>lspline(eduyears, [8, 18])[0]</th> <td>   -0.0030</td> <td>    0.033</td> <td>   -0.090</td> <td> 0.928</td> <td>   -0.068</td> <td>    0.062</td>\n",
       "</tr>\n",
       "<tr>\n",
       "  <th>lspline(eduyears, [8, 18])[1]</th> <td>    0.0791</td> <td>    0.016</td> <td>    5.022</td> <td> 0.000</td> <td>    0.048</td> <td>    0.110</td>\n",
       "</tr>\n",
       "<tr>\n",
       "  <th>lspline(eduyears, [8, 18])[2]</th> <td>   -0.0457</td> <td>    0.055</td> <td>   -0.825</td> <td> 0.410</td> <td>   -0.154</td> <td>    0.063</td>\n",
       "</tr>\n",
       "<tr>\n",
       "  <th>income10</th>                      <td>    0.0356</td> <td>    0.015</td> <td>    2.452</td> <td> 0.014</td> <td>    0.007</td> <td>    0.064</td>\n",
       "</tr>\n",
       "<tr>\n",
       "  <th>lspline(bmi, [35])[0]</th>         <td>   -0.0575</td> <td>    0.011</td> <td>   -5.033</td> <td> 0.000</td> <td>   -0.080</td> <td>   -0.035</td>\n",
       "</tr>\n",
       "<tr>\n",
       "  <th>lspline(bmi, [35])[1]</th>         <td>    0.0311</td> <td>    0.071</td> <td>    0.439</td> <td> 0.661</td> <td>   -0.108</td> <td>    0.170</td>\n",
       "</tr>\n",
       "<tr>\n",
       "  <th>exerc</th>                         <td>    0.2548</td> <td>    0.079</td> <td>    3.229</td> <td> 0.001</td> <td>    0.100</td> <td>    0.410</td>\n",
       "</tr>\n",
       "</table>"
      ],
      "text/plain": [
       "<class 'statsmodels.iolib.summary.Summary'>\n",
       "\"\"\"\n",
       "                           Logit Regression Results                           \n",
       "==============================================================================\n",
       "Dep. Variable:           stayshealthy   No. Observations:                 3109\n",
       "Model:                          Logit   Df Residuals:                     3084\n",
       "Method:                           MLE   Df Model:                           24\n",
       "Date:                Wed, 03 May 2023   Pseudo R-squ.:                 0.08031\n",
       "Time:                        14:45:39   Log-Likelihood:                -1918.8\n",
       "converged:                       True   LL-Null:                       -2086.3\n",
       "Covariance Type:            nonrobust   LLR p-value:                 1.329e-56\n",
       "=================================================================================================\n",
       "                                    coef    std err          z      P>|z|      [0.025      0.975]\n",
       "-------------------------------------------------------------------------------------------------\n",
       "Intercept                         2.2781      0.885      2.573      0.010       0.543       4.013\n",
       "country[T.12]                    -0.9828      0.330     -2.978      0.003      -1.630      -0.336\n",
       "country[T.13]                    -0.1972      0.276     -0.714      0.475      -0.739       0.344\n",
       "country[T.15]                    -0.6560      0.194     -3.382      0.001      -1.036      -0.276\n",
       "country[T.16]                    -1.1196      0.185     -6.051      0.000      -1.482      -0.757\n",
       "country[T.17]                    -0.7850      0.169     -4.640      0.000      -1.116      -0.453\n",
       "country[T.18]                     0.4358      0.181      2.411      0.016       0.082       0.790\n",
       "country[T.20]                     0.0679      0.159      0.426      0.670      -0.244       0.380\n",
       "country[T.23]                    -0.5734      0.157     -3.650      0.000      -0.881      -0.265\n",
       "country[T.28]                    -0.7552      0.176     -4.297      0.000      -1.100      -0.411\n",
       "country[T.29]                    -1.4707      0.395     -3.719      0.000      -2.246      -0.696\n",
       "country[T.33]                    -1.5783      0.301     -5.243      0.000      -2.168      -0.988\n",
       "country[T.34]                    -0.9203      0.205     -4.482      0.000      -1.323      -0.518\n",
       "country[T.35]                    -1.3535      0.211     -6.416      0.000      -1.767      -0.940\n",
       "smoking                          -0.2840      0.109     -2.601      0.009      -0.498      -0.070\n",
       "ever_smoked                       0.0782      0.092      0.849      0.396      -0.102       0.259\n",
       "female                            0.1608      0.082      1.964      0.050       0.000       0.321\n",
       "age                              -0.0123      0.014     -0.859      0.391      -0.040       0.016\n",
       "lspline(eduyears, [8, 18])[0]    -0.0030      0.033     -0.090      0.928      -0.068       0.062\n",
       "lspline(eduyears, [8, 18])[1]     0.0791      0.016      5.022      0.000       0.048       0.110\n",
       "lspline(eduyears, [8, 18])[2]    -0.0457      0.055     -0.825      0.410      -0.154       0.063\n",
       "income10                          0.0356      0.015      2.452      0.014       0.007       0.064\n",
       "lspline(bmi, [35])[0]            -0.0575      0.011     -5.033      0.000      -0.080      -0.035\n",
       "lspline(bmi, [35])[1]             0.0311      0.071      0.439      0.661      -0.108       0.170\n",
       "exerc                             0.2548      0.079      3.229      0.001       0.100       0.410\n",
       "=================================================================================================\n",
       "\"\"\""
      ]
     },
     "execution_count": 60,
     "metadata": {},
     "output_type": "execute_result"
    }
   ],
   "source": [
    "logit_result.summary()\n"
   ]
  },
  {
   "cell_type": "code",
   "execution_count": 61,
   "metadata": {},
   "outputs": [],
   "source": [
    "logit_margef_results = logit_result.get_margeff()\n"
   ]
  },
  {
   "cell_type": "code",
   "execution_count": 62,
   "metadata": {},
   "outputs": [
    {
     "data": {
      "text/html": [
       "<table class=\"simpletable\">\n",
       "<caption>Logit Marginal Effects</caption>\n",
       "<tr>\n",
       "  <th>Dep. Variable:</th> <td>stayshealthy</td>\n",
       "</tr>\n",
       "<tr>\n",
       "  <th>Method:</th>            <td>dydx</td>    \n",
       "</tr>\n",
       "<tr>\n",
       "  <th>At:</th>               <td>overall</td>  \n",
       "</tr>\n",
       "</table>\n",
       "<table class=\"simpletable\">\n",
       "<tr>\n",
       "                <th></th>                   <th>dy/dx</th>    <th>std err</th>      <th>z</th>      <th>P>|z|</th>  <th>[0.025</th>    <th>0.975]</th>  \n",
       "</tr>\n",
       "<tr>\n",
       "  <th>country[T.12]</th>                 <td>   -0.2106</td> <td>    0.070</td> <td>   -2.993</td> <td> 0.003</td> <td>   -0.349</td> <td>   -0.073</td>\n",
       "</tr>\n",
       "<tr>\n",
       "  <th>country[T.13]</th>                 <td>   -0.0423</td> <td>    0.059</td> <td>   -0.714</td> <td> 0.475</td> <td>   -0.158</td> <td>    0.074</td>\n",
       "</tr>\n",
       "<tr>\n",
       "  <th>country[T.15]</th>                 <td>   -0.1406</td> <td>    0.041</td> <td>   -3.406</td> <td> 0.001</td> <td>   -0.221</td> <td>   -0.060</td>\n",
       "</tr>\n",
       "<tr>\n",
       "  <th>country[T.16]</th>                 <td>   -0.2399</td> <td>    0.039</td> <td>   -6.191</td> <td> 0.000</td> <td>   -0.316</td> <td>   -0.164</td>\n",
       "</tr>\n",
       "<tr>\n",
       "  <th>country[T.17]</th>                 <td>   -0.1682</td> <td>    0.036</td> <td>   -4.701</td> <td> 0.000</td> <td>   -0.238</td> <td>   -0.098</td>\n",
       "</tr>\n",
       "<tr>\n",
       "  <th>country[T.18]</th>                 <td>    0.0934</td> <td>    0.039</td> <td>    2.417</td> <td> 0.016</td> <td>    0.018</td> <td>    0.169</td>\n",
       "</tr>\n",
       "<tr>\n",
       "  <th>country[T.20]</th>                 <td>    0.0146</td> <td>    0.034</td> <td>    0.427</td> <td> 0.670</td> <td>   -0.052</td> <td>    0.081</td>\n",
       "</tr>\n",
       "<tr>\n",
       "  <th>country[T.23]</th>                 <td>   -0.1229</td> <td>    0.033</td> <td>   -3.678</td> <td> 0.000</td> <td>   -0.188</td> <td>   -0.057</td>\n",
       "</tr>\n",
       "<tr>\n",
       "  <th>country[T.28]</th>                 <td>   -0.1618</td> <td>    0.037</td> <td>   -4.345</td> <td> 0.000</td> <td>   -0.235</td> <td>   -0.089</td>\n",
       "</tr>\n",
       "<tr>\n",
       "  <th>country[T.29]</th>                 <td>   -0.3152</td> <td>    0.084</td> <td>   -3.751</td> <td> 0.000</td> <td>   -0.480</td> <td>   -0.150</td>\n",
       "</tr>\n",
       "<tr>\n",
       "  <th>country[T.33]</th>                 <td>   -0.3382</td> <td>    0.063</td> <td>   -5.332</td> <td> 0.000</td> <td>   -0.463</td> <td>   -0.214</td>\n",
       "</tr>\n",
       "<tr>\n",
       "  <th>country[T.34]</th>                 <td>   -0.1972</td> <td>    0.043</td> <td>   -4.538</td> <td> 0.000</td> <td>   -0.282</td> <td>   -0.112</td>\n",
       "</tr>\n",
       "<tr>\n",
       "  <th>country[T.35]</th>                 <td>   -0.2901</td> <td>    0.044</td> <td>   -6.582</td> <td> 0.000</td> <td>   -0.376</td> <td>   -0.204</td>\n",
       "</tr>\n",
       "<tr>\n",
       "  <th>smoking</th>                       <td>   -0.0609</td> <td>    0.023</td> <td>   -2.611</td> <td> 0.009</td> <td>   -0.107</td> <td>   -0.015</td>\n",
       "</tr>\n",
       "<tr>\n",
       "  <th>ever_smoked</th>                   <td>    0.0168</td> <td>    0.020</td> <td>    0.849</td> <td> 0.396</td> <td>   -0.022</td> <td>    0.055</td>\n",
       "</tr>\n",
       "<tr>\n",
       "  <th>female</th>                        <td>    0.0345</td> <td>    0.018</td> <td>    1.968</td> <td> 0.049</td> <td>    0.000</td> <td>    0.069</td>\n",
       "</tr>\n",
       "<tr>\n",
       "  <th>age</th>                           <td>   -0.0026</td> <td>    0.003</td> <td>   -0.859</td> <td> 0.390</td> <td>   -0.009</td> <td>    0.003</td>\n",
       "</tr>\n",
       "<tr>\n",
       "  <th>lspline(eduyears, [8, 18])[0]</th> <td>   -0.0006</td> <td>    0.007</td> <td>   -0.090</td> <td> 0.928</td> <td>   -0.015</td> <td>    0.013</td>\n",
       "</tr>\n",
       "<tr>\n",
       "  <th>lspline(eduyears, [8, 18])[1]</th> <td>    0.0170</td> <td>    0.003</td> <td>    5.097</td> <td> 0.000</td> <td>    0.010</td> <td>    0.023</td>\n",
       "</tr>\n",
       "<tr>\n",
       "  <th>lspline(eduyears, [8, 18])[2]</th> <td>   -0.0098</td> <td>    0.012</td> <td>   -0.825</td> <td> 0.409</td> <td>   -0.033</td> <td>    0.013</td>\n",
       "</tr>\n",
       "<tr>\n",
       "  <th>income10</th>                      <td>    0.0076</td> <td>    0.003</td> <td>    2.461</td> <td> 0.014</td> <td>    0.002</td> <td>    0.014</td>\n",
       "</tr>\n",
       "<tr>\n",
       "  <th>lspline(bmi, [35])[0]</th>         <td>   -0.0123</td> <td>    0.002</td> <td>   -5.109</td> <td> 0.000</td> <td>   -0.017</td> <td>   -0.008</td>\n",
       "</tr>\n",
       "<tr>\n",
       "  <th>lspline(bmi, [35])[1]</th>         <td>    0.0067</td> <td>    0.015</td> <td>    0.439</td> <td> 0.661</td> <td>   -0.023</td> <td>    0.036</td>\n",
       "</tr>\n",
       "<tr>\n",
       "  <th>exerc</th>                         <td>    0.0546</td> <td>    0.017</td> <td>    3.248</td> <td> 0.001</td> <td>    0.022</td> <td>    0.088</td>\n",
       "</tr>\n",
       "</table>"
      ],
      "text/plain": [
       "<class 'statsmodels.iolib.summary.Summary'>\n",
       "\"\"\"\n",
       "        Logit Marginal Effects       \n",
       "=====================================\n",
       "Dep. Variable:           stayshealthy\n",
       "Method:                          dydx\n",
       "At:                           overall\n",
       "=================================================================================================\n",
       "                                   dy/dx    std err          z      P>|z|      [0.025      0.975]\n",
       "-------------------------------------------------------------------------------------------------\n",
       "country[T.12]                    -0.2106      0.070     -2.993      0.003      -0.349      -0.073\n",
       "country[T.13]                    -0.0423      0.059     -0.714      0.475      -0.158       0.074\n",
       "country[T.15]                    -0.1406      0.041     -3.406      0.001      -0.221      -0.060\n",
       "country[T.16]                    -0.2399      0.039     -6.191      0.000      -0.316      -0.164\n",
       "country[T.17]                    -0.1682      0.036     -4.701      0.000      -0.238      -0.098\n",
       "country[T.18]                     0.0934      0.039      2.417      0.016       0.018       0.169\n",
       "country[T.20]                     0.0146      0.034      0.427      0.670      -0.052       0.081\n",
       "country[T.23]                    -0.1229      0.033     -3.678      0.000      -0.188      -0.057\n",
       "country[T.28]                    -0.1618      0.037     -4.345      0.000      -0.235      -0.089\n",
       "country[T.29]                    -0.3152      0.084     -3.751      0.000      -0.480      -0.150\n",
       "country[T.33]                    -0.3382      0.063     -5.332      0.000      -0.463      -0.214\n",
       "country[T.34]                    -0.1972      0.043     -4.538      0.000      -0.282      -0.112\n",
       "country[T.35]                    -0.2901      0.044     -6.582      0.000      -0.376      -0.204\n",
       "smoking                          -0.0609      0.023     -2.611      0.009      -0.107      -0.015\n",
       "ever_smoked                       0.0168      0.020      0.849      0.396      -0.022       0.055\n",
       "female                            0.0345      0.018      1.968      0.049       0.000       0.069\n",
       "age                              -0.0026      0.003     -0.859      0.390      -0.009       0.003\n",
       "lspline(eduyears, [8, 18])[0]    -0.0006      0.007     -0.090      0.928      -0.015       0.013\n",
       "lspline(eduyears, [8, 18])[1]     0.0170      0.003      5.097      0.000       0.010       0.023\n",
       "lspline(eduyears, [8, 18])[2]    -0.0098      0.012     -0.825      0.409      -0.033       0.013\n",
       "income10                          0.0076      0.003      2.461      0.014       0.002       0.014\n",
       "lspline(bmi, [35])[0]            -0.0123      0.002     -5.109      0.000      -0.017      -0.008\n",
       "lspline(bmi, [35])[1]             0.0067      0.015      0.439      0.661      -0.023       0.036\n",
       "exerc                             0.0546      0.017      3.248      0.001       0.022       0.088\n",
       "=================================================================================================\n",
       "\"\"\""
      ]
     },
     "execution_count": 62,
     "metadata": {},
     "output_type": "execute_result"
    }
   ],
   "source": [
    "logit_margef_results.summary()\n"
   ]
  },
  {
   "cell_type": "code",
   "execution_count": 63,
   "metadata": {},
   "outputs": [],
   "source": [
    "probit = sm.Probit(y, X)\n"
   ]
  },
  {
   "cell_type": "code",
   "execution_count": 64,
   "metadata": {},
   "outputs": [
    {
     "name": "stdout",
     "output_type": "stream",
     "text": [
      "Optimization terminated successfully.\n",
      "         Current function value: 0.617255\n",
      "         Iterations 5\n"
     ]
    }
   ],
   "source": [
    "probit_result = probit.fit()\n"
   ]
  },
  {
   "cell_type": "code",
   "execution_count": 65,
   "metadata": {},
   "outputs": [
    {
     "data": {
      "text/html": [
       "<table class=\"simpletable\">\n",
       "<caption>Probit Regression Results</caption>\n",
       "<tr>\n",
       "  <th>Dep. Variable:</th>     <td>stayshealthy</td>   <th>  No. Observations:  </th>  <td>  3109</td>  \n",
       "</tr>\n",
       "<tr>\n",
       "  <th>Model:</th>                <td>Probit</td>      <th>  Df Residuals:      </th>  <td>  3084</td>  \n",
       "</tr>\n",
       "<tr>\n",
       "  <th>Method:</th>                 <td>MLE</td>       <th>  Df Model:          </th>  <td>    24</td>  \n",
       "</tr>\n",
       "<tr>\n",
       "  <th>Date:</th>            <td>Wed, 03 May 2023</td> <th>  Pseudo R-squ.:     </th>  <td>0.08018</td> \n",
       "</tr>\n",
       "<tr>\n",
       "  <th>Time:</th>                <td>14:45:39</td>     <th>  Log-Likelihood:    </th> <td> -1919.0</td> \n",
       "</tr>\n",
       "<tr>\n",
       "  <th>converged:</th>             <td>True</td>       <th>  LL-Null:           </th> <td> -2086.3</td> \n",
       "</tr>\n",
       "<tr>\n",
       "  <th>Covariance Type:</th>     <td>nonrobust</td>    <th>  LLR p-value:       </th> <td>1.722e-56</td>\n",
       "</tr>\n",
       "</table>\n",
       "<table class=\"simpletable\">\n",
       "<tr>\n",
       "                <td></td>                   <th>coef</th>     <th>std err</th>      <th>z</th>      <th>P>|z|</th>  <th>[0.025</th>    <th>0.975]</th>  \n",
       "</tr>\n",
       "<tr>\n",
       "  <th>Intercept</th>                     <td>    1.4340</td> <td>    0.540</td> <td>    2.656</td> <td> 0.008</td> <td>    0.376</td> <td>    2.492</td>\n",
       "</tr>\n",
       "<tr>\n",
       "  <th>country[T.12]</th>                 <td>   -0.5952</td> <td>    0.203</td> <td>   -2.926</td> <td> 0.003</td> <td>   -0.994</td> <td>   -0.197</td>\n",
       "</tr>\n",
       "<tr>\n",
       "  <th>country[T.13]</th>                 <td>   -0.1128</td> <td>    0.166</td> <td>   -0.678</td> <td> 0.498</td> <td>   -0.439</td> <td>    0.213</td>\n",
       "</tr>\n",
       "<tr>\n",
       "  <th>country[T.15]</th>                 <td>   -0.4007</td> <td>    0.119</td> <td>   -3.368</td> <td> 0.001</td> <td>   -0.634</td> <td>   -0.167</td>\n",
       "</tr>\n",
       "<tr>\n",
       "  <th>country[T.16]</th>                 <td>   -0.6872</td> <td>    0.113</td> <td>   -6.082</td> <td> 0.000</td> <td>   -0.909</td> <td>   -0.466</td>\n",
       "</tr>\n",
       "<tr>\n",
       "  <th>country[T.17]</th>                 <td>   -0.4761</td> <td>    0.103</td> <td>   -4.615</td> <td> 0.000</td> <td>   -0.678</td> <td>   -0.274</td>\n",
       "</tr>\n",
       "<tr>\n",
       "  <th>country[T.18]</th>                 <td>    0.2573</td> <td>    0.105</td> <td>    2.440</td> <td> 0.015</td> <td>    0.051</td> <td>    0.464</td>\n",
       "</tr>\n",
       "<tr>\n",
       "  <th>country[T.20]</th>                 <td>    0.0425</td> <td>    0.096</td> <td>    0.445</td> <td> 0.657</td> <td>   -0.145</td> <td>    0.230</td>\n",
       "</tr>\n",
       "<tr>\n",
       "  <th>country[T.23]</th>                 <td>   -0.3450</td> <td>    0.095</td> <td>   -3.622</td> <td> 0.000</td> <td>   -0.532</td> <td>   -0.158</td>\n",
       "</tr>\n",
       "<tr>\n",
       "  <th>country[T.28]</th>                 <td>   -0.4579</td> <td>    0.108</td> <td>   -4.252</td> <td> 0.000</td> <td>   -0.669</td> <td>   -0.247</td>\n",
       "</tr>\n",
       "<tr>\n",
       "  <th>country[T.29]</th>                 <td>   -0.8784</td> <td>    0.235</td> <td>   -3.740</td> <td> 0.000</td> <td>   -1.339</td> <td>   -0.418</td>\n",
       "</tr>\n",
       "<tr>\n",
       "  <th>country[T.33]</th>                 <td>   -0.9741</td> <td>    0.182</td> <td>   -5.359</td> <td> 0.000</td> <td>   -1.330</td> <td>   -0.618</td>\n",
       "</tr>\n",
       "<tr>\n",
       "  <th>country[T.34]</th>                 <td>   -0.5592</td> <td>    0.126</td> <td>   -4.426</td> <td> 0.000</td> <td>   -0.807</td> <td>   -0.312</td>\n",
       "</tr>\n",
       "<tr>\n",
       "  <th>country[T.35]</th>                 <td>   -0.8280</td> <td>    0.129</td> <td>   -6.407</td> <td> 0.000</td> <td>   -1.081</td> <td>   -0.575</td>\n",
       "</tr>\n",
       "<tr>\n",
       "  <th>smoking</th>                       <td>   -0.1705</td> <td>    0.066</td> <td>   -2.568</td> <td> 0.010</td> <td>   -0.301</td> <td>   -0.040</td>\n",
       "</tr>\n",
       "<tr>\n",
       "  <th>ever_smoked</th>                   <td>    0.0443</td> <td>    0.056</td> <td>    0.793</td> <td> 0.428</td> <td>   -0.065</td> <td>    0.154</td>\n",
       "</tr>\n",
       "<tr>\n",
       "  <th>female</th>                        <td>    0.0973</td> <td>    0.050</td> <td>    1.953</td> <td> 0.051</td> <td>   -0.000</td> <td>    0.195</td>\n",
       "</tr>\n",
       "<tr>\n",
       "  <th>age</th>                           <td>   -0.0083</td> <td>    0.009</td> <td>   -0.955</td> <td> 0.339</td> <td>   -0.025</td> <td>    0.009</td>\n",
       "</tr>\n",
       "<tr>\n",
       "  <th>lspline(eduyears, [8, 18])[0]</th> <td>   -0.0021</td> <td>    0.020</td> <td>   -0.102</td> <td> 0.918</td> <td>   -0.041</td> <td>    0.037</td>\n",
       "</tr>\n",
       "<tr>\n",
       "  <th>lspline(eduyears, [8, 18])[1]</th> <td>    0.0478</td> <td>    0.010</td> <td>    5.015</td> <td> 0.000</td> <td>    0.029</td> <td>    0.066</td>\n",
       "</tr>\n",
       "<tr>\n",
       "  <th>lspline(eduyears, [8, 18])[2]</th> <td>   -0.0286</td> <td>    0.033</td> <td>   -0.864</td> <td> 0.388</td> <td>   -0.093</td> <td>    0.036</td>\n",
       "</tr>\n",
       "<tr>\n",
       "  <th>income10</th>                      <td>    0.0216</td> <td>    0.009</td> <td>    2.446</td> <td> 0.014</td> <td>    0.004</td> <td>    0.039</td>\n",
       "</tr>\n",
       "<tr>\n",
       "  <th>lspline(bmi, [35])[0]</th>         <td>   -0.0346</td> <td>    0.007</td> <td>   -5.002</td> <td> 0.000</td> <td>   -0.048</td> <td>   -0.021</td>\n",
       "</tr>\n",
       "<tr>\n",
       "  <th>lspline(bmi, [35])[1]</th>         <td>    0.0169</td> <td>    0.044</td> <td>    0.388</td> <td> 0.698</td> <td>   -0.069</td> <td>    0.102</td>\n",
       "</tr>\n",
       "<tr>\n",
       "  <th>exerc</th>                         <td>    0.1510</td> <td>    0.048</td> <td>    3.148</td> <td> 0.002</td> <td>    0.057</td> <td>    0.245</td>\n",
       "</tr>\n",
       "</table>"
      ],
      "text/plain": [
       "<class 'statsmodels.iolib.summary.Summary'>\n",
       "\"\"\"\n",
       "                          Probit Regression Results                           \n",
       "==============================================================================\n",
       "Dep. Variable:           stayshealthy   No. Observations:                 3109\n",
       "Model:                         Probit   Df Residuals:                     3084\n",
       "Method:                           MLE   Df Model:                           24\n",
       "Date:                Wed, 03 May 2023   Pseudo R-squ.:                 0.08018\n",
       "Time:                        14:45:39   Log-Likelihood:                -1919.0\n",
       "converged:                       True   LL-Null:                       -2086.3\n",
       "Covariance Type:            nonrobust   LLR p-value:                 1.722e-56\n",
       "=================================================================================================\n",
       "                                    coef    std err          z      P>|z|      [0.025      0.975]\n",
       "-------------------------------------------------------------------------------------------------\n",
       "Intercept                         1.4340      0.540      2.656      0.008       0.376       2.492\n",
       "country[T.12]                    -0.5952      0.203     -2.926      0.003      -0.994      -0.197\n",
       "country[T.13]                    -0.1128      0.166     -0.678      0.498      -0.439       0.213\n",
       "country[T.15]                    -0.4007      0.119     -3.368      0.001      -0.634      -0.167\n",
       "country[T.16]                    -0.6872      0.113     -6.082      0.000      -0.909      -0.466\n",
       "country[T.17]                    -0.4761      0.103     -4.615      0.000      -0.678      -0.274\n",
       "country[T.18]                     0.2573      0.105      2.440      0.015       0.051       0.464\n",
       "country[T.20]                     0.0425      0.096      0.445      0.657      -0.145       0.230\n",
       "country[T.23]                    -0.3450      0.095     -3.622      0.000      -0.532      -0.158\n",
       "country[T.28]                    -0.4579      0.108     -4.252      0.000      -0.669      -0.247\n",
       "country[T.29]                    -0.8784      0.235     -3.740      0.000      -1.339      -0.418\n",
       "country[T.33]                    -0.9741      0.182     -5.359      0.000      -1.330      -0.618\n",
       "country[T.34]                    -0.5592      0.126     -4.426      0.000      -0.807      -0.312\n",
       "country[T.35]                    -0.8280      0.129     -6.407      0.000      -1.081      -0.575\n",
       "smoking                          -0.1705      0.066     -2.568      0.010      -0.301      -0.040\n",
       "ever_smoked                       0.0443      0.056      0.793      0.428      -0.065       0.154\n",
       "female                            0.0973      0.050      1.953      0.051      -0.000       0.195\n",
       "age                              -0.0083      0.009     -0.955      0.339      -0.025       0.009\n",
       "lspline(eduyears, [8, 18])[0]    -0.0021      0.020     -0.102      0.918      -0.041       0.037\n",
       "lspline(eduyears, [8, 18])[1]     0.0478      0.010      5.015      0.000       0.029       0.066\n",
       "lspline(eduyears, [8, 18])[2]    -0.0286      0.033     -0.864      0.388      -0.093       0.036\n",
       "income10                          0.0216      0.009      2.446      0.014       0.004       0.039\n",
       "lspline(bmi, [35])[0]            -0.0346      0.007     -5.002      0.000      -0.048      -0.021\n",
       "lspline(bmi, [35])[1]             0.0169      0.044      0.388      0.698      -0.069       0.102\n",
       "exerc                             0.1510      0.048      3.148      0.002       0.057       0.245\n",
       "=================================================================================================\n",
       "\"\"\""
      ]
     },
     "execution_count": 65,
     "metadata": {},
     "output_type": "execute_result"
    }
   ],
   "source": [
    "probit_result.summary()\n"
   ]
  },
  {
   "cell_type": "code",
   "execution_count": 66,
   "metadata": {},
   "outputs": [],
   "source": [
    "share[\"pred_probit\"] = probit_result.predict()\n"
   ]
  },
  {
   "cell_type": "code",
   "execution_count": 67,
   "metadata": {},
   "outputs": [
    {
     "data": {
      "text/plain": [
       "count    3109.000000\n",
       "mean        0.604763\n",
       "std         0.156611\n",
       "min         0.103114\n",
       "25%         0.498824\n",
       "50%         0.612903\n",
       "75%         0.720459\n",
       "max         0.930006\n",
       "Name: pred_probit, dtype: float64"
      ]
     },
     "execution_count": 67,
     "metadata": {},
     "output_type": "execute_result"
    }
   ],
   "source": [
    "share[\"pred_probit\"].describe()\n"
   ]
  },
  {
   "cell_type": "code",
   "execution_count": 68,
   "metadata": {},
   "outputs": [],
   "source": [
    "probit_margef_results = probit_result.get_margeff()\n"
   ]
  },
  {
   "cell_type": "code",
   "execution_count": 69,
   "metadata": {},
   "outputs": [
    {
     "data": {
      "text/html": [
       "<table class=\"simpletable\">\n",
       "<caption>Probit Marginal Effects</caption>\n",
       "<tr>\n",
       "  <th>Dep. Variable:</th> <td>stayshealthy</td>\n",
       "</tr>\n",
       "<tr>\n",
       "  <th>Method:</th>            <td>dydx</td>    \n",
       "</tr>\n",
       "<tr>\n",
       "  <th>At:</th>               <td>overall</td>  \n",
       "</tr>\n",
       "</table>\n",
       "<table class=\"simpletable\">\n",
       "<tr>\n",
       "                <th></th>                   <th>dy/dx</th>    <th>std err</th>      <th>z</th>      <th>P>|z|</th>  <th>[0.025</th>    <th>0.975]</th>  \n",
       "</tr>\n",
       "<tr>\n",
       "  <th>country[T.12]</th>                 <td>   -0.2096</td> <td>    0.071</td> <td>   -2.938</td> <td> 0.003</td> <td>   -0.349</td> <td>   -0.070</td>\n",
       "</tr>\n",
       "<tr>\n",
       "  <th>country[T.13]</th>                 <td>   -0.0397</td> <td>    0.059</td> <td>   -0.678</td> <td> 0.498</td> <td>   -0.155</td> <td>    0.075</td>\n",
       "</tr>\n",
       "<tr>\n",
       "  <th>country[T.15]</th>                 <td>   -0.1411</td> <td>    0.042</td> <td>   -3.386</td> <td> 0.001</td> <td>   -0.223</td> <td>   -0.059</td>\n",
       "</tr>\n",
       "<tr>\n",
       "  <th>country[T.16]</th>                 <td>   -0.2420</td> <td>    0.039</td> <td>   -6.193</td> <td> 0.000</td> <td>   -0.319</td> <td>   -0.165</td>\n",
       "</tr>\n",
       "<tr>\n",
       "  <th>country[T.17]</th>                 <td>   -0.1677</td> <td>    0.036</td> <td>   -4.662</td> <td> 0.000</td> <td>   -0.238</td> <td>   -0.097</td>\n",
       "</tr>\n",
       "<tr>\n",
       "  <th>country[T.18]</th>                 <td>    0.0906</td> <td>    0.037</td> <td>    2.446</td> <td> 0.014</td> <td>    0.018</td> <td>    0.163</td>\n",
       "</tr>\n",
       "<tr>\n",
       "  <th>country[T.20]</th>                 <td>    0.0150</td> <td>    0.034</td> <td>    0.445</td> <td> 0.656</td> <td>   -0.051</td> <td>    0.081</td>\n",
       "</tr>\n",
       "<tr>\n",
       "  <th>country[T.23]</th>                 <td>   -0.1215</td> <td>    0.033</td> <td>   -3.643</td> <td> 0.000</td> <td>   -0.187</td> <td>   -0.056</td>\n",
       "</tr>\n",
       "<tr>\n",
       "  <th>country[T.28]</th>                 <td>   -0.1613</td> <td>    0.038</td> <td>   -4.288</td> <td> 0.000</td> <td>   -0.235</td> <td>   -0.088</td>\n",
       "</tr>\n",
       "<tr>\n",
       "  <th>country[T.29]</th>                 <td>   -0.3094</td> <td>    0.082</td> <td>   -3.764</td> <td> 0.000</td> <td>   -0.470</td> <td>   -0.148</td>\n",
       "</tr>\n",
       "<tr>\n",
       "  <th>country[T.33]</th>                 <td>   -0.3430</td> <td>    0.063</td> <td>   -5.435</td> <td> 0.000</td> <td>   -0.467</td> <td>   -0.219</td>\n",
       "</tr>\n",
       "<tr>\n",
       "  <th>country[T.34]</th>                 <td>   -0.1969</td> <td>    0.044</td> <td>   -4.468</td> <td> 0.000</td> <td>   -0.283</td> <td>   -0.111</td>\n",
       "</tr>\n",
       "<tr>\n",
       "  <th>country[T.35]</th>                 <td>   -0.2916</td> <td>    0.045</td> <td>   -6.536</td> <td> 0.000</td> <td>   -0.379</td> <td>   -0.204</td>\n",
       "</tr>\n",
       "<tr>\n",
       "  <th>smoking</th>                       <td>   -0.0601</td> <td>    0.023</td> <td>   -2.575</td> <td> 0.010</td> <td>   -0.106</td> <td>   -0.014</td>\n",
       "</tr>\n",
       "<tr>\n",
       "  <th>ever_smoked</th>                   <td>    0.0156</td> <td>    0.020</td> <td>    0.793</td> <td> 0.428</td> <td>   -0.023</td> <td>    0.054</td>\n",
       "</tr>\n",
       "<tr>\n",
       "  <th>female</th>                        <td>    0.0343</td> <td>    0.018</td> <td>    1.957</td> <td> 0.050</td> <td>-5.49e-05</td> <td>    0.069</td>\n",
       "</tr>\n",
       "<tr>\n",
       "  <th>age</th>                           <td>   -0.0029</td> <td>    0.003</td> <td>   -0.956</td> <td> 0.339</td> <td>   -0.009</td> <td>    0.003</td>\n",
       "</tr>\n",
       "<tr>\n",
       "  <th>lspline(eduyears, [8, 18])[0]</th> <td>   -0.0007</td> <td>    0.007</td> <td>   -0.102</td> <td> 0.918</td> <td>   -0.015</td> <td>    0.013</td>\n",
       "</tr>\n",
       "<tr>\n",
       "  <th>lspline(eduyears, [8, 18])[1]</th> <td>    0.0168</td> <td>    0.003</td> <td>    5.074</td> <td> 0.000</td> <td>    0.010</td> <td>    0.023</td>\n",
       "</tr>\n",
       "<tr>\n",
       "  <th>lspline(eduyears, [8, 18])[2]</th> <td>   -0.0101</td> <td>    0.012</td> <td>   -0.864</td> <td> 0.387</td> <td>   -0.033</td> <td>    0.013</td>\n",
       "</tr>\n",
       "<tr>\n",
       "  <th>income10</th>                      <td>    0.0076</td> <td>    0.003</td> <td>    2.453</td> <td> 0.014</td> <td>    0.002</td> <td>    0.014</td>\n",
       "</tr>\n",
       "<tr>\n",
       "  <th>lspline(bmi, [35])[0]</th>         <td>   -0.0122</td> <td>    0.002</td> <td>   -5.060</td> <td> 0.000</td> <td>   -0.017</td> <td>   -0.007</td>\n",
       "</tr>\n",
       "<tr>\n",
       "  <th>lspline(bmi, [35])[1]</th>         <td>    0.0060</td> <td>    0.015</td> <td>    0.388</td> <td> 0.698</td> <td>   -0.024</td> <td>    0.036</td>\n",
       "</tr>\n",
       "<tr>\n",
       "  <th>exerc</th>                         <td>    0.0532</td> <td>    0.017</td> <td>    3.161</td> <td> 0.002</td> <td>    0.020</td> <td>    0.086</td>\n",
       "</tr>\n",
       "</table>"
      ],
      "text/plain": [
       "<class 'statsmodels.iolib.summary.Summary'>\n",
       "\"\"\"\n",
       "       Probit Marginal Effects       \n",
       "=====================================\n",
       "Dep. Variable:           stayshealthy\n",
       "Method:                          dydx\n",
       "At:                           overall\n",
       "=================================================================================================\n",
       "                                   dy/dx    std err          z      P>|z|      [0.025      0.975]\n",
       "-------------------------------------------------------------------------------------------------\n",
       "country[T.12]                    -0.2096      0.071     -2.938      0.003      -0.349      -0.070\n",
       "country[T.13]                    -0.0397      0.059     -0.678      0.498      -0.155       0.075\n",
       "country[T.15]                    -0.1411      0.042     -3.386      0.001      -0.223      -0.059\n",
       "country[T.16]                    -0.2420      0.039     -6.193      0.000      -0.319      -0.165\n",
       "country[T.17]                    -0.1677      0.036     -4.662      0.000      -0.238      -0.097\n",
       "country[T.18]                     0.0906      0.037      2.446      0.014       0.018       0.163\n",
       "country[T.20]                     0.0150      0.034      0.445      0.656      -0.051       0.081\n",
       "country[T.23]                    -0.1215      0.033     -3.643      0.000      -0.187      -0.056\n",
       "country[T.28]                    -0.1613      0.038     -4.288      0.000      -0.235      -0.088\n",
       "country[T.29]                    -0.3094      0.082     -3.764      0.000      -0.470      -0.148\n",
       "country[T.33]                    -0.3430      0.063     -5.435      0.000      -0.467      -0.219\n",
       "country[T.34]                    -0.1969      0.044     -4.468      0.000      -0.283      -0.111\n",
       "country[T.35]                    -0.2916      0.045     -6.536      0.000      -0.379      -0.204\n",
       "smoking                          -0.0601      0.023     -2.575      0.010      -0.106      -0.014\n",
       "ever_smoked                       0.0156      0.020      0.793      0.428      -0.023       0.054\n",
       "female                            0.0343      0.018      1.957      0.050   -5.49e-05       0.069\n",
       "age                              -0.0029      0.003     -0.956      0.339      -0.009       0.003\n",
       "lspline(eduyears, [8, 18])[0]    -0.0007      0.007     -0.102      0.918      -0.015       0.013\n",
       "lspline(eduyears, [8, 18])[1]     0.0168      0.003      5.074      0.000       0.010       0.023\n",
       "lspline(eduyears, [8, 18])[2]    -0.0101      0.012     -0.864      0.387      -0.033       0.013\n",
       "income10                          0.0076      0.003      2.453      0.014       0.002       0.014\n",
       "lspline(bmi, [35])[0]            -0.0122      0.002     -5.060      0.000      -0.017      -0.007\n",
       "lspline(bmi, [35])[1]             0.0060      0.015      0.388      0.698      -0.024       0.036\n",
       "exerc                             0.0532      0.017      3.161      0.002       0.020       0.086\n",
       "=================================================================================================\n",
       "\"\"\""
      ]
     },
     "execution_count": 69,
     "metadata": {},
     "output_type": "execute_result"
    }
   ],
   "source": [
    "probit_margef_results.summary()\n"
   ]
  },
  {
   "cell_type": "code",
   "execution_count": 70,
   "metadata": {},
   "outputs": [],
   "source": [
    "df_plot = pd.melt(\n",
    "    share[[\"pred_lpm\", \"pred_logit\", \"pred_probit\"]].rename(\n",
    "        columns={\"pred_logit\": \"Logit\", \"pred_probit\": \"Probit\"}\n",
    "    ),\n",
    "    value_vars=[\"Logit\", \"Probit\"],\n",
    "    id_vars=[\"pred_lpm\"],\n",
    ").sort_values(by=[\"variable\"], ascending=False)\n"
   ]
  },
  {
   "cell_type": "markdown",
   "metadata": {},
   "source": [
    "### Figure 11.5 Predicted probabilities from three different models"
   ]
  },
  {
   "cell_type": "code",
   "execution_count": 71,
   "metadata": {},
   "outputs": [
    {
     "data": {
      "image/png": "[encoded data removed]",
      "text/plain": [
       "<Figure size 640x480 with 1 Axes>"
      ]
     },
     "metadata": {},
     "output_type": "display_data"
    },
    {
     "data": {
      "text/plain": [
       "<ggplot: (8760283665133)>"
      ]
     },
     "execution_count": 71,
     "metadata": {},
     "output_type": "execute_result"
    }
   ],
   "source": [
    "g5 = (\n",
    "    ggplot(df_plot, aes(x=\"pred_lpm\", y=\"value\", color=\"variable\"))\n",
    "    + geom_point(size=0.6)\n",
    "    + geom_abline(color=color[2], intercept=0, slope=1, size=1)\n",
    "    + labs(\n",
    "        x=\"Predicted probability of staying healthy (LPM)\", y=\"Predicted probability\"\n",
    "    )\n",
    "    + scale_y_continuous(expand=[0.00, 0.0], limits=[0, 1], breaks=seq(0, 1.1, 0.1))\n",
    "    + scale_x_continuous(expand=[0.00, 0.0], limits=[0, 1], breaks=seq(0, 1.1, 0.1))\n",
    "    + scale_color_manual(values=[color[0], color[1]])\n",
    "    + theme_bw()\n",
    "    + theme(\n",
    "        legend_title=element_blank(),\n",
    "        legend_direction=\"horizontal\",\n",
    "        legend_position=(0.75, 0.25),\n",
    "        legend_background=element_blank(),\n",
    "    )\n",
    ")\n",
    "g5"
   ]
  },
  {
   "cell_type": "markdown",
   "metadata": {},
   "source": [
    "# Part 5 goodness of fit"
   ]
  },
  {
   "cell_type": "code",
   "execution_count": 72,
   "metadata": {},
   "outputs": [],
   "source": [
    "lpmbase = smf.ols(\"stayshealthy ~ smoking\", data=share).fit()\n"
   ]
  },
  {
   "cell_type": "code",
   "execution_count": 73,
   "metadata": {},
   "outputs": [],
   "source": [
    "share[\"pred_lpmbase\"] = lpmbase.predict()\n"
   ]
  },
  {
   "cell_type": "markdown",
   "metadata": {},
   "source": [
    "### Figure 11.7 Staying healthy and the distribution of the predicted probability of staying healthy. Two linear probability model"
   ]
  },
  {
   "cell_type": "markdown",
   "metadata": {},
   "source": [
    "(a) Simple LPM"
   ]
  },
  {
   "cell_type": "code",
   "execution_count": 74,
   "metadata": {},
   "outputs": [
    {
     "data": {
      "image/png": "[encoded data removed]",
      "text/plain": [
       "<Figure size 640x480 with 1 Axes>"
      ]
     },
     "metadata": {},
     "output_type": "display_data"
    },
    {
     "data": {
      "text/plain": [
       "<ggplot: (8760266291101)>"
      ]
     },
     "execution_count": 74,
     "metadata": {},
     "output_type": "execute_result"
    }
   ],
   "source": [
    "(\n",
    "    ggplot(\n",
    "        share,\n",
    "        aes(x=\"pred_lpmbase\", fill=\"stayshealthy\", y=\"stat(count/sum(count)))*100\"),\n",
    "    )\n",
    "    + geom_histogram(\n",
    "        share[share[\"stayshealthy\"] == 1],\n",
    "        binwidth=0.05,\n",
    "        color=color[0],\n",
    "        fill=color[0],\n",
    "        boundary=0.55,\n",
    "    )\n",
    "    + geom_histogram(\n",
    "        share[share[\"stayshealthy\"] == 0],\n",
    "        binwidth=0.05,\n",
    "        color=color[1],\n",
    "        fill=None,\n",
    "        boundary=0.55,\n",
    "    )\n",
    "    + ylab(\"Percent\")\n",
    "    + xlab(\"Fitted values\")\n",
    "    + scale_x_continuous(expand=[0.01, 0.01], limits=[0, 1], breaks=seq(0, 1.1, 0.2))\n",
    "    + scale_y_continuous(expand=[0.00, 0.00], limits=[0, 80], breaks=seq(0, 81, 20))\n",
    "    + theme_bw()\n",
    ")"
   ]
  },
  {
   "cell_type": "markdown",
   "metadata": {},
   "source": [
    "(b) Rich LPM"
   ]
  },
  {
   "cell_type": "code",
   "execution_count": 75,
   "metadata": {},
   "outputs": [
    {
     "data": {
      "image/png": "[encoded data removed]",
      "text/plain": [
       "<Figure size 640x480 with 1 Axes>"
      ]
     },
     "metadata": {},
     "output_type": "display_data"
    },
    {
     "data": {
      "text/plain": [
       "<ggplot: (8760302105285)>"
      ]
     },
     "execution_count": 75,
     "metadata": {},
     "output_type": "execute_result"
    }
   ],
   "source": [
    "g7b = (\n",
    "    ggplot(\n",
    "        share,\n",
    "        aes(x=\"pred_lpm\", fill=\"stayshealthy\", y=\"stat(count/sum(count)))*100\"),\n",
    "    )\n",
    "    + geom_histogram(\n",
    "        share[share[\"stayshealthy\"] == 1],\n",
    "        binwidth=0.05,\n",
    "        # color=\"blue\",\n",
    "        fill=color[0],\n",
    "        boundary=0.55,\n",
    "    )\n",
    "    + geom_histogram(\n",
    "        share[share[\"stayshealthy\"] == 0],\n",
    "        binwidth=0.05,\n",
    "        color=color[1],\n",
    "        fill=None,\n",
    "        boundary=0.55,\n",
    "    )\n",
    "    + ylab(\"Percent\")\n",
    "    + xlab(\"Fitted values\")\n",
    "    + scale_x_continuous(expand=[0.01, 0.01], limits=[0, 1], breaks=seq(0, 1.1, 0.2))\n",
    "    + scale_y_continuous(expand=[0.00, 0.00], limits=[0, 20], breaks=seq(0, 21, 4))\n",
    "    + theme_bw()\n",
    ")\n",
    "g7b\n"
   ]
  },
  {
   "cell_type": "markdown",
   "metadata": {},
   "source": [
    "#### Table 11.4 Comparing probability models – mean and median"
   ]
  },
  {
   "cell_type": "code",
   "execution_count": 76,
   "metadata": {},
   "outputs": [
    {
     "data": {
      "text/html": [
       "<div>\n",
       "<style scoped>\n",
       "    .dataframe tbody tr th:only-of-type {\n",
       "        vertical-align: middle;\n",
       "    }\n",
       "\n",
       "    .dataframe tbody tr th {\n",
       "        vertical-align: top;\n",
       "    }\n",
       "\n",
       "    .dataframe thead th {\n",
       "        text-align: right;\n",
       "    }\n",
       "</style>\n",
       "<table border=\"1\" class=\"dataframe\">\n",
       "  <thead>\n",
       "    <tr style=\"text-align: right;\">\n",
       "      <th></th>\n",
       "      <th>pred_lpmbase</th>\n",
       "      <th>pred_lpm</th>\n",
       "      <th>pred_logit</th>\n",
       "      <th>pred_probit</th>\n",
       "    </tr>\n",
       "    <tr>\n",
       "      <th>stayshealthy</th>\n",
       "      <th></th>\n",
       "      <th></th>\n",
       "      <th></th>\n",
       "      <th></th>\n",
       "    </tr>\n",
       "  </thead>\n",
       "  <tbody>\n",
       "    <tr>\n",
       "      <th>0.0</th>\n",
       "      <td>0.603</td>\n",
       "      <td>0.543</td>\n",
       "      <td>0.542</td>\n",
       "      <td>0.542</td>\n",
       "    </tr>\n",
       "    <tr>\n",
       "      <th>1.0</th>\n",
       "      <td>0.606</td>\n",
       "      <td>0.645</td>\n",
       "      <td>0.646</td>\n",
       "      <td>0.646</td>\n",
       "    </tr>\n",
       "  </tbody>\n",
       "</table>\n",
       "</div>"
      ],
      "text/plain": [
       "              pred_lpmbase  pred_lpm  pred_logit  pred_probit\n",
       "stayshealthy                                                 \n",
       "0.0                  0.603     0.543       0.542        0.542\n",
       "1.0                  0.606     0.645       0.646        0.646"
      ]
     },
     "execution_count": 76,
     "metadata": {},
     "output_type": "execute_result"
    }
   ],
   "source": [
    "share.groupby(\"stayshealthy\")[\n",
    "    \"pred_lpmbase\", \"pred_lpm\", \"pred_logit\", \"pred_probit\"\n",
    "].mean().round(3)\n"
   ]
  },
  {
   "cell_type": "code",
   "execution_count": 77,
   "metadata": {},
   "outputs": [
    {
     "data": {
      "text/html": [
       "<div>\n",
       "<style scoped>\n",
       "    .dataframe tbody tr th:only-of-type {\n",
       "        vertical-align: middle;\n",
       "    }\n",
       "\n",
       "    .dataframe tbody tr th {\n",
       "        vertical-align: top;\n",
       "    }\n",
       "\n",
       "    .dataframe thead th {\n",
       "        text-align: right;\n",
       "    }\n",
       "</style>\n",
       "<table border=\"1\" class=\"dataframe\">\n",
       "  <thead>\n",
       "    <tr style=\"text-align: right;\">\n",
       "      <th></th>\n",
       "      <th>pred_lpmbase</th>\n",
       "      <th>pred_lpm</th>\n",
       "      <th>pred_logit</th>\n",
       "      <th>pred_probit</th>\n",
       "    </tr>\n",
       "    <tr>\n",
       "      <th>stayshealthy</th>\n",
       "      <th></th>\n",
       "      <th></th>\n",
       "      <th></th>\n",
       "      <th></th>\n",
       "    </tr>\n",
       "  </thead>\n",
       "  <tbody>\n",
       "    <tr>\n",
       "      <th>0.0</th>\n",
       "      <td>0.62</td>\n",
       "      <td>0.543</td>\n",
       "      <td>0.544</td>\n",
       "      <td>0.545</td>\n",
       "    </tr>\n",
       "    <tr>\n",
       "      <th>1.0</th>\n",
       "      <td>0.62</td>\n",
       "      <td>0.647</td>\n",
       "      <td>0.655</td>\n",
       "      <td>0.653</td>\n",
       "    </tr>\n",
       "  </tbody>\n",
       "</table>\n",
       "</div>"
      ],
      "text/plain": [
       "              pred_lpmbase  pred_lpm  pred_logit  pred_probit\n",
       "stayshealthy                                                 \n",
       "0.0                   0.62     0.543       0.544        0.545\n",
       "1.0                   0.62     0.647       0.655        0.653"
      ]
     },
     "execution_count": 77,
     "metadata": {},
     "output_type": "execute_result"
    }
   ],
   "source": [
    "share.groupby(\"stayshealthy\")[\n",
    "    \"pred_lpmbase\", \"pred_lpm\", \"pred_logit\", \"pred_probit\"\n",
    "].median().round(3)\n"
   ]
  },
  {
   "cell_type": "markdown",
   "metadata": {},
   "source": [
    "### Table 11.5 Statistics of goodness of fit for the probability predictions of three models"
   ]
  },
  {
   "cell_type": "code",
   "execution_count": 78,
   "metadata": {},
   "outputs": [
    {
     "data": {
      "text/html": [
       "<div>\n",
       "<style scoped>\n",
       "    .dataframe tbody tr th:only-of-type {\n",
       "        vertical-align: middle;\n",
       "    }\n",
       "\n",
       "    .dataframe tbody tr th {\n",
       "        vertical-align: top;\n",
       "    }\n",
       "\n",
       "    .dataframe thead th {\n",
       "        text-align: right;\n",
       "    }\n",
       "</style>\n",
       "<table border=\"1\" class=\"dataframe\">\n",
       "  <thead>\n",
       "    <tr style=\"text-align: right;\">\n",
       "      <th></th>\n",
       "      <th>LPM</th>\n",
       "      <th>Logit</th>\n",
       "      <th>Probit</th>\n",
       "    </tr>\n",
       "  </thead>\n",
       "  <tbody>\n",
       "    <tr>\n",
       "      <th>R-squared</th>\n",
       "      <td>0.103</td>\n",
       "      <td>0.104</td>\n",
       "      <td>0.104</td>\n",
       "    </tr>\n",
       "    <tr>\n",
       "      <th>Brier-score</th>\n",
       "      <td>0.215</td>\n",
       "      <td>0.214</td>\n",
       "      <td>0.214</td>\n",
       "    </tr>\n",
       "    <tr>\n",
       "      <th>Pseudo R-squared</th>\n",
       "      <td>NaN</td>\n",
       "      <td>0.080</td>\n",
       "      <td>0.080</td>\n",
       "    </tr>\n",
       "    <tr>\n",
       "      <th>Log-loss</th>\n",
       "      <td>-0.620</td>\n",
       "      <td>-0.617</td>\n",
       "      <td>-0.617</td>\n",
       "    </tr>\n",
       "  </tbody>\n",
       "</table>\n",
       "</div>"
      ],
      "text/plain": [
       "                    LPM  Logit  Probit\n",
       "R-squared         0.103  0.104   0.104\n",
       "Brier-score       0.215  0.214   0.214\n",
       "Pseudo R-squared    NaN  0.080   0.080\n",
       "Log-loss         -0.620 -0.617  -0.617"
      ]
     },
     "execution_count": 78,
     "metadata": {},
     "output_type": "execute_result"
    }
   ],
   "source": [
    "pd.DataFrame(\n",
    "    {\n",
    "        \"R-squared\": [\n",
    "            lpm3.rsquared,\n",
    "            r2_score(share[\"stayshealthy\"], share[\"pred_logit\"]),\n",
    "            r2_score(share[\"stayshealthy\"], share[\"pred_probit\"]),\n",
    "        ],\n",
    "        \"Brier-score\": [\n",
    "            mean_squared_error(share[\"stayshealthy\"], share[\"pred_lpm\"]),\n",
    "            mean_squared_error(share[\"stayshealthy\"], share[\"pred_logit\"]),\n",
    "            mean_squared_error(share[\"stayshealthy\"], share[\"pred_probit\"]),\n",
    "        ],\n",
    "        \"Pseudo R-squared\": [np.nan, logit_result.prsquared, probit_result.prsquared],\n",
    "        \"Log-loss\": [\n",
    "            -1 * log_loss(share[\"stayshealthy\"], share[\"pred_lpm\"]),\n",
    "            -1 * log_loss(share[\"stayshealthy\"], share[\"pred_logit\"]),\n",
    "            -1 * log_loss(share[\"stayshealthy\"], share[\"pred_probit\"]),\n",
    "        ],\n",
    "    },\n",
    "    index=[\"LPM\", \"Logit\", \"Probit\"],\n",
    ").T.round(3)\n"
   ]
  },
  {
   "cell_type": "markdown",
   "metadata": {},
   "source": [
    "### Figure 11.8 Calibration curves for the predictions of the linear probability and logit models"
   ]
  },
  {
   "cell_type": "markdown",
   "metadata": {},
   "source": [
    "(a) LPM"
   ]
  },
  {
   "cell_type": "code",
   "execution_count": 79,
   "metadata": {},
   "outputs": [
    {
     "data": {
      "image/png": "[encoded data removed]",
      "text/plain": [
       "<Figure size 640x480 with 1 Axes>"
      ]
     },
     "metadata": {},
     "output_type": "display_data"
    },
    {
     "data": {
      "text/plain": [
       "<ggplot: (8760266371577)>"
      ]
     },
     "execution_count": 79,
     "metadata": {},
     "output_type": "execute_result"
    }
   ],
   "source": [
    "create_calibration_plot(\n",
    "    share,\n",
    "    file_name=\"ch11-figure-8b-calib-logit\",\n",
    "    prob_var=\"pred_lpm\",\n",
    "    actual_var=\"stayshealthy\",\n",
    "    breaks=np.array(\n",
    "        [\n",
    "            0,\n",
    "            0.2,\n",
    "            0.25,\n",
    "            0.3,\n",
    "            0.35,\n",
    "            0.4,\n",
    "            0.45,\n",
    "            0.5,\n",
    "            0.55,\n",
    "            0.6,\n",
    "            0.65,\n",
    "            0.7,\n",
    "            0.75,\n",
    "            0.8,\n",
    "            0.85,\n",
    "            1.05,\n",
    "        ]\n",
    "    ),\n",
    ")\n"
   ]
  },
  {
   "cell_type": "markdown",
   "metadata": {},
   "source": [
    "(b) Logit"
   ]
  },
  {
   "cell_type": "code",
   "execution_count": 80,
   "metadata": {},
   "outputs": [
    {
     "data": {
      "image/png": "[encoded data removed]",
      "text/plain": [
       "<Figure size 640x480 with 1 Axes>"
      ]
     },
     "metadata": {},
     "output_type": "display_data"
    },
    {
     "data": {
      "text/plain": [
       "<ggplot: (8760266546129)>"
      ]
     },
     "execution_count": 80,
     "metadata": {},
     "output_type": "execute_result"
    }
   ],
   "source": [
    "create_calibration_plot(\n",
    "    share,\n",
    "    file_name=\"ch11-figure-8b-calib-logit\",\n",
    "    prob_var=\"pred_logit\",\n",
    "    actual_var=\"stayshealthy\",\n",
    "    breaks=np.array(\n",
    "        [\n",
    "            0,\n",
    "            0.2,\n",
    "            0.25,\n",
    "            0.3,\n",
    "            0.35,\n",
    "            0.4,\n",
    "            0.45,\n",
    "            0.5,\n",
    "            0.55,\n",
    "            0.6,\n",
    "            0.65,\n",
    "            0.7,\n",
    "            0.75,\n",
    "            0.8,\n",
    "            0.85,\n",
    "            1.05,\n",
    "        ]\n",
    "    ),\n",
    ")\n"
   ]
  },
  {
   "cell_type": "code",
   "execution_count": 81,
   "metadata": {},
   "outputs": [],
   "source": [
    "## Part 7\n"
   ]
  },
  {
   "cell_type": "code",
   "execution_count": 82,
   "metadata": {},
   "outputs": [],
   "source": [
    "df = share[[\"pred_lpmbase\", \"pred_lpm\", \"pred_logit\", \"pred_probit\"]].copy()\n"
   ]
  },
  {
   "cell_type": "code",
   "execution_count": 83,
   "metadata": {},
   "outputs": [],
   "source": [
    "for i in range(df.shape[0]):\n",
    "    for j in range(df.shape[1]):\n",
    "        if df.iloc[i, j] > 0.5:\n",
    "            df.iloc[i, j] = 1\n",
    "        else:\n",
    "            df.iloc[i, j] = 0\n"
   ]
  },
  {
   "cell_type": "code",
   "execution_count": 84,
   "metadata": {},
   "outputs": [
    {
     "data": {
      "text/html": [
       "<div>\n",
       "<style scoped>\n",
       "    .dataframe tbody tr th:only-of-type {\n",
       "        vertical-align: middle;\n",
       "    }\n",
       "\n",
       "    .dataframe tbody tr th {\n",
       "        vertical-align: top;\n",
       "    }\n",
       "\n",
       "    .dataframe thead th {\n",
       "        text-align: right;\n",
       "    }\n",
       "</style>\n",
       "<table border=\"1\" class=\"dataframe\">\n",
       "  <thead>\n",
       "    <tr style=\"text-align: right;\">\n",
       "      <th>stayshealthy</th>\n",
       "      <th>0.0</th>\n",
       "      <th>1.0</th>\n",
       "    </tr>\n",
       "    <tr>\n",
       "      <th>pred_lpmbase</th>\n",
       "      <th></th>\n",
       "      <th></th>\n",
       "    </tr>\n",
       "  </thead>\n",
       "  <tbody>\n",
       "    <tr>\n",
       "      <th>1.0</th>\n",
       "      <td>0.395304</td>\n",
       "      <td>0.604696</td>\n",
       "    </tr>\n",
       "  </tbody>\n",
       "</table>\n",
       "</div>"
      ],
      "text/plain": [
       "stayshealthy       0.0       1.0\n",
       "pred_lpmbase                    \n",
       "1.0           0.395304  0.604696"
      ]
     },
     "execution_count": 84,
     "metadata": {},
     "output_type": "execute_result"
    }
   ],
   "source": [
    "pd.crosstab(df.iloc[:, 0], share[\"stayshealthy\"], normalize=\"all\")\n"
   ]
  },
  {
   "cell_type": "code",
   "execution_count": 85,
   "metadata": {},
   "outputs": [
    {
     "name": "stdout",
     "output_type": "stream",
     "text": [
      "stayshealthy       0.0       1.0\n",
      "pred_lpmbase                    \n",
      "1.0           0.395304  0.604696\n",
      "stayshealthy  0.0  1.0\n",
      "pred_lpmbase          \n",
      "1.0           1.0  1.0\n",
      "stayshealthy       0.0       1.0\n",
      "pred_lpm                        \n",
      "0.0           0.149244  0.100675\n",
      "1.0           0.246060  0.504021\n",
      "stayshealthy       0.0       1.0\n",
      "pred_lpm                        \n",
      "0.0           0.377543  0.166489\n",
      "1.0           0.622457  0.833511\n",
      "stayshealthy       0.0       1.0\n",
      "pred_logit                      \n",
      "0.0           0.153104  0.101962\n",
      "1.0           0.242200  0.502734\n",
      "stayshealthy       0.0       1.0\n",
      "pred_logit                      \n",
      "0.0           0.387307  0.168617\n",
      "1.0           0.612693  0.831383\n",
      "stayshealthy       0.0       1.0\n",
      "pred_probit                     \n",
      "0.0           0.150209  0.101640\n",
      "1.0           0.245095  0.503056\n",
      "stayshealthy       0.0       1.0\n",
      "pred_probit                     \n",
      "0.0           0.379984  0.168085\n",
      "1.0           0.620016  0.831915\n"
     ]
    }
   ],
   "source": [
    "for j in range(df.shape[1]):\n",
    "    print(pd.crosstab(df.iloc[:, j], share[\"stayshealthy\"], normalize=\"all\"))\n",
    "    print(pd.crosstab(df.iloc[:, j], share[\"stayshealthy\"], normalize=\"columns\"))\n"
   ]
  },
  {
   "cell_type": "markdown",
   "metadata": {},
   "source": [
    "## Figure 11.4 The logit and probit link functions"
   ]
  },
  {
   "cell_type": "code",
   "execution_count": 86,
   "metadata": {},
   "outputs": [],
   "source": [
    "share = pd.read_csv(os.path.join(\"ch11_share.csv\"))\n"
   ]
  },
  {
   "cell_type": "code",
   "execution_count": 87,
   "metadata": {},
   "outputs": [],
   "source": [
    "share[\"country\"] = share[\"country\"].astype(\"category\")\n"
   ]
  },
  {
   "cell_type": "code",
   "execution_count": 88,
   "metadata": {},
   "outputs": [],
   "source": [
    "y, X = dmatrices(\n",
    "    \"stayshealthy ~ smoking + ever_smoked + female + age + lspline(eduyears,[8,18]) + \\\n",
    "                 income10 + lspline(bmi,[35]) + exerc + country\",\n",
    "    share,\n",
    ")\n"
   ]
  },
  {
   "cell_type": "code",
   "execution_count": 89,
   "metadata": {},
   "outputs": [
    {
     "name": "stdout",
     "output_type": "stream",
     "text": [
      "Optimization terminated successfully.\n",
      "         Current function value: 0.617166\n",
      "         Iterations 5\n"
     ]
    }
   ],
   "source": [
    "logit = sm.Logit(y, X).fit()\n"
   ]
  },
  {
   "cell_type": "code",
   "execution_count": 90,
   "metadata": {},
   "outputs": [
    {
     "data": {
      "text/html": [
       "<table class=\"simpletable\">\n",
       "<caption>Logit Regression Results</caption>\n",
       "<tr>\n",
       "  <th>Dep. Variable:</th>     <td>stayshealthy</td>   <th>  No. Observations:  </th>  <td>  3109</td>  \n",
       "</tr>\n",
       "<tr>\n",
       "  <th>Model:</th>                 <td>Logit</td>      <th>  Df Residuals:      </th>  <td>  3084</td>  \n",
       "</tr>\n",
       "<tr>\n",
       "  <th>Method:</th>                 <td>MLE</td>       <th>  Df Model:          </th>  <td>    24</td>  \n",
       "</tr>\n",
       "<tr>\n",
       "  <th>Date:</th>            <td>Wed, 03 May 2023</td> <th>  Pseudo R-squ.:     </th>  <td>0.08031</td> \n",
       "</tr>\n",
       "<tr>\n",
       "  <th>Time:</th>                <td>14:45:42</td>     <th>  Log-Likelihood:    </th> <td> -1918.8</td> \n",
       "</tr>\n",
       "<tr>\n",
       "  <th>converged:</th>             <td>True</td>       <th>  LL-Null:           </th> <td> -2086.3</td> \n",
       "</tr>\n",
       "<tr>\n",
       "  <th>Covariance Type:</th>     <td>nonrobust</td>    <th>  LLR p-value:       </th> <td>1.329e-56</td>\n",
       "</tr>\n",
       "</table>\n",
       "<table class=\"simpletable\">\n",
       "<tr>\n",
       "                <td></td>                   <th>coef</th>     <th>std err</th>      <th>z</th>      <th>P>|z|</th>  <th>[0.025</th>    <th>0.975]</th>  \n",
       "</tr>\n",
       "<tr>\n",
       "  <th>Intercept</th>                     <td>    2.2781</td> <td>    0.885</td> <td>    2.573</td> <td> 0.010</td> <td>    0.543</td> <td>    4.013</td>\n",
       "</tr>\n",
       "<tr>\n",
       "  <th>country[T.12]</th>                 <td>   -0.9828</td> <td>    0.330</td> <td>   -2.978</td> <td> 0.003</td> <td>   -1.630</td> <td>   -0.336</td>\n",
       "</tr>\n",
       "<tr>\n",
       "  <th>country[T.13]</th>                 <td>   -0.1972</td> <td>    0.276</td> <td>   -0.714</td> <td> 0.475</td> <td>   -0.739</td> <td>    0.344</td>\n",
       "</tr>\n",
       "<tr>\n",
       "  <th>country[T.15]</th>                 <td>   -0.6560</td> <td>    0.194</td> <td>   -3.382</td> <td> 0.001</td> <td>   -1.036</td> <td>   -0.276</td>\n",
       "</tr>\n",
       "<tr>\n",
       "  <th>country[T.16]</th>                 <td>   -1.1196</td> <td>    0.185</td> <td>   -6.051</td> <td> 0.000</td> <td>   -1.482</td> <td>   -0.757</td>\n",
       "</tr>\n",
       "<tr>\n",
       "  <th>country[T.17]</th>                 <td>   -0.7850</td> <td>    0.169</td> <td>   -4.640</td> <td> 0.000</td> <td>   -1.116</td> <td>   -0.453</td>\n",
       "</tr>\n",
       "<tr>\n",
       "  <th>country[T.18]</th>                 <td>    0.4358</td> <td>    0.181</td> <td>    2.411</td> <td> 0.016</td> <td>    0.082</td> <td>    0.790</td>\n",
       "</tr>\n",
       "<tr>\n",
       "  <th>country[T.20]</th>                 <td>    0.0679</td> <td>    0.159</td> <td>    0.426</td> <td> 0.670</td> <td>   -0.244</td> <td>    0.380</td>\n",
       "</tr>\n",
       "<tr>\n",
       "  <th>country[T.23]</th>                 <td>   -0.5734</td> <td>    0.157</td> <td>   -3.650</td> <td> 0.000</td> <td>   -0.881</td> <td>   -0.265</td>\n",
       "</tr>\n",
       "<tr>\n",
       "  <th>country[T.28]</th>                 <td>   -0.7552</td> <td>    0.176</td> <td>   -4.297</td> <td> 0.000</td> <td>   -1.100</td> <td>   -0.411</td>\n",
       "</tr>\n",
       "<tr>\n",
       "  <th>country[T.29]</th>                 <td>   -1.4707</td> <td>    0.395</td> <td>   -3.719</td> <td> 0.000</td> <td>   -2.246</td> <td>   -0.696</td>\n",
       "</tr>\n",
       "<tr>\n",
       "  <th>country[T.33]</th>                 <td>   -1.5783</td> <td>    0.301</td> <td>   -5.243</td> <td> 0.000</td> <td>   -2.168</td> <td>   -0.988</td>\n",
       "</tr>\n",
       "<tr>\n",
       "  <th>country[T.34]</th>                 <td>   -0.9203</td> <td>    0.205</td> <td>   -4.482</td> <td> 0.000</td> <td>   -1.323</td> <td>   -0.518</td>\n",
       "</tr>\n",
       "<tr>\n",
       "  <th>country[T.35]</th>                 <td>   -1.3535</td> <td>    0.211</td> <td>   -6.416</td> <td> 0.000</td> <td>   -1.767</td> <td>   -0.940</td>\n",
       "</tr>\n",
       "<tr>\n",
       "  <th>smoking</th>                       <td>   -0.2840</td> <td>    0.109</td> <td>   -2.601</td> <td> 0.009</td> <td>   -0.498</td> <td>   -0.070</td>\n",
       "</tr>\n",
       "<tr>\n",
       "  <th>ever_smoked</th>                   <td>    0.0782</td> <td>    0.092</td> <td>    0.849</td> <td> 0.396</td> <td>   -0.102</td> <td>    0.259</td>\n",
       "</tr>\n",
       "<tr>\n",
       "  <th>female</th>                        <td>    0.1608</td> <td>    0.082</td> <td>    1.964</td> <td> 0.050</td> <td>    0.000</td> <td>    0.321</td>\n",
       "</tr>\n",
       "<tr>\n",
       "  <th>age</th>                           <td>   -0.0123</td> <td>    0.014</td> <td>   -0.859</td> <td> 0.391</td> <td>   -0.040</td> <td>    0.016</td>\n",
       "</tr>\n",
       "<tr>\n",
       "  <th>lspline(eduyears, [8, 18])[0]</th> <td>   -0.0030</td> <td>    0.033</td> <td>   -0.090</td> <td> 0.928</td> <td>   -0.068</td> <td>    0.062</td>\n",
       "</tr>\n",
       "<tr>\n",
       "  <th>lspline(eduyears, [8, 18])[1]</th> <td>    0.0791</td> <td>    0.016</td> <td>    5.022</td> <td> 0.000</td> <td>    0.048</td> <td>    0.110</td>\n",
       "</tr>\n",
       "<tr>\n",
       "  <th>lspline(eduyears, [8, 18])[2]</th> <td>   -0.0457</td> <td>    0.055</td> <td>   -0.825</td> <td> 0.410</td> <td>   -0.154</td> <td>    0.063</td>\n",
       "</tr>\n",
       "<tr>\n",
       "  <th>income10</th>                      <td>    0.0356</td> <td>    0.015</td> <td>    2.452</td> <td> 0.014</td> <td>    0.007</td> <td>    0.064</td>\n",
       "</tr>\n",
       "<tr>\n",
       "  <th>lspline(bmi, [35])[0]</th>         <td>   -0.0575</td> <td>    0.011</td> <td>   -5.033</td> <td> 0.000</td> <td>   -0.080</td> <td>   -0.035</td>\n",
       "</tr>\n",
       "<tr>\n",
       "  <th>lspline(bmi, [35])[1]</th>         <td>    0.0311</td> <td>    0.071</td> <td>    0.439</td> <td> 0.661</td> <td>   -0.108</td> <td>    0.170</td>\n",
       "</tr>\n",
       "<tr>\n",
       "  <th>exerc</th>                         <td>    0.2548</td> <td>    0.079</td> <td>    3.229</td> <td> 0.001</td> <td>    0.100</td> <td>    0.410</td>\n",
       "</tr>\n",
       "</table>"
      ],
      "text/plain": [
       "<class 'statsmodels.iolib.summary.Summary'>\n",
       "\"\"\"\n",
       "                           Logit Regression Results                           \n",
       "==============================================================================\n",
       "Dep. Variable:           stayshealthy   No. Observations:                 3109\n",
       "Model:                          Logit   Df Residuals:                     3084\n",
       "Method:                           MLE   Df Model:                           24\n",
       "Date:                Wed, 03 May 2023   Pseudo R-squ.:                 0.08031\n",
       "Time:                        14:45:42   Log-Likelihood:                -1918.8\n",
       "converged:                       True   LL-Null:                       -2086.3\n",
       "Covariance Type:            nonrobust   LLR p-value:                 1.329e-56\n",
       "=================================================================================================\n",
       "                                    coef    std err          z      P>|z|      [0.025      0.975]\n",
       "-------------------------------------------------------------------------------------------------\n",
       "Intercept                         2.2781      0.885      2.573      0.010       0.543       4.013\n",
       "country[T.12]                    -0.9828      0.330     -2.978      0.003      -1.630      -0.336\n",
       "country[T.13]                    -0.1972      0.276     -0.714      0.475      -0.739       0.344\n",
       "country[T.15]                    -0.6560      0.194     -3.382      0.001      -1.036      -0.276\n",
       "country[T.16]                    -1.1196      0.185     -6.051      0.000      -1.482      -0.757\n",
       "country[T.17]                    -0.7850      0.169     -4.640      0.000      -1.116      -0.453\n",
       "country[T.18]                     0.4358      0.181      2.411      0.016       0.082       0.790\n",
       "country[T.20]                     0.0679      0.159      0.426      0.670      -0.244       0.380\n",
       "country[T.23]                    -0.5734      0.157     -3.650      0.000      -0.881      -0.265\n",
       "country[T.28]                    -0.7552      0.176     -4.297      0.000      -1.100      -0.411\n",
       "country[T.29]                    -1.4707      0.395     -3.719      0.000      -2.246      -0.696\n",
       "country[T.33]                    -1.5783      0.301     -5.243      0.000      -2.168      -0.988\n",
       "country[T.34]                    -0.9203      0.205     -4.482      0.000      -1.323      -0.518\n",
       "country[T.35]                    -1.3535      0.211     -6.416      0.000      -1.767      -0.940\n",
       "smoking                          -0.2840      0.109     -2.601      0.009      -0.498      -0.070\n",
       "ever_smoked                       0.0782      0.092      0.849      0.396      -0.102       0.259\n",
       "female                            0.1608      0.082      1.964      0.050       0.000       0.321\n",
       "age                              -0.0123      0.014     -0.859      0.391      -0.040       0.016\n",
       "lspline(eduyears, [8, 18])[0]    -0.0030      0.033     -0.090      0.928      -0.068       0.062\n",
       "lspline(eduyears, [8, 18])[1]     0.0791      0.016      5.022      0.000       0.048       0.110\n",
       "lspline(eduyears, [8, 18])[2]    -0.0457      0.055     -0.825      0.410      -0.154       0.063\n",
       "income10                          0.0356      0.015      2.452      0.014       0.007       0.064\n",
       "lspline(bmi, [35])[0]            -0.0575      0.011     -5.033      0.000      -0.080      -0.035\n",
       "lspline(bmi, [35])[1]             0.0311      0.071      0.439      0.661      -0.108       0.170\n",
       "exerc                             0.2548      0.079      3.229      0.001       0.100       0.410\n",
       "=================================================================================================\n",
       "\"\"\""
      ]
     },
     "execution_count": 90,
     "metadata": {},
     "output_type": "execute_result"
    }
   ],
   "source": [
    "logit.summary()\n"
   ]
  },
  {
   "cell_type": "code",
   "execution_count": 91,
   "metadata": {},
   "outputs": [],
   "source": [
    "share[\"bx_logit\"] = np.asarray(X).dot(logit.params)\n"
   ]
  },
  {
   "cell_type": "code",
   "execution_count": 92,
   "metadata": {},
   "outputs": [],
   "source": [
    "share[\"Logit\"] = logistic.cdf(share[\"bx_logit\"])\n"
   ]
  },
  {
   "cell_type": "code",
   "execution_count": 93,
   "metadata": {},
   "outputs": [
    {
     "name": "stdout",
     "output_type": "stream",
     "text": [
      "Optimization terminated successfully.\n",
      "         Current function value: 0.617255\n",
      "         Iterations 5\n"
     ]
    }
   ],
   "source": [
    "probit = sm.Probit(y, X).fit()\n"
   ]
  },
  {
   "cell_type": "code",
   "execution_count": 94,
   "metadata": {},
   "outputs": [
    {
     "data": {
      "text/html": [
       "<table class=\"simpletable\">\n",
       "<caption>Probit Regression Results</caption>\n",
       "<tr>\n",
       "  <th>Dep. Variable:</th>     <td>stayshealthy</td>   <th>  No. Observations:  </th>  <td>  3109</td>  \n",
       "</tr>\n",
       "<tr>\n",
       "  <th>Model:</th>                <td>Probit</td>      <th>  Df Residuals:      </th>  <td>  3084</td>  \n",
       "</tr>\n",
       "<tr>\n",
       "  <th>Method:</th>                 <td>MLE</td>       <th>  Df Model:          </th>  <td>    24</td>  \n",
       "</tr>\n",
       "<tr>\n",
       "  <th>Date:</th>            <td>Wed, 03 May 2023</td> <th>  Pseudo R-squ.:     </th>  <td>0.08018</td> \n",
       "</tr>\n",
       "<tr>\n",
       "  <th>Time:</th>                <td>14:45:42</td>     <th>  Log-Likelihood:    </th> <td> -1919.0</td> \n",
       "</tr>\n",
       "<tr>\n",
       "  <th>converged:</th>             <td>True</td>       <th>  LL-Null:           </th> <td> -2086.3</td> \n",
       "</tr>\n",
       "<tr>\n",
       "  <th>Covariance Type:</th>     <td>nonrobust</td>    <th>  LLR p-value:       </th> <td>1.722e-56</td>\n",
       "</tr>\n",
       "</table>\n",
       "<table class=\"simpletable\">\n",
       "<tr>\n",
       "                <td></td>                   <th>coef</th>     <th>std err</th>      <th>z</th>      <th>P>|z|</th>  <th>[0.025</th>    <th>0.975]</th>  \n",
       "</tr>\n",
       "<tr>\n",
       "  <th>Intercept</th>                     <td>    1.4340</td> <td>    0.540</td> <td>    2.656</td> <td> 0.008</td> <td>    0.376</td> <td>    2.492</td>\n",
       "</tr>\n",
       "<tr>\n",
       "  <th>country[T.12]</th>                 <td>   -0.5952</td> <td>    0.203</td> <td>   -2.926</td> <td> 0.003</td> <td>   -0.994</td> <td>   -0.197</td>\n",
       "</tr>\n",
       "<tr>\n",
       "  <th>country[T.13]</th>                 <td>   -0.1128</td> <td>    0.166</td> <td>   -0.678</td> <td> 0.498</td> <td>   -0.439</td> <td>    0.213</td>\n",
       "</tr>\n",
       "<tr>\n",
       "  <th>country[T.15]</th>                 <td>   -0.4007</td> <td>    0.119</td> <td>   -3.368</td> <td> 0.001</td> <td>   -0.634</td> <td>   -0.167</td>\n",
       "</tr>\n",
       "<tr>\n",
       "  <th>country[T.16]</th>                 <td>   -0.6872</td> <td>    0.113</td> <td>   -6.082</td> <td> 0.000</td> <td>   -0.909</td> <td>   -0.466</td>\n",
       "</tr>\n",
       "<tr>\n",
       "  <th>country[T.17]</th>                 <td>   -0.4761</td> <td>    0.103</td> <td>   -4.615</td> <td> 0.000</td> <td>   -0.678</td> <td>   -0.274</td>\n",
       "</tr>\n",
       "<tr>\n",
       "  <th>country[T.18]</th>                 <td>    0.2573</td> <td>    0.105</td> <td>    2.440</td> <td> 0.015</td> <td>    0.051</td> <td>    0.464</td>\n",
       "</tr>\n",
       "<tr>\n",
       "  <th>country[T.20]</th>                 <td>    0.0425</td> <td>    0.096</td> <td>    0.445</td> <td> 0.657</td> <td>   -0.145</td> <td>    0.230</td>\n",
       "</tr>\n",
       "<tr>\n",
       "  <th>country[T.23]</th>                 <td>   -0.3450</td> <td>    0.095</td> <td>   -3.622</td> <td> 0.000</td> <td>   -0.532</td> <td>   -0.158</td>\n",
       "</tr>\n",
       "<tr>\n",
       "  <th>country[T.28]</th>                 <td>   -0.4579</td> <td>    0.108</td> <td>   -4.252</td> <td> 0.000</td> <td>   -0.669</td> <td>   -0.247</td>\n",
       "</tr>\n",
       "<tr>\n",
       "  <th>country[T.29]</th>                 <td>   -0.8784</td> <td>    0.235</td> <td>   -3.740</td> <td> 0.000</td> <td>   -1.339</td> <td>   -0.418</td>\n",
       "</tr>\n",
       "<tr>\n",
       "  <th>country[T.33]</th>                 <td>   -0.9741</td> <td>    0.182</td> <td>   -5.359</td> <td> 0.000</td> <td>   -1.330</td> <td>   -0.618</td>\n",
       "</tr>\n",
       "<tr>\n",
       "  <th>country[T.34]</th>                 <td>   -0.5592</td> <td>    0.126</td> <td>   -4.426</td> <td> 0.000</td> <td>   -0.807</td> <td>   -0.312</td>\n",
       "</tr>\n",
       "<tr>\n",
       "  <th>country[T.35]</th>                 <td>   -0.8280</td> <td>    0.129</td> <td>   -6.407</td> <td> 0.000</td> <td>   -1.081</td> <td>   -0.575</td>\n",
       "</tr>\n",
       "<tr>\n",
       "  <th>smoking</th>                       <td>   -0.1705</td> <td>    0.066</td> <td>   -2.568</td> <td> 0.010</td> <td>   -0.301</td> <td>   -0.040</td>\n",
       "</tr>\n",
       "<tr>\n",
       "  <th>ever_smoked</th>                   <td>    0.0443</td> <td>    0.056</td> <td>    0.793</td> <td> 0.428</td> <td>   -0.065</td> <td>    0.154</td>\n",
       "</tr>\n",
       "<tr>\n",
       "  <th>female</th>                        <td>    0.0973</td> <td>    0.050</td> <td>    1.953</td> <td> 0.051</td> <td>   -0.000</td> <td>    0.195</td>\n",
       "</tr>\n",
       "<tr>\n",
       "  <th>age</th>                           <td>   -0.0083</td> <td>    0.009</td> <td>   -0.955</td> <td> 0.339</td> <td>   -0.025</td> <td>    0.009</td>\n",
       "</tr>\n",
       "<tr>\n",
       "  <th>lspline(eduyears, [8, 18])[0]</th> <td>   -0.0021</td> <td>    0.020</td> <td>   -0.102</td> <td> 0.918</td> <td>   -0.041</td> <td>    0.037</td>\n",
       "</tr>\n",
       "<tr>\n",
       "  <th>lspline(eduyears, [8, 18])[1]</th> <td>    0.0478</td> <td>    0.010</td> <td>    5.015</td> <td> 0.000</td> <td>    0.029</td> <td>    0.066</td>\n",
       "</tr>\n",
       "<tr>\n",
       "  <th>lspline(eduyears, [8, 18])[2]</th> <td>   -0.0286</td> <td>    0.033</td> <td>   -0.864</td> <td> 0.388</td> <td>   -0.093</td> <td>    0.036</td>\n",
       "</tr>\n",
       "<tr>\n",
       "  <th>income10</th>                      <td>    0.0216</td> <td>    0.009</td> <td>    2.446</td> <td> 0.014</td> <td>    0.004</td> <td>    0.039</td>\n",
       "</tr>\n",
       "<tr>\n",
       "  <th>lspline(bmi, [35])[0]</th>         <td>   -0.0346</td> <td>    0.007</td> <td>   -5.002</td> <td> 0.000</td> <td>   -0.048</td> <td>   -0.021</td>\n",
       "</tr>\n",
       "<tr>\n",
       "  <th>lspline(bmi, [35])[1]</th>         <td>    0.0169</td> <td>    0.044</td> <td>    0.388</td> <td> 0.698</td> <td>   -0.069</td> <td>    0.102</td>\n",
       "</tr>\n",
       "<tr>\n",
       "  <th>exerc</th>                         <td>    0.1510</td> <td>    0.048</td> <td>    3.148</td> <td> 0.002</td> <td>    0.057</td> <td>    0.245</td>\n",
       "</tr>\n",
       "</table>"
      ],
      "text/plain": [
       "<class 'statsmodels.iolib.summary.Summary'>\n",
       "\"\"\"\n",
       "                          Probit Regression Results                           \n",
       "==============================================================================\n",
       "Dep. Variable:           stayshealthy   No. Observations:                 3109\n",
       "Model:                         Probit   Df Residuals:                     3084\n",
       "Method:                           MLE   Df Model:                           24\n",
       "Date:                Wed, 03 May 2023   Pseudo R-squ.:                 0.08018\n",
       "Time:                        14:45:42   Log-Likelihood:                -1919.0\n",
       "converged:                       True   LL-Null:                       -2086.3\n",
       "Covariance Type:            nonrobust   LLR p-value:                 1.722e-56\n",
       "=================================================================================================\n",
       "                                    coef    std err          z      P>|z|      [0.025      0.975]\n",
       "-------------------------------------------------------------------------------------------------\n",
       "Intercept                         1.4340      0.540      2.656      0.008       0.376       2.492\n",
       "country[T.12]                    -0.5952      0.203     -2.926      0.003      -0.994      -0.197\n",
       "country[T.13]                    -0.1128      0.166     -0.678      0.498      -0.439       0.213\n",
       "country[T.15]                    -0.4007      0.119     -3.368      0.001      -0.634      -0.167\n",
       "country[T.16]                    -0.6872      0.113     -6.082      0.000      -0.909      -0.466\n",
       "country[T.17]                    -0.4761      0.103     -4.615      0.000      -0.678      -0.274\n",
       "country[T.18]                     0.2573      0.105      2.440      0.015       0.051       0.464\n",
       "country[T.20]                     0.0425      0.096      0.445      0.657      -0.145       0.230\n",
       "country[T.23]                    -0.3450      0.095     -3.622      0.000      -0.532      -0.158\n",
       "country[T.28]                    -0.4579      0.108     -4.252      0.000      -0.669      -0.247\n",
       "country[T.29]                    -0.8784      0.235     -3.740      0.000      -1.339      -0.418\n",
       "country[T.33]                    -0.9741      0.182     -5.359      0.000      -1.330      -0.618\n",
       "country[T.34]                    -0.5592      0.126     -4.426      0.000      -0.807      -0.312\n",
       "country[T.35]                    -0.8280      0.129     -6.407      0.000      -1.081      -0.575\n",
       "smoking                          -0.1705      0.066     -2.568      0.010      -0.301      -0.040\n",
       "ever_smoked                       0.0443      0.056      0.793      0.428      -0.065       0.154\n",
       "female                            0.0973      0.050      1.953      0.051      -0.000       0.195\n",
       "age                              -0.0083      0.009     -0.955      0.339      -0.025       0.009\n",
       "lspline(eduyears, [8, 18])[0]    -0.0021      0.020     -0.102      0.918      -0.041       0.037\n",
       "lspline(eduyears, [8, 18])[1]     0.0478      0.010      5.015      0.000       0.029       0.066\n",
       "lspline(eduyears, [8, 18])[2]    -0.0286      0.033     -0.864      0.388      -0.093       0.036\n",
       "income10                          0.0216      0.009      2.446      0.014       0.004       0.039\n",
       "lspline(bmi, [35])[0]            -0.0346      0.007     -5.002      0.000      -0.048      -0.021\n",
       "lspline(bmi, [35])[1]             0.0169      0.044      0.388      0.698      -0.069       0.102\n",
       "exerc                             0.1510      0.048      3.148      0.002       0.057       0.245\n",
       "=================================================================================================\n",
       "\"\"\""
      ]
     },
     "execution_count": 94,
     "metadata": {},
     "output_type": "execute_result"
    }
   ],
   "source": [
    "probit.summary()\n"
   ]
  },
  {
   "cell_type": "code",
   "execution_count": 95,
   "metadata": {},
   "outputs": [],
   "source": [
    "share[\"bx_probit\"] = np.asarray(X).dot(probit.params)\n"
   ]
  },
  {
   "cell_type": "code",
   "execution_count": 96,
   "metadata": {},
   "outputs": [],
   "source": [
    "share[\"Probit\"] = norm.cdf(share[\"bx_probit\"])\n"
   ]
  },
  {
   "cell_type": "code",
   "execution_count": 97,
   "metadata": {},
   "outputs": [],
   "source": [
    "share_plot = pd.melt(\n",
    "    share[[\"bx_logit\", \"Logit\", \"Probit\"]],\n",
    "    id_vars=[\"bx_logit\"],\n",
    "    value_vars=[\"Logit\", \"Probit\"],\n",
    ")\n"
   ]
  },
  {
   "cell_type": "code",
   "execution_count": 98,
   "metadata": {},
   "outputs": [
    {
     "data": {
      "image/png": "[encoded data removed]",
      "text/plain": [
       "<Figure size 640x480 with 1 Axes>"
      ]
     },
     "metadata": {},
     "output_type": "display_data"
    },
    {
     "data": {
      "text/plain": [
       "<ggplot: (8760283796453)>"
      ]
     },
     "execution_count": 98,
     "metadata": {},
     "output_type": "execute_result"
    }
   ],
   "source": [
    "g4 = (\n",
    "    ggplot(data=share_plot)\n",
    "    + geom_line(aes(x=\"bx_logit\", y=\"value\", color=\"variable\"), size=1)\n",
    "    + ylab(\"Probability\")\n",
    "    + xlab(\"Z values\")\n",
    "    + scale_color_manual(values=color[0:2], name=\" \", labels=(\"Logit\", \"Probit\"))\n",
    "    + scale_y_continuous(expand=[0.00, 0.00], limits=[0, 1], breaks=seq(0, 1.1, 0.2))\n",
    "    + theme_bw()\n",
    "    + theme(\n",
    "        legend_position=(0.8, 0.25),\n",
    "        legend_direction=\"vertical\",\n",
    "        legend_background=element_blank(),\n",
    "    )\n",
    ")\n",
    "g4"
   ]
  },
  {
   "cell_type": "code",
   "execution_count": null,
   "metadata": {},
   "outputs": [],
   "source": []
  }
 ],
 "metadata": {
  "kernelspec": {
   "display_name": "Python 3",
   "language": "python",
   "name": "python3"
  },
  "language_info": {
   "codemirror_mode": {
    "name": "ipython",
    "version": 3
   },
   "file_extension": ".py",
   "mimetype": "text/x-python",
   "name": "python",
   "nbconvert_exporter": "python",
   "pygments_lexer": "ipython3",
   "version": "3.7.4"
  },
  "vscode": {
   "interpreter": {
    "hash": "c01754e8627d0ea60fdf9a984fbf743943cf4db47884120dd04bfc512143b077"
   }
  }
 },
 "nbformat": 4,
 "nbformat_minor": 2
}
